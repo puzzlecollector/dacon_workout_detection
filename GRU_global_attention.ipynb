{
  "nbformat": 4,
  "nbformat_minor": 0,
  "metadata": {
    "colab": {
      "name": "GRU global attention.ipynb",
      "provenance": [],
      "collapsed_sections": [],
      "machine_shape": "hm"
    },
    "kernelspec": {
      "name": "python3",
      "display_name": "Python 3"
    },
    "accelerator": "GPU"
  },
  "cells": [
    {
      "cell_type": "code",
      "metadata": {
        "id": "Qfsj46nEeojO"
      },
      "source": [
        "import numpy as np \n",
        "import pandas as pd \n",
        "import os, datetime \n",
        "import tensorflow as tf\n",
        "from tensorflow.keras.models import *\n",
        "from tensorflow.keras.layers import *  \n",
        "from tensorflow.keras.callbacks import *\n",
        "import matplotlib.pyplot as plt \n",
        "from sklearn.model_selection import train_test_split, KFold, StratifiedKFold \n",
        "from tqdm import tqdm\n",
        "import random \n",
        "import time\n",
        "import pywt\n",
        "from keras import backend as K"
      ],
      "execution_count": 1,
      "outputs": []
    },
    {
      "cell_type": "code",
      "metadata": {
        "colab": {
          "base_uri": "https://localhost:8080/"
        },
        "id": "msirEs0Ze2Oq",
        "outputId": "3934ce4b-232a-4c85-aae1-cef9fd1ec32a"
      },
      "source": [
        "pip install tsaug"
      ],
      "execution_count": 2,
      "outputs": [
        {
          "output_type": "stream",
          "text": [
            "Collecting tsaug\n",
            "  Downloading https://files.pythonhosted.org/packages/e8/6e/8b1be145a32bba360c14322c3b87ad93d6227c46528d482c84eefe54094b/tsaug-0.2.1-py3-none-any.whl\n",
            "Requirement already satisfied: scipy>=1.1 in /usr/local/lib/python3.6/dist-packages (from tsaug) (1.4.1)\n",
            "Requirement already satisfied: numpy>=1.14 in /usr/local/lib/python3.6/dist-packages (from tsaug) (1.19.5)\n",
            "Installing collected packages: tsaug\n",
            "Successfully installed tsaug-0.2.1\n"
          ],
          "name": "stdout"
        }
      ]
    },
    {
      "cell_type": "code",
      "metadata": {
        "id": "3JXEem8Ae4UY"
      },
      "source": [
        "import tsaug\n",
        "from tsaug import TimeWarp, Crop, Quantize, Drift, Reverse "
      ],
      "execution_count": 3,
      "outputs": []
    },
    {
      "cell_type": "markdown",
      "metadata": {
        "id": "ZW-VbiMAe7mo"
      },
      "source": [
        "## Load Dataset"
      ]
    },
    {
      "cell_type": "code",
      "metadata": {
        "id": "M-8AlTP0e5wL"
      },
      "source": [
        "## Load data \n",
        "train_features = pd.read_csv('drive/MyDrive/movement_detection/train_features.csv')\n",
        "train_labels = pd.read_csv('drive/MyDrive/movement_detection/train_labels.csv')\n",
        "test_features = pd.read_csv('drive/MyDrive/movement_detection/test_features.csv')\n",
        "sample_submission = pd.read_csv('drive/MyDrive/movement_detection/sample_submission.csv')"
      ],
      "execution_count": 4,
      "outputs": []
    },
    {
      "cell_type": "code",
      "metadata": {
        "colab": {
          "base_uri": "https://localhost:8080/"
        },
        "id": "4SpZhkLje9K-",
        "outputId": "230c8f7b-21e9-496a-d906-3a705e90d1c2"
      },
      "source": [
        "X = tf.reshape(np.array(train_features.iloc[:,2:]),[-1, 600, 6])\n",
        "X = np.asarray(X) \n",
        "X.shape"
      ],
      "execution_count": 5,
      "outputs": [
        {
          "output_type": "execute_result",
          "data": {
            "text/plain": [
              "(3125, 600, 6)"
            ]
          },
          "metadata": {
            "tags": []
          },
          "execution_count": 5
        }
      ]
    },
    {
      "cell_type": "code",
      "metadata": {
        "colab": {
          "base_uri": "https://localhost:8080/"
        },
        "id": "C5zZUQpJe-ci",
        "outputId": "8b0d1af2-4d5b-4b48-8d98-d507f10c90e6"
      },
      "source": [
        "y = train_labels['label'].values\n",
        "y.shape"
      ],
      "execution_count": 6,
      "outputs": [
        {
          "output_type": "execute_result",
          "data": {
            "text/plain": [
              "(3125,)"
            ]
          },
          "metadata": {
            "tags": []
          },
          "execution_count": 6
        }
      ]
    },
    {
      "cell_type": "markdown",
      "metadata": {
        "id": "h6ylQV-LfALK"
      },
      "source": [
        "### Define Model"
      ]
    },
    {
      "cell_type": "code",
      "metadata": {
        "id": "YB9qr1_h9eWk"
      },
      "source": [
        "class attention(Layer):\n",
        "    def __init__(self,**kwargs):\n",
        "        super(attention,self).__init__(**kwargs)\n",
        "\n",
        "    def build(self,input_shape):\n",
        "        self.W=self.add_weight(name=\"att_weight\",shape=(input_shape[-1],1),initializer=\"normal\")\n",
        "        self.b=self.add_weight(name=\"att_bias\",shape=(input_shape[1],1),initializer=\"zeros\")        \n",
        "        super(attention, self).build(input_shape)\n",
        "\n",
        "    def call(self,x):\n",
        "        et=K.squeeze(K.tanh(K.dot(x,self.W)+self.b),axis=-1)\n",
        "        at=K.softmax(et)\n",
        "        at=K.expand_dims(at,axis=-1)\n",
        "        output=x*at\n",
        "        return K.sum(output,axis=1)\n",
        "\n",
        "    def compute_output_shape(self,input_shape):\n",
        "        return (input_shape[0],input_shape[-1])\n",
        "\n",
        "    def get_config(self):\n",
        "        return super(attention,self).get_config()\n"
      ],
      "execution_count": 7,
      "outputs": []
    },
    {
      "cell_type": "code",
      "metadata": {
        "id": "uv1oWuDfBORS"
      },
      "source": [
        "def build_model(seq_len, features): \n",
        "  inputs=Input((seq_len,features))\n",
        "  bn = BatchNormalization()(inputs)\n",
        "  gru = GRU(128,return_sequences=True)(bn)\n",
        "  dropout = Dropout(0.25)(gru) \n",
        "  att_out=attention()(dropout)\n",
        "  outputs=Dense(61,activation='softmax')(att_out)\n",
        "  model=Model(inputs,outputs)\n",
        "  model.compile(loss='sparse_categorical_crossentropy', optimizer = 'adam', metrics = ['accuracy']) \n",
        "  return model\n"
      ],
      "execution_count": 8,
      "outputs": []
    },
    {
      "cell_type": "code",
      "metadata": {
        "colab": {
          "base_uri": "https://localhost:8080/"
        },
        "id": "uDnrB5OsBuT_",
        "outputId": "f0fd07bf-feec-4a76-8a07-c5e1e775c92c"
      },
      "source": [
        "model = build_model(600, 18) \n",
        "model.summary()"
      ],
      "execution_count": 11,
      "outputs": [
        {
          "output_type": "stream",
          "text": [
            "Model: \"model_1\"\n",
            "_________________________________________________________________\n",
            "Layer (type)                 Output Shape              Param #   \n",
            "=================================================================\n",
            "input_2 (InputLayer)         [(None, 600, 18)]         0         \n",
            "_________________________________________________________________\n",
            "batch_normalization_1 (Batch (None, 600, 18)           72        \n",
            "_________________________________________________________________\n",
            "gru_1 (GRU)                  (None, 600, 128)          56832     \n",
            "_________________________________________________________________\n",
            "dropout_2 (Dropout)          (None, 600, 128)          0         \n",
            "_________________________________________________________________\n",
            "attention_1 (attention)      (None, 128)               728       \n",
            "_________________________________________________________________\n",
            "dense_2 (Dense)              (None, 61)                7869      \n",
            "=================================================================\n",
            "Total params: 65,501\n",
            "Trainable params: 65,465\n",
            "Non-trainable params: 36\n",
            "_________________________________________________________________\n"
          ],
          "name": "stdout"
        }
      ]
    },
    {
      "cell_type": "code",
      "metadata": {
        "colab": {
          "base_uri": "https://localhost:8080/"
        },
        "id": "rC3JSTlofa8R",
        "outputId": "dc3e64a3-61b3-46f6-931d-52d7cdcb126a"
      },
      "source": [
        "kfold = StratifiedKFold(n_splits = 10, random_state = 990101, shuffle = True)\n",
        "for idx,(train_idx, val_idx) in enumerate(kfold.split(X,y)):   \n",
        "    print(\"... Validating on fold {} ...\".format(idx+1))  \n",
        "    X_train, X_val = X[train_idx], X[val_idx]\n",
        "    y_train, y_val = y[train_idx], y[val_idx] \n",
        "    \n",
        "    ##### augment data #####\n",
        "    print(\"... Augmenting Data ...\")\n",
        "    X_augmented = [] \n",
        "    y_augmented = [] \n",
        "\n",
        "    for i in tqdm(range(X_train.shape[0]), position = 0, leave = True): \n",
        "        for j in range(10): # add random shift \n",
        "            shifted = np.roll(X_train[i], int(random.random() * 600)) \n",
        "            X_augmented.append(shifted) \n",
        "            y_augmented.append(y_train[i]) \n",
        "        for j in range(10): # add noise \n",
        "            noised = np.random.normal(0, 1, X_train[i].shape) + X_train[i] \n",
        "            X_augmented.append(noised) \n",
        "            y_augmented.append(y_train[i])   \n",
        "    \n",
        "\n",
        "    X_cropped = Crop(random.randint(300, 580), resize = 600).augment(X_train) \n",
        "    X_warped = TimeWarp(random.randint(3,20)).augment(X_train)  \n",
        "    X_reversed = Reverse().augment(X_train) \n",
        "    X_quantized = Quantize(random.randint(10,100)).augment(X_train)\n",
        "    x_dropout = tsaug.Dropout(p=(0.1,0.5)).augment(X_train)\n",
        "\n",
        "    X_augmented = np.asarray(X_augmented) \n",
        "    y_augmented = np.asarray(y_augmented)    \n",
        "\n",
        "    X_train = np.concatenate([X_train, X_augmented, X_cropped, X_warped, X_reversed, X_quantized, x_dropout]) \n",
        "    y_train = np.concatenate([y_train, y_augmented, y_train, y_train, y_train, y_train, y_train])  \n",
        "\n",
        "    print(\"Train shapes\")\n",
        "    print(X_train.shape, y_train.shape)  \n",
        "\n",
        "    ###### feature engineering data ##### \n",
        "    print(\"... DFFT Feature Engineering ...\")\n",
        "    X_fourier_real = [] \n",
        "    X_fourier_imag = [] \n",
        "    for i in tqdm(range(X_train.shape[0]), position = 0, leave = True):  \n",
        "        real_part = np.fft.fft(X_train[i]).real \n",
        "        imag_part = np.fft.fft(X_train[i]).imag \n",
        "        X_fourier_real.append(real_part)\n",
        "        X_fourier_imag.append(imag_part) \n",
        "    \n",
        "    X_fourier_real = np.asarray(X_fourier_real)  \n",
        "    X_fourier_imag = np.asarray(X_fourier_imag)\n",
        "    \n",
        "    X_val_fourier_real = [] \n",
        "    X_val_fourier_imag = [] \n",
        "    for i in tqdm(range(X_val.shape[0]), position = 0, leave = True):\n",
        "        real_part = np.fft.fft(X_val[i]).real \n",
        "        imag_part = np.fft.fft(X_val[i]).imag \n",
        "        X_val_fourier_real.append(real_part) \n",
        "        X_val_fourier_imag.append(imag_part)\n",
        "    \n",
        "    X_val_fourier_real = np.asarray(X_val_fourier_real) \n",
        "    X_val_fourier_imag = np.asarray(X_val_fourier_imag)\n",
        "    \n",
        "    X_train = np.concatenate([X_train, X_fourier_real, X_fourier_imag], axis = 2)  \n",
        "    X_val = np.concatenate([X_val, X_val_fourier_real, X_val_fourier_imag], axis = 2)\n",
        "\n",
        "    ##### train model #####  \n",
        "    print(\"... Building Model ...\")\n",
        "    # we have 18 features after feature engineering \n",
        "    model = build_model(600, 18) \n",
        "    print(\"... Training ...\") \n",
        "    model_path = 'drive/MyDrive/movement_detection/kfold' + str(idx+1) + '/GRU_ATTN_epoch_{epoch:03d}_val_{val_loss:.3f}_accuracy_{val_accuracy:.3f}.h5'\n",
        "    learning_rate_reduction = ReduceLROnPlateau(monitor = 'val_loss', patience = 1, verbose = 1, factor = 0.8)\n",
        "    checkpoint = ModelCheckpoint(filepath = model_path, monitor = 'val_loss', verbose = 1, save_best_only = True)\n",
        "    early_stopping = EarlyStopping(monitor = 'val_loss', patience = 5) \n",
        "\n",
        "    model.fit(X_train,\n",
        "              y_train,\n",
        "              epochs = 200,\n",
        "              batch_size = 32, # hyperparameter  \n",
        "              validation_data = (X_val, y_val), \n",
        "              callbacks = [learning_rate_reduction, checkpoint, early_stopping])\n",
        "\n"
      ],
      "execution_count": 12,
      "outputs": [
        {
          "output_type": "stream",
          "text": [
            "  2%|▏         | 58/2812 [00:00<00:04, 573.11it/s]"
          ],
          "name": "stderr"
        },
        {
          "output_type": "stream",
          "text": [
            "... Validating on fold 1 ...\n",
            "... Augmenting Data ...\n"
          ],
          "name": "stdout"
        },
        {
          "output_type": "stream",
          "text": [
            "100%|██████████| 2812/2812 [00:05<00:00, 490.77it/s]\n",
            "  1%|▏         | 1012/73112 [00:00<00:07, 10115.93it/s]"
          ],
          "name": "stderr"
        },
        {
          "output_type": "stream",
          "text": [
            "Train shapes\n",
            "(73112, 600, 6) (73112,)\n",
            "... DFFT Feature Engineering ...\n"
          ],
          "name": "stdout"
        },
        {
          "output_type": "stream",
          "text": [
            "100%|██████████| 73112/73112 [00:09<00:00, 7709.81it/s]\n",
            "100%|██████████| 313/313 [00:00<00:00, 11018.00it/s]\n"
          ],
          "name": "stderr"
        },
        {
          "output_type": "stream",
          "text": [
            "... Building Model ...\n",
            "... Training ...\n",
            "Epoch 1/200\n",
            "2285/2285 [==============================] - 57s 24ms/step - loss: 2.1849 - accuracy: 0.5322 - val_loss: 1.2215 - val_accuracy: 0.6486\n",
            "\n",
            "Epoch 00001: val_loss improved from inf to 1.22152, saving model to drive/MyDrive/movement_detection/kfold1/GRU_ATTN_epoch_001_val_1.222_accuracy_0.649.h5\n",
            "Epoch 2/200\n",
            "2285/2285 [==============================] - 54s 23ms/step - loss: 1.2472 - accuracy: 0.6598 - val_loss: 1.1443 - val_accuracy: 0.7029\n",
            "\n",
            "Epoch 00002: val_loss improved from 1.22152 to 1.14435, saving model to drive/MyDrive/movement_detection/kfold1/GRU_ATTN_epoch_002_val_1.144_accuracy_0.703.h5\n",
            "Epoch 3/200\n",
            "2285/2285 [==============================] - 54s 23ms/step - loss: 1.0471 - accuracy: 0.7078 - val_loss: 1.0314 - val_accuracy: 0.7220\n",
            "\n",
            "Epoch 00003: val_loss improved from 1.14435 to 1.03141, saving model to drive/MyDrive/movement_detection/kfold1/GRU_ATTN_epoch_003_val_1.031_accuracy_0.722.h5\n",
            "Epoch 4/200\n",
            "2285/2285 [==============================] - 54s 24ms/step - loss: 0.8287 - accuracy: 0.7664 - val_loss: 0.9646 - val_accuracy: 0.7412\n",
            "\n",
            "Epoch 00004: val_loss improved from 1.03141 to 0.96461, saving model to drive/MyDrive/movement_detection/kfold1/GRU_ATTN_epoch_004_val_0.965_accuracy_0.741.h5\n",
            "Epoch 5/200\n",
            "2285/2285 [==============================] - 54s 24ms/step - loss: 0.7250 - accuracy: 0.7968 - val_loss: 0.9438 - val_accuracy: 0.7444\n",
            "\n",
            "Epoch 00005: val_loss improved from 0.96461 to 0.94375, saving model to drive/MyDrive/movement_detection/kfold1/GRU_ATTN_epoch_005_val_0.944_accuracy_0.744.h5\n",
            "Epoch 6/200\n",
            "2285/2285 [==============================] - 54s 24ms/step - loss: 0.6124 - accuracy: 0.8304 - val_loss: 0.9786 - val_accuracy: 0.7572\n",
            "\n",
            "Epoch 00006: ReduceLROnPlateau reducing learning rate to 0.000800000037997961.\n",
            "\n",
            "Epoch 00006: val_loss did not improve from 0.94375\n",
            "Epoch 7/200\n",
            "2285/2285 [==============================] - 54s 23ms/step - loss: 0.5203 - accuracy: 0.8539 - val_loss: 0.9824 - val_accuracy: 0.7316\n",
            "\n",
            "Epoch 00007: ReduceLROnPlateau reducing learning rate to 0.0006400000303983689.\n",
            "\n",
            "Epoch 00007: val_loss did not improve from 0.94375\n",
            "Epoch 8/200\n",
            "2285/2285 [==============================] - 54s 23ms/step - loss: 0.4632 - accuracy: 0.8710 - val_loss: 0.9627 - val_accuracy: 0.7540\n",
            "\n",
            "Epoch 00008: ReduceLROnPlateau reducing learning rate to 0.0005120000336319208.\n",
            "\n",
            "Epoch 00008: val_loss did not improve from 0.94375\n",
            "Epoch 9/200\n",
            "2285/2285 [==============================] - 54s 24ms/step - loss: 0.4234 - accuracy: 0.8826 - val_loss: 1.0715 - val_accuracy: 0.7188\n",
            "\n",
            "Epoch 00009: ReduceLROnPlateau reducing learning rate to 0.00040960004553198815.\n",
            "\n",
            "Epoch 00009: val_loss did not improve from 0.94375\n",
            "Epoch 10/200\n",
            "2285/2285 [==============================] - 55s 24ms/step - loss: 0.3813 - accuracy: 0.8951 - val_loss: 1.1013 - val_accuracy: 0.7316\n",
            "\n",
            "Epoch 00010: ReduceLROnPlateau reducing learning rate to 0.00032768002711236477.\n",
            "\n",
            "Epoch 00010: val_loss did not improve from 0.94375\n",
            "... Validating on fold 2 ...\n",
            "... Augmenting Data ...\n"
          ],
          "name": "stdout"
        },
        {
          "output_type": "stream",
          "text": [
            "100%|██████████| 2812/2812 [00:05<00:00, 539.66it/s]\n",
            "  1%|▏         | 970/73112 [00:00<00:07, 9691.92it/s]"
          ],
          "name": "stderr"
        },
        {
          "output_type": "stream",
          "text": [
            "Train shapes\n",
            "(73112, 600, 6) (73112,)\n",
            "... DFFT Feature Engineering ...\n"
          ],
          "name": "stdout"
        },
        {
          "output_type": "stream",
          "text": [
            "100%|██████████| 73112/73112 [00:08<00:00, 9043.33it/s]\n",
            "100%|██████████| 313/313 [00:00<00:00, 10596.81it/s]\n"
          ],
          "name": "stderr"
        },
        {
          "output_type": "stream",
          "text": [
            "... Building Model ...\n",
            "... Training ...\n",
            "Epoch 1/200\n",
            "2285/2285 [==============================] - 57s 24ms/step - loss: 2.1809 - accuracy: 0.5323 - val_loss: 1.2944 - val_accuracy: 0.6422\n",
            "\n",
            "Epoch 00001: val_loss improved from inf to 1.29443, saving model to drive/MyDrive/movement_detection/kfold2/GRU_ATTN_epoch_001_val_1.294_accuracy_0.642.h5\n",
            "Epoch 2/200\n",
            "2285/2285 [==============================] - 55s 24ms/step - loss: 1.2363 - accuracy: 0.6634 - val_loss: 1.1077 - val_accuracy: 0.7157\n",
            "\n",
            "Epoch 00002: val_loss improved from 1.29443 to 1.10774, saving model to drive/MyDrive/movement_detection/kfold2/GRU_ATTN_epoch_002_val_1.108_accuracy_0.716.h5\n",
            "Epoch 3/200\n",
            "2285/2285 [==============================] - 55s 24ms/step - loss: 0.9686 - accuracy: 0.7292 - val_loss: 1.0062 - val_accuracy: 0.7252\n",
            "\n",
            "Epoch 00003: val_loss improved from 1.10774 to 1.00620, saving model to drive/MyDrive/movement_detection/kfold2/GRU_ATTN_epoch_003_val_1.006_accuracy_0.725.h5\n",
            "Epoch 4/200\n",
            "2285/2285 [==============================] - 55s 24ms/step - loss: 0.8110 - accuracy: 0.7707 - val_loss: 0.9923 - val_accuracy: 0.7348\n",
            "\n",
            "Epoch 00004: val_loss improved from 1.00620 to 0.99230, saving model to drive/MyDrive/movement_detection/kfold2/GRU_ATTN_epoch_004_val_0.992_accuracy_0.735.h5\n",
            "Epoch 5/200\n",
            "2285/2285 [==============================] - 55s 24ms/step - loss: 0.7196 - accuracy: 0.7976 - val_loss: 0.9689 - val_accuracy: 0.7157\n",
            "\n",
            "Epoch 00005: val_loss improved from 0.99230 to 0.96891, saving model to drive/MyDrive/movement_detection/kfold2/GRU_ATTN_epoch_005_val_0.969_accuracy_0.716.h5\n",
            "Epoch 6/200\n",
            "2285/2285 [==============================] - 55s 24ms/step - loss: 0.6230 - accuracy: 0.8233 - val_loss: 0.9661 - val_accuracy: 0.7476\n",
            "\n",
            "Epoch 00006: val_loss improved from 0.96891 to 0.96612, saving model to drive/MyDrive/movement_detection/kfold2/GRU_ATTN_epoch_006_val_0.966_accuracy_0.748.h5\n",
            "Epoch 7/200\n",
            "2285/2285 [==============================] - 55s 24ms/step - loss: 0.5814 - accuracy: 0.8333 - val_loss: 0.9574 - val_accuracy: 0.7157\n",
            "\n",
            "Epoch 00007: val_loss improved from 0.96612 to 0.95737, saving model to drive/MyDrive/movement_detection/kfold2/GRU_ATTN_epoch_007_val_0.957_accuracy_0.716.h5\n",
            "Epoch 8/200\n",
            "2285/2285 [==============================] - 55s 24ms/step - loss: 0.5275 - accuracy: 0.8495 - val_loss: 0.9864 - val_accuracy: 0.7380\n",
            "\n",
            "Epoch 00008: ReduceLROnPlateau reducing learning rate to 0.000800000037997961.\n",
            "\n",
            "Epoch 00008: val_loss did not improve from 0.95737\n",
            "Epoch 9/200\n",
            "2285/2285 [==============================] - 55s 24ms/step - loss: 0.4671 - accuracy: 0.8683 - val_loss: 0.9498 - val_accuracy: 0.7668\n",
            "\n",
            "Epoch 00009: val_loss improved from 0.95737 to 0.94984, saving model to drive/MyDrive/movement_detection/kfold2/GRU_ATTN_epoch_009_val_0.950_accuracy_0.767.h5\n",
            "Epoch 10/200\n",
            "2285/2285 [==============================] - 54s 24ms/step - loss: 0.4400 - accuracy: 0.8758 - val_loss: 1.0280 - val_accuracy: 0.7508\n",
            "\n",
            "Epoch 00010: ReduceLROnPlateau reducing learning rate to 0.0006400000303983689.\n",
            "\n",
            "Epoch 00010: val_loss did not improve from 0.94984\n",
            "Epoch 11/200\n",
            "2285/2285 [==============================] - 54s 24ms/step - loss: 0.4013 - accuracy: 0.8879 - val_loss: 1.0032 - val_accuracy: 0.7604\n",
            "\n",
            "Epoch 00011: ReduceLROnPlateau reducing learning rate to 0.0005120000336319208.\n",
            "\n",
            "Epoch 00011: val_loss did not improve from 0.94984\n",
            "Epoch 12/200\n",
            "2285/2285 [==============================] - 54s 24ms/step - loss: 0.3589 - accuracy: 0.9003 - val_loss: 0.9847 - val_accuracy: 0.7444\n",
            "\n",
            "Epoch 00012: ReduceLROnPlateau reducing learning rate to 0.00040960004553198815.\n",
            "\n",
            "Epoch 00012: val_loss did not improve from 0.94984\n",
            "Epoch 13/200\n",
            "2285/2285 [==============================] - 54s 24ms/step - loss: 0.3405 - accuracy: 0.9053 - val_loss: 0.9607 - val_accuracy: 0.7540\n",
            "\n",
            "Epoch 00013: ReduceLROnPlateau reducing learning rate to 0.00032768002711236477.\n",
            "\n",
            "Epoch 00013: val_loss did not improve from 0.94984\n",
            "Epoch 14/200\n",
            "2285/2285 [==============================] - 54s 24ms/step - loss: 0.3175 - accuracy: 0.9120 - val_loss: 1.0183 - val_accuracy: 0.7412\n",
            "\n",
            "Epoch 00014: ReduceLROnPlateau reducing learning rate to 0.0002621440216898918.\n",
            "\n",
            "Epoch 00014: val_loss did not improve from 0.94984\n",
            "... Validating on fold 3 ...\n"
          ],
          "name": "stdout"
        },
        {
          "output_type": "stream",
          "text": [
            "\r  0%|          | 0/2812 [00:00<?, ?it/s]"
          ],
          "name": "stderr"
        },
        {
          "output_type": "stream",
          "text": [
            "... Augmenting Data ...\n"
          ],
          "name": "stdout"
        },
        {
          "output_type": "stream",
          "text": [
            "100%|██████████| 2812/2812 [00:05<00:00, 489.34it/s]\n",
            "  1%|▏         | 969/73112 [00:00<00:07, 9682.58it/s]"
          ],
          "name": "stderr"
        },
        {
          "output_type": "stream",
          "text": [
            "Train shapes\n",
            "(73112, 600, 6) (73112,)\n",
            "... DFFT Feature Engineering ...\n"
          ],
          "name": "stdout"
        },
        {
          "output_type": "stream",
          "text": [
            "100%|██████████| 73112/73112 [00:09<00:00, 7866.14it/s]\n",
            "100%|██████████| 313/313 [00:00<00:00, 9979.91it/s]\n"
          ],
          "name": "stderr"
        },
        {
          "output_type": "stream",
          "text": [
            "... Building Model ...\n",
            "... Training ...\n",
            "Epoch 1/200\n",
            "2285/2285 [==============================] - 59s 25ms/step - loss: 2.1837 - accuracy: 0.5349 - val_loss: 1.3038 - val_accuracy: 0.6486\n",
            "\n",
            "Epoch 00001: val_loss improved from inf to 1.30378, saving model to drive/MyDrive/movement_detection/kfold3/GRU_ATTN_epoch_001_val_1.304_accuracy_0.649.h5\n",
            "Epoch 2/200\n",
            "2285/2285 [==============================] - 57s 25ms/step - loss: 1.4653 - accuracy: 0.6188 - val_loss: 1.4428 - val_accuracy: 0.6422\n",
            "\n",
            "Epoch 00002: ReduceLROnPlateau reducing learning rate to 0.000800000037997961.\n",
            "\n",
            "Epoch 00002: val_loss did not improve from 1.30378\n",
            "Epoch 3/200\n",
            "2285/2285 [==============================] - 57s 25ms/step - loss: 1.4802 - accuracy: 0.6188 - val_loss: 1.3389 - val_accuracy: 0.6422\n",
            "\n",
            "Epoch 00003: ReduceLROnPlateau reducing learning rate to 0.0006400000303983689.\n",
            "\n",
            "Epoch 00003: val_loss did not improve from 1.30378\n",
            "Epoch 4/200\n",
            "2285/2285 [==============================] - 57s 25ms/step - loss: 1.3025 - accuracy: 0.6492 - val_loss: 1.2616 - val_accuracy: 0.6709\n",
            "\n",
            "Epoch 00004: val_loss improved from 1.30378 to 1.26156, saving model to drive/MyDrive/movement_detection/kfold3/GRU_ATTN_epoch_004_val_1.262_accuracy_0.671.h5\n",
            "Epoch 5/200\n",
            "2285/2285 [==============================] - 54s 24ms/step - loss: 1.2006 - accuracy: 0.6727 - val_loss: 1.2036 - val_accuracy: 0.6869\n",
            "\n",
            "Epoch 00005: val_loss improved from 1.26156 to 1.20356, saving model to drive/MyDrive/movement_detection/kfold3/GRU_ATTN_epoch_005_val_1.204_accuracy_0.687.h5\n",
            "Epoch 6/200\n",
            "2285/2285 [==============================] - 54s 24ms/step - loss: 1.0993 - accuracy: 0.6942 - val_loss: 1.1229 - val_accuracy: 0.7220\n",
            "\n",
            "Epoch 00006: val_loss improved from 1.20356 to 1.12290, saving model to drive/MyDrive/movement_detection/kfold3/GRU_ATTN_epoch_006_val_1.123_accuracy_0.722.h5\n",
            "Epoch 7/200\n",
            "2285/2285 [==============================] - 54s 24ms/step - loss: 1.0040 - accuracy: 0.7195 - val_loss: 1.1179 - val_accuracy: 0.7157\n",
            "\n",
            "Epoch 00007: val_loss improved from 1.12290 to 1.11791, saving model to drive/MyDrive/movement_detection/kfold3/GRU_ATTN_epoch_007_val_1.118_accuracy_0.716.h5\n",
            "Epoch 8/200\n",
            "2285/2285 [==============================] - 55s 24ms/step - loss: 0.9202 - accuracy: 0.7383 - val_loss: 1.0480 - val_accuracy: 0.7348\n",
            "\n",
            "Epoch 00008: val_loss improved from 1.11791 to 1.04800, saving model to drive/MyDrive/movement_detection/kfold3/GRU_ATTN_epoch_008_val_1.048_accuracy_0.735.h5\n",
            "Epoch 9/200\n",
            "2285/2285 [==============================] - 55s 24ms/step - loss: 0.8259 - accuracy: 0.7672 - val_loss: 1.0044 - val_accuracy: 0.7636\n",
            "\n",
            "Epoch 00009: val_loss improved from 1.04800 to 1.00442, saving model to drive/MyDrive/movement_detection/kfold3/GRU_ATTN_epoch_009_val_1.004_accuracy_0.764.h5\n",
            "Epoch 10/200\n",
            "2285/2285 [==============================] - 54s 24ms/step - loss: 0.7218 - accuracy: 0.7957 - val_loss: 1.0095 - val_accuracy: 0.7572\n",
            "\n",
            "Epoch 00010: ReduceLROnPlateau reducing learning rate to 0.0005120000336319208.\n",
            "\n",
            "Epoch 00010: val_loss did not improve from 1.00442\n",
            "Epoch 11/200\n",
            "2285/2285 [==============================] - 54s 24ms/step - loss: 0.6373 - accuracy: 0.8206 - val_loss: 1.0008 - val_accuracy: 0.7636\n",
            "\n",
            "Epoch 00011: val_loss improved from 1.00442 to 1.00083, saving model to drive/MyDrive/movement_detection/kfold3/GRU_ATTN_epoch_011_val_1.001_accuracy_0.764.h5\n",
            "Epoch 12/200\n",
            "2285/2285 [==============================] - 55s 24ms/step - loss: 0.5930 - accuracy: 0.8330 - val_loss: 1.0119 - val_accuracy: 0.7636\n",
            "\n",
            "Epoch 00012: ReduceLROnPlateau reducing learning rate to 0.00040960004553198815.\n",
            "\n",
            "Epoch 00012: val_loss did not improve from 1.00083\n",
            "Epoch 13/200\n",
            "2285/2285 [==============================] - 55s 24ms/step - loss: 0.5432 - accuracy: 0.8490 - val_loss: 1.0248 - val_accuracy: 0.7827\n",
            "\n",
            "Epoch 00013: ReduceLROnPlateau reducing learning rate to 0.00032768002711236477.\n",
            "\n",
            "Epoch 00013: val_loss did not improve from 1.00083\n",
            "Epoch 14/200\n",
            "2285/2285 [==============================] - 55s 24ms/step - loss: 0.5045 - accuracy: 0.8604 - val_loss: 1.0689 - val_accuracy: 0.7636\n",
            "\n",
            "Epoch 00014: ReduceLROnPlateau reducing learning rate to 0.0002621440216898918.\n",
            "\n",
            "Epoch 00014: val_loss did not improve from 1.00083\n",
            "Epoch 15/200\n",
            "2285/2285 [==============================] - 55s 24ms/step - loss: 0.4680 - accuracy: 0.8701 - val_loss: 1.0100 - val_accuracy: 0.7796\n",
            "\n",
            "Epoch 00015: ReduceLROnPlateau reducing learning rate to 0.00020971521735191345.\n",
            "\n",
            "Epoch 00015: val_loss did not improve from 1.00083\n",
            "Epoch 16/200\n",
            "2285/2285 [==============================] - 54s 24ms/step - loss: 0.4525 - accuracy: 0.8754 - val_loss: 1.0433 - val_accuracy: 0.7700\n",
            "\n",
            "Epoch 00016: ReduceLROnPlateau reducing learning rate to 0.00016777217388153076.\n",
            "\n",
            "Epoch 00016: val_loss did not improve from 1.00083\n",
            "... Validating on fold 4 ...\n"
          ],
          "name": "stdout"
        },
        {
          "output_type": "stream",
          "text": [
            "  2%|▏         | 51/2812 [00:00<00:05, 505.00it/s]"
          ],
          "name": "stderr"
        },
        {
          "output_type": "stream",
          "text": [
            "... Augmenting Data ...\n"
          ],
          "name": "stdout"
        },
        {
          "output_type": "stream",
          "text": [
            "100%|██████████| 2812/2812 [00:05<00:00, 488.78it/s]\n",
            "  1%|▏         | 1004/73112 [00:00<00:07, 10034.39it/s]"
          ],
          "name": "stderr"
        },
        {
          "output_type": "stream",
          "text": [
            "Train shapes\n",
            "(73112, 600, 6) (73112,)\n",
            "... DFFT Feature Engineering ...\n"
          ],
          "name": "stdout"
        },
        {
          "output_type": "stream",
          "text": [
            "100%|██████████| 73112/73112 [00:10<00:00, 7062.78it/s]\n",
            "100%|██████████| 313/313 [00:00<00:00, 9802.63it/s]\n"
          ],
          "name": "stderr"
        },
        {
          "output_type": "stream",
          "text": [
            "... Building Model ...\n",
            "... Training ...\n",
            "Epoch 1/200\n",
            "2285/2285 [==============================] - 56s 24ms/step - loss: 2.1883 - accuracy: 0.5387 - val_loss: 1.3908 - val_accuracy: 0.6358\n",
            "\n",
            "Epoch 00001: val_loss improved from inf to 1.39084, saving model to drive/MyDrive/movement_detection/kfold4/GRU_ATTN_epoch_001_val_1.391_accuracy_0.636.h5\n",
            "Epoch 2/200\n",
            "2285/2285 [==============================] - 54s 24ms/step - loss: 1.4217 - accuracy: 0.6290 - val_loss: 1.1257 - val_accuracy: 0.6837\n",
            "\n",
            "Epoch 00002: val_loss improved from 1.39084 to 1.12568, saving model to drive/MyDrive/movement_detection/kfold4/GRU_ATTN_epoch_002_val_1.126_accuracy_0.684.h5\n",
            "Epoch 3/200\n",
            "2285/2285 [==============================] - 55s 24ms/step - loss: 1.1921 - accuracy: 0.6762 - val_loss: 1.0559 - val_accuracy: 0.6709\n",
            "\n",
            "Epoch 00003: val_loss improved from 1.12568 to 1.05593, saving model to drive/MyDrive/movement_detection/kfold4/GRU_ATTN_epoch_003_val_1.056_accuracy_0.671.h5\n",
            "Epoch 4/200\n",
            "2285/2285 [==============================] - 54s 24ms/step - loss: 1.0518 - accuracy: 0.7074 - val_loss: 0.9729 - val_accuracy: 0.7284\n",
            "\n",
            "Epoch 00004: val_loss improved from 1.05593 to 0.97288, saving model to drive/MyDrive/movement_detection/kfold4/GRU_ATTN_epoch_004_val_0.973_accuracy_0.728.h5\n",
            "Epoch 5/200\n",
            "2285/2285 [==============================] - 54s 24ms/step - loss: 0.8986 - accuracy: 0.7481 - val_loss: 0.8911 - val_accuracy: 0.7380\n",
            "\n",
            "Epoch 00005: val_loss improved from 0.97288 to 0.89115, saving model to drive/MyDrive/movement_detection/kfold4/GRU_ATTN_epoch_005_val_0.891_accuracy_0.738.h5\n",
            "Epoch 6/200\n",
            "2285/2285 [==============================] - 55s 24ms/step - loss: 0.7664 - accuracy: 0.7840 - val_loss: 0.8763 - val_accuracy: 0.7540\n",
            "\n",
            "Epoch 00006: val_loss improved from 0.89115 to 0.87631, saving model to drive/MyDrive/movement_detection/kfold4/GRU_ATTN_epoch_006_val_0.876_accuracy_0.754.h5\n",
            "Epoch 7/200\n",
            "2285/2285 [==============================] - 54s 24ms/step - loss: 0.6709 - accuracy: 0.8090 - val_loss: 0.8844 - val_accuracy: 0.7859\n",
            "\n",
            "Epoch 00007: ReduceLROnPlateau reducing learning rate to 0.000800000037997961.\n",
            "\n",
            "Epoch 00007: val_loss did not improve from 0.87631\n",
            "Epoch 8/200\n",
            "2285/2285 [==============================] - 55s 24ms/step - loss: 0.5888 - accuracy: 0.8316 - val_loss: 0.8696 - val_accuracy: 0.7668\n",
            "\n",
            "Epoch 00008: val_loss improved from 0.87631 to 0.86959, saving model to drive/MyDrive/movement_detection/kfold4/GRU_ATTN_epoch_008_val_0.870_accuracy_0.767.h5\n",
            "Epoch 9/200\n",
            "2285/2285 [==============================] - 55s 24ms/step - loss: 0.5273 - accuracy: 0.8537 - val_loss: 0.8713 - val_accuracy: 0.7859\n",
            "\n",
            "Epoch 00009: ReduceLROnPlateau reducing learning rate to 0.0006400000303983689.\n",
            "\n",
            "Epoch 00009: val_loss did not improve from 0.86959\n",
            "Epoch 10/200\n",
            "2285/2285 [==============================] - 55s 24ms/step - loss: 0.4787 - accuracy: 0.8656 - val_loss: 0.8559 - val_accuracy: 0.7891\n",
            "\n",
            "Epoch 00010: val_loss improved from 0.86959 to 0.85593, saving model to drive/MyDrive/movement_detection/kfold4/GRU_ATTN_epoch_010_val_0.856_accuracy_0.789.h5\n",
            "Epoch 11/200\n",
            "2285/2285 [==============================] - 55s 24ms/step - loss: 0.4436 - accuracy: 0.8765 - val_loss: 0.8572 - val_accuracy: 0.7827\n",
            "\n",
            "Epoch 00011: ReduceLROnPlateau reducing learning rate to 0.0005120000336319208.\n",
            "\n",
            "Epoch 00011: val_loss did not improve from 0.85593\n",
            "Epoch 12/200\n",
            "2285/2285 [==============================] - 55s 24ms/step - loss: 0.4112 - accuracy: 0.8836 - val_loss: 0.8454 - val_accuracy: 0.7796\n",
            "\n",
            "Epoch 00012: val_loss improved from 0.85593 to 0.84537, saving model to drive/MyDrive/movement_detection/kfold4/GRU_ATTN_epoch_012_val_0.845_accuracy_0.780.h5\n",
            "Epoch 13/200\n",
            "2285/2285 [==============================] - 55s 24ms/step - loss: 0.3987 - accuracy: 0.8896 - val_loss: 0.8428 - val_accuracy: 0.8051\n",
            "\n",
            "Epoch 00013: val_loss improved from 0.84537 to 0.84281, saving model to drive/MyDrive/movement_detection/kfold4/GRU_ATTN_epoch_013_val_0.843_accuracy_0.805.h5\n",
            "Epoch 14/200\n",
            "2285/2285 [==============================] - 55s 24ms/step - loss: 0.3723 - accuracy: 0.8962 - val_loss: 0.8633 - val_accuracy: 0.7732\n",
            "\n",
            "Epoch 00014: ReduceLROnPlateau reducing learning rate to 0.00040960004553198815.\n",
            "\n",
            "Epoch 00014: val_loss did not improve from 0.84281\n",
            "Epoch 15/200\n",
            "2285/2285 [==============================] - 55s 24ms/step - loss: 0.3606 - accuracy: 0.9008 - val_loss: 0.8736 - val_accuracy: 0.7987\n",
            "\n",
            "Epoch 00015: ReduceLROnPlateau reducing learning rate to 0.00032768002711236477.\n",
            "\n",
            "Epoch 00015: val_loss did not improve from 0.84281\n",
            "Epoch 16/200\n",
            "2285/2285 [==============================] - 54s 24ms/step - loss: 0.3344 - accuracy: 0.9079 - val_loss: 0.8719 - val_accuracy: 0.7796\n",
            "\n",
            "Epoch 00016: ReduceLROnPlateau reducing learning rate to 0.0002621440216898918.\n",
            "\n",
            "Epoch 00016: val_loss did not improve from 0.84281\n",
            "Epoch 17/200\n",
            "2285/2285 [==============================] - 54s 24ms/step - loss: 0.3168 - accuracy: 0.9115 - val_loss: 0.8575 - val_accuracy: 0.7955\n",
            "\n",
            "Epoch 00017: ReduceLROnPlateau reducing learning rate to 0.00020971521735191345.\n",
            "\n",
            "Epoch 00017: val_loss did not improve from 0.84281\n",
            "Epoch 18/200\n",
            "2285/2285 [==============================] - 55s 24ms/step - loss: 0.3041 - accuracy: 0.9171 - val_loss: 0.8316 - val_accuracy: 0.7923\n",
            "\n",
            "Epoch 00018: val_loss improved from 0.84281 to 0.83158, saving model to drive/MyDrive/movement_detection/kfold4/GRU_ATTN_epoch_018_val_0.832_accuracy_0.792.h5\n",
            "Epoch 19/200\n",
            "2285/2285 [==============================] - 55s 24ms/step - loss: 0.3018 - accuracy: 0.9172 - val_loss: 0.8437 - val_accuracy: 0.7955\n",
            "\n",
            "Epoch 00019: ReduceLROnPlateau reducing learning rate to 0.00016777217388153076.\n",
            "\n",
            "Epoch 00019: val_loss did not improve from 0.83158\n",
            "Epoch 20/200\n",
            "2285/2285 [==============================] - 55s 24ms/step - loss: 0.2920 - accuracy: 0.9202 - val_loss: 0.8741 - val_accuracy: 0.7955\n",
            "\n",
            "Epoch 00020: ReduceLROnPlateau reducing learning rate to 0.00013421773910522462.\n",
            "\n",
            "Epoch 00020: val_loss did not improve from 0.83158\n",
            "Epoch 21/200\n",
            "2285/2285 [==============================] - 55s 24ms/step - loss: 0.2790 - accuracy: 0.9235 - val_loss: 0.8843 - val_accuracy: 0.7827\n",
            "\n",
            "Epoch 00021: ReduceLROnPlateau reducing learning rate to 0.00010737419361248613.\n",
            "\n",
            "Epoch 00021: val_loss did not improve from 0.83158\n",
            "Epoch 22/200\n",
            "2285/2285 [==============================] - 55s 24ms/step - loss: 0.2709 - accuracy: 0.9252 - val_loss: 0.8823 - val_accuracy: 0.7987\n",
            "\n",
            "Epoch 00022: ReduceLROnPlateau reducing learning rate to 8.589935605414213e-05.\n",
            "\n",
            "Epoch 00022: val_loss did not improve from 0.83158\n",
            "Epoch 23/200\n",
            "2285/2285 [==============================] - 54s 24ms/step - loss: 0.2683 - accuracy: 0.9266 - val_loss: 0.8723 - val_accuracy: 0.7796\n",
            "\n",
            "Epoch 00023: ReduceLROnPlateau reducing learning rate to 6.871948717162013e-05.\n",
            "\n",
            "Epoch 00023: val_loss did not improve from 0.83158\n",
            "... Validating on fold 5 ...\n"
          ],
          "name": "stdout"
        },
        {
          "output_type": "stream",
          "text": [
            "\r  0%|          | 0/2812 [00:00<?, ?it/s]"
          ],
          "name": "stderr"
        },
        {
          "output_type": "stream",
          "text": [
            "... Augmenting Data ...\n"
          ],
          "name": "stdout"
        },
        {
          "output_type": "stream",
          "text": [
            "100%|██████████| 2812/2812 [00:05<00:00, 476.11it/s]\n",
            "  1%|▏         | 988/73112 [00:00<00:07, 9879.70it/s]"
          ],
          "name": "stderr"
        },
        {
          "output_type": "stream",
          "text": [
            "Train shapes\n",
            "(73112, 600, 6) (73112,)\n",
            "... DFFT Feature Engineering ...\n"
          ],
          "name": "stdout"
        },
        {
          "output_type": "stream",
          "text": [
            "100%|██████████| 73112/73112 [00:10<00:00, 7267.77it/s]\n",
            "100%|██████████| 313/313 [00:00<00:00, 9715.65it/s]\n"
          ],
          "name": "stderr"
        },
        {
          "output_type": "stream",
          "text": [
            "... Building Model ...\n",
            "... Training ...\n",
            "Epoch 1/200\n",
            "2285/2285 [==============================] - 57s 24ms/step - loss: 2.1529 - accuracy: 0.5340 - val_loss: 1.3101 - val_accuracy: 0.6486\n",
            "\n",
            "Epoch 00001: val_loss improved from inf to 1.31006, saving model to drive/MyDrive/movement_detection/kfold5/GRU_ATTN_epoch_001_val_1.310_accuracy_0.649.h5\n",
            "Epoch 2/200\n",
            "2285/2285 [==============================] - 55s 24ms/step - loss: 1.2327 - accuracy: 0.6645 - val_loss: 1.5615 - val_accuracy: 0.6230\n",
            "\n",
            "Epoch 00002: ReduceLROnPlateau reducing learning rate to 0.000800000037997961.\n",
            "\n",
            "Epoch 00002: val_loss did not improve from 1.31006\n",
            "Epoch 3/200\n",
            "2285/2285 [==============================] - 55s 24ms/step - loss: 1.1473 - accuracy: 0.6916 - val_loss: 1.0075 - val_accuracy: 0.7284\n",
            "\n",
            "Epoch 00003: val_loss improved from 1.31006 to 1.00755, saving model to drive/MyDrive/movement_detection/kfold5/GRU_ATTN_epoch_003_val_1.008_accuracy_0.728.h5\n",
            "Epoch 4/200\n",
            "2285/2285 [==============================] - 55s 24ms/step - loss: 0.8823 - accuracy: 0.7525 - val_loss: 0.9665 - val_accuracy: 0.7284\n",
            "\n",
            "Epoch 00004: val_loss improved from 1.00755 to 0.96648, saving model to drive/MyDrive/movement_detection/kfold5/GRU_ATTN_epoch_004_val_0.966_accuracy_0.728.h5\n",
            "Epoch 5/200\n",
            "2285/2285 [==============================] - 55s 24ms/step - loss: 0.7903 - accuracy: 0.7809 - val_loss: 0.9672 - val_accuracy: 0.7476\n",
            "\n",
            "Epoch 00005: ReduceLROnPlateau reducing learning rate to 0.0006400000303983689.\n",
            "\n",
            "Epoch 00005: val_loss did not improve from 0.96648\n",
            "Epoch 6/200\n",
            "2285/2285 [==============================] - 55s 24ms/step - loss: 0.6549 - accuracy: 0.8145 - val_loss: 0.9145 - val_accuracy: 0.7348\n",
            "\n",
            "Epoch 00006: val_loss improved from 0.96648 to 0.91447, saving model to drive/MyDrive/movement_detection/kfold5/GRU_ATTN_epoch_006_val_0.914_accuracy_0.735.h5\n",
            "Epoch 7/200\n",
            "2285/2285 [==============================] - 55s 24ms/step - loss: 0.6008 - accuracy: 0.8313 - val_loss: 0.9503 - val_accuracy: 0.7412\n",
            "\n",
            "Epoch 00007: ReduceLROnPlateau reducing learning rate to 0.0005120000336319208.\n",
            "\n",
            "Epoch 00007: val_loss did not improve from 0.91447\n",
            "Epoch 8/200\n",
            "2285/2285 [==============================] - 55s 24ms/step - loss: 0.5231 - accuracy: 0.8527 - val_loss: 0.9506 - val_accuracy: 0.7476\n",
            "\n",
            "Epoch 00008: ReduceLROnPlateau reducing learning rate to 0.00040960004553198815.\n",
            "\n",
            "Epoch 00008: val_loss did not improve from 0.91447\n",
            "Epoch 9/200\n",
            "2285/2285 [==============================] - 55s 24ms/step - loss: 0.4773 - accuracy: 0.8671 - val_loss: 0.9364 - val_accuracy: 0.7316\n",
            "\n",
            "Epoch 00009: ReduceLROnPlateau reducing learning rate to 0.00032768002711236477.\n",
            "\n",
            "Epoch 00009: val_loss did not improve from 0.91447\n",
            "Epoch 10/200\n",
            "2285/2285 [==============================] - 55s 24ms/step - loss: 0.4426 - accuracy: 0.8779 - val_loss: 0.9743 - val_accuracy: 0.7508\n",
            "\n",
            "Epoch 00010: ReduceLROnPlateau reducing learning rate to 0.0002621440216898918.\n",
            "\n",
            "Epoch 00010: val_loss did not improve from 0.91447\n",
            "Epoch 11/200\n",
            "2285/2285 [==============================] - 55s 24ms/step - loss: 0.4188 - accuracy: 0.8848 - val_loss: 0.9615 - val_accuracy: 0.7540\n",
            "\n",
            "Epoch 00011: ReduceLROnPlateau reducing learning rate to 0.00020971521735191345.\n",
            "\n",
            "Epoch 00011: val_loss did not improve from 0.91447\n",
            "... Validating on fold 6 ...\n",
            "... Augmenting Data ...\n"
          ],
          "name": "stdout"
        },
        {
          "output_type": "stream",
          "text": [
            "100%|██████████| 2813/2813 [00:05<00:00, 513.14it/s]\n",
            "  1%|▏         | 962/73138 [00:00<00:07, 9613.48it/s]"
          ],
          "name": "stderr"
        },
        {
          "output_type": "stream",
          "text": [
            "Train shapes\n",
            "(73138, 600, 6) (73138,)\n",
            "... DFFT Feature Engineering ...\n"
          ],
          "name": "stdout"
        },
        {
          "output_type": "stream",
          "text": [
            "100%|██████████| 73138/73138 [00:12<00:00, 5682.94it/s]\n",
            "100%|██████████| 312/312 [00:00<00:00, 10083.94it/s]\n"
          ],
          "name": "stderr"
        },
        {
          "output_type": "stream",
          "text": [
            "... Building Model ...\n",
            "... Training ...\n",
            "Epoch 1/200\n",
            "2286/2286 [==============================] - 57s 24ms/step - loss: 2.2088 - accuracy: 0.5296 - val_loss: 1.4385 - val_accuracy: 0.6410\n",
            "\n",
            "Epoch 00001: val_loss improved from inf to 1.43846, saving model to drive/MyDrive/movement_detection/kfold6/GRU_ATTN_epoch_001_val_1.438_accuracy_0.641.h5\n",
            "Epoch 2/200\n",
            "2286/2286 [==============================] - 55s 24ms/step - loss: 1.3276 - accuracy: 0.6420 - val_loss: 1.1306 - val_accuracy: 0.7019\n",
            "\n",
            "Epoch 00002: val_loss improved from 1.43846 to 1.13061, saving model to drive/MyDrive/movement_detection/kfold6/GRU_ATTN_epoch_002_val_1.131_accuracy_0.702.h5\n",
            "Epoch 3/200\n",
            "2286/2286 [==============================] - 55s 24ms/step - loss: 1.0319 - accuracy: 0.7126 - val_loss: 1.0182 - val_accuracy: 0.7308\n",
            "\n",
            "Epoch 00003: val_loss improved from 1.13061 to 1.01817, saving model to drive/MyDrive/movement_detection/kfold6/GRU_ATTN_epoch_003_val_1.018_accuracy_0.731.h5\n",
            "Epoch 4/200\n",
            "2286/2286 [==============================] - 55s 24ms/step - loss: 0.9095 - accuracy: 0.7450 - val_loss: 0.9951 - val_accuracy: 0.7372\n",
            "\n",
            "Epoch 00004: val_loss improved from 1.01817 to 0.99506, saving model to drive/MyDrive/movement_detection/kfold6/GRU_ATTN_epoch_004_val_0.995_accuracy_0.737.h5\n",
            "Epoch 5/200\n",
            "2286/2286 [==============================] - 55s 24ms/step - loss: 0.7072 - accuracy: 0.7974 - val_loss: 0.9154 - val_accuracy: 0.7436\n",
            "\n",
            "Epoch 00005: val_loss improved from 0.99506 to 0.91543, saving model to drive/MyDrive/movement_detection/kfold6/GRU_ATTN_epoch_005_val_0.915_accuracy_0.744.h5\n",
            "Epoch 6/200\n",
            "2286/2286 [==============================] - 55s 24ms/step - loss: 0.6137 - accuracy: 0.8269 - val_loss: 0.9306 - val_accuracy: 0.7372\n",
            "\n",
            "Epoch 00006: ReduceLROnPlateau reducing learning rate to 0.000800000037997961.\n",
            "\n",
            "Epoch 00006: val_loss did not improve from 0.91543\n",
            "Epoch 7/200\n",
            "2286/2286 [==============================] - 55s 24ms/step - loss: 0.5261 - accuracy: 0.8515 - val_loss: 0.9295 - val_accuracy: 0.7628\n",
            "\n",
            "Epoch 00007: ReduceLROnPlateau reducing learning rate to 0.0006400000303983689.\n",
            "\n",
            "Epoch 00007: val_loss did not improve from 0.91543\n",
            "Epoch 8/200\n",
            "2286/2286 [==============================] - 55s 24ms/step - loss: 0.4543 - accuracy: 0.8750 - val_loss: 0.8990 - val_accuracy: 0.7436\n",
            "\n",
            "Epoch 00008: val_loss improved from 0.91543 to 0.89898, saving model to drive/MyDrive/movement_detection/kfold6/GRU_ATTN_epoch_008_val_0.899_accuracy_0.744.h5\n",
            "Epoch 9/200\n",
            "2286/2286 [==============================] - 54s 24ms/step - loss: 0.4141 - accuracy: 0.8846 - val_loss: 0.9585 - val_accuracy: 0.7404\n",
            "\n",
            "Epoch 00009: ReduceLROnPlateau reducing learning rate to 0.0005120000336319208.\n",
            "\n",
            "Epoch 00009: val_loss did not improve from 0.89898\n",
            "Epoch 10/200\n",
            "2286/2286 [==============================] - 55s 24ms/step - loss: 0.3739 - accuracy: 0.8955 - val_loss: 0.9471 - val_accuracy: 0.7564\n",
            "\n",
            "Epoch 00010: ReduceLROnPlateau reducing learning rate to 0.00040960004553198815.\n",
            "\n",
            "Epoch 00010: val_loss did not improve from 0.89898\n",
            "Epoch 11/200\n",
            "2286/2286 [==============================] - 54s 24ms/step - loss: 0.3452 - accuracy: 0.9061 - val_loss: 0.9711 - val_accuracy: 0.7564\n",
            "\n",
            "Epoch 00011: ReduceLROnPlateau reducing learning rate to 0.00032768002711236477.\n",
            "\n",
            "Epoch 00011: val_loss did not improve from 0.89898\n",
            "Epoch 12/200\n",
            "2286/2286 [==============================] - 55s 24ms/step - loss: 0.3121 - accuracy: 0.9135 - val_loss: 1.0035 - val_accuracy: 0.7596\n",
            "\n",
            "Epoch 00012: ReduceLROnPlateau reducing learning rate to 0.0002621440216898918.\n",
            "\n",
            "Epoch 00012: val_loss did not improve from 0.89898\n",
            "Epoch 13/200\n",
            "2286/2286 [==============================] - 55s 24ms/step - loss: 0.2937 - accuracy: 0.9186 - val_loss: 0.9753 - val_accuracy: 0.7692\n",
            "\n",
            "Epoch 00013: ReduceLROnPlateau reducing learning rate to 0.00020971521735191345.\n",
            "\n",
            "Epoch 00013: val_loss did not improve from 0.89898\n",
            "... Validating on fold 7 ...\n",
            "... Augmenting Data ...\n"
          ],
          "name": "stdout"
        },
        {
          "output_type": "stream",
          "text": [
            "100%|██████████| 2813/2813 [00:06<00:00, 440.30it/s]\n",
            "  1%|▏         | 985/73138 [00:00<00:07, 9839.94it/s]"
          ],
          "name": "stderr"
        },
        {
          "output_type": "stream",
          "text": [
            "Train shapes\n",
            "(73138, 600, 6) (73138,)\n",
            "... DFFT Feature Engineering ...\n"
          ],
          "name": "stdout"
        },
        {
          "output_type": "stream",
          "text": [
            "100%|██████████| 73138/73138 [00:11<00:00, 6275.38it/s]\n",
            "100%|██████████| 312/312 [00:00<00:00, 9892.30it/s]\n"
          ],
          "name": "stderr"
        },
        {
          "output_type": "stream",
          "text": [
            "... Building Model ...\n",
            "... Training ...\n",
            "Epoch 1/200\n",
            "2286/2286 [==============================] - 57s 24ms/step - loss: 2.1686 - accuracy: 0.5322 - val_loss: 1.3531 - val_accuracy: 0.6474\n",
            "\n",
            "Epoch 00001: val_loss improved from inf to 1.35311, saving model to drive/MyDrive/movement_detection/kfold7/GRU_ATTN_epoch_001_val_1.353_accuracy_0.647.h5\n",
            "Epoch 2/200\n",
            "2286/2286 [==============================] - 55s 24ms/step - loss: 1.3631 - accuracy: 0.6422 - val_loss: 1.3346 - val_accuracy: 0.6314\n",
            "\n",
            "Epoch 00002: val_loss improved from 1.35311 to 1.33458, saving model to drive/MyDrive/movement_detection/kfold7/GRU_ATTN_epoch_002_val_1.335_accuracy_0.631.h5\n",
            "Epoch 3/200\n",
            "2286/2286 [==============================] - 55s 24ms/step - loss: 1.0585 - accuracy: 0.7065 - val_loss: 1.1499 - val_accuracy: 0.7019\n",
            "\n",
            "Epoch 00003: val_loss improved from 1.33458 to 1.14990, saving model to drive/MyDrive/movement_detection/kfold7/GRU_ATTN_epoch_003_val_1.150_accuracy_0.702.h5\n",
            "Epoch 4/200\n",
            "2286/2286 [==============================] - 55s 24ms/step - loss: 0.9338 - accuracy: 0.7381 - val_loss: 1.0656 - val_accuracy: 0.7436\n",
            "\n",
            "Epoch 00004: val_loss improved from 1.14990 to 1.06558, saving model to drive/MyDrive/movement_detection/kfold7/GRU_ATTN_epoch_004_val_1.066_accuracy_0.744.h5\n",
            "Epoch 5/200\n",
            "2286/2286 [==============================] - 55s 24ms/step - loss: 0.7839 - accuracy: 0.7777 - val_loss: 1.0008 - val_accuracy: 0.7468\n",
            "\n",
            "Epoch 00005: val_loss improved from 1.06558 to 1.00080, saving model to drive/MyDrive/movement_detection/kfold7/GRU_ATTN_epoch_005_val_1.001_accuracy_0.747.h5\n",
            "Epoch 6/200\n",
            "2286/2286 [==============================] - 55s 24ms/step - loss: 0.6881 - accuracy: 0.8047 - val_loss: 0.9891 - val_accuracy: 0.7532\n",
            "\n",
            "Epoch 00006: val_loss improved from 1.00080 to 0.98906, saving model to drive/MyDrive/movement_detection/kfold7/GRU_ATTN_epoch_006_val_0.989_accuracy_0.753.h5\n",
            "Epoch 7/200\n",
            "2286/2286 [==============================] - 55s 24ms/step - loss: 0.6091 - accuracy: 0.8267 - val_loss: 0.9879 - val_accuracy: 0.7404\n",
            "\n",
            "Epoch 00007: val_loss improved from 0.98906 to 0.98788, saving model to drive/MyDrive/movement_detection/kfold7/GRU_ATTN_epoch_007_val_0.988_accuracy_0.740.h5\n",
            "Epoch 8/200\n",
            "2286/2286 [==============================] - 55s 24ms/step - loss: 0.5460 - accuracy: 0.8452 - val_loss: 0.9915 - val_accuracy: 0.7276\n",
            "\n",
            "Epoch 00008: ReduceLROnPlateau reducing learning rate to 0.000800000037997961.\n",
            "\n",
            "Epoch 00008: val_loss did not improve from 0.98788\n",
            "Epoch 9/200\n",
            "2286/2286 [==============================] - 55s 24ms/step - loss: 0.4697 - accuracy: 0.8665 - val_loss: 1.0551 - val_accuracy: 0.7468\n",
            "\n",
            "Epoch 00009: ReduceLROnPlateau reducing learning rate to 0.0006400000303983689.\n",
            "\n",
            "Epoch 00009: val_loss did not improve from 0.98788\n",
            "Epoch 10/200\n",
            "2286/2286 [==============================] - 55s 24ms/step - loss: 0.4274 - accuracy: 0.8794 - val_loss: 1.0033 - val_accuracy: 0.7596\n",
            "\n",
            "Epoch 00010: ReduceLROnPlateau reducing learning rate to 0.0005120000336319208.\n",
            "\n",
            "Epoch 00010: val_loss did not improve from 0.98788\n",
            "Epoch 11/200\n",
            "2286/2286 [==============================] - 55s 24ms/step - loss: 0.3856 - accuracy: 0.8931 - val_loss: 1.0233 - val_accuracy: 0.7564\n",
            "\n",
            "Epoch 00011: ReduceLROnPlateau reducing learning rate to 0.00040960004553198815.\n",
            "\n",
            "Epoch 00011: val_loss did not improve from 0.98788\n",
            "Epoch 12/200\n",
            "2286/2286 [==============================] - 55s 24ms/step - loss: 0.3544 - accuracy: 0.9026 - val_loss: 0.9933 - val_accuracy: 0.7564\n",
            "\n",
            "Epoch 00012: ReduceLROnPlateau reducing learning rate to 0.00032768002711236477.\n",
            "\n",
            "Epoch 00012: val_loss did not improve from 0.98788\n",
            "... Validating on fold 8 ...\n"
          ],
          "name": "stdout"
        },
        {
          "output_type": "stream",
          "text": [
            "  2%|▏         | 50/2813 [00:00<00:05, 498.68it/s]"
          ],
          "name": "stderr"
        },
        {
          "output_type": "stream",
          "text": [
            "... Augmenting Data ...\n"
          ],
          "name": "stdout"
        },
        {
          "output_type": "stream",
          "text": [
            "100%|██████████| 2813/2813 [00:05<00:00, 479.05it/s]\n",
            "  1%|▏         | 974/73138 [00:00<00:07, 9730.66it/s]"
          ],
          "name": "stderr"
        },
        {
          "output_type": "stream",
          "text": [
            "Train shapes\n",
            "(73138, 600, 6) (73138,)\n",
            "... DFFT Feature Engineering ...\n"
          ],
          "name": "stdout"
        },
        {
          "output_type": "stream",
          "text": [
            "100%|██████████| 73138/73138 [00:11<00:00, 6226.72it/s]\n",
            "100%|██████████| 312/312 [00:00<00:00, 10523.11it/s]\n"
          ],
          "name": "stderr"
        },
        {
          "output_type": "stream",
          "text": [
            "... Building Model ...\n",
            "... Training ...\n",
            "Epoch 1/200\n",
            "2286/2286 [==============================] - 57s 24ms/step - loss: 2.1469 - accuracy: 0.5368 - val_loss: 1.2171 - val_accuracy: 0.6795\n",
            "\n",
            "Epoch 00001: val_loss improved from inf to 1.21711, saving model to drive/MyDrive/movement_detection/kfold8/GRU_ATTN_epoch_001_val_1.217_accuracy_0.679.h5\n",
            "Epoch 2/200\n",
            "2286/2286 [==============================] - 55s 24ms/step - loss: 1.2565 - accuracy: 0.6587 - val_loss: 1.0131 - val_accuracy: 0.7115\n",
            "\n",
            "Epoch 00002: val_loss improved from 1.21711 to 1.01312, saving model to drive/MyDrive/movement_detection/kfold8/GRU_ATTN_epoch_002_val_1.013_accuracy_0.712.h5\n",
            "Epoch 3/200\n",
            "2286/2286 [==============================] - 55s 24ms/step - loss: 1.0256 - accuracy: 0.7124 - val_loss: 0.9187 - val_accuracy: 0.7596\n",
            "\n",
            "Epoch 00003: val_loss improved from 1.01312 to 0.91869, saving model to drive/MyDrive/movement_detection/kfold8/GRU_ATTN_epoch_003_val_0.919_accuracy_0.760.h5\n",
            "Epoch 4/200\n",
            "2286/2286 [==============================] - 55s 24ms/step - loss: 0.8272 - accuracy: 0.7662 - val_loss: 0.8884 - val_accuracy: 0.7564\n",
            "\n",
            "Epoch 00004: val_loss improved from 0.91869 to 0.88845, saving model to drive/MyDrive/movement_detection/kfold8/GRU_ATTN_epoch_004_val_0.888_accuracy_0.756.h5\n",
            "Epoch 5/200\n",
            "2286/2286 [==============================] - 55s 24ms/step - loss: 0.6923 - accuracy: 0.8027 - val_loss: 0.8456 - val_accuracy: 0.7692\n",
            "\n",
            "Epoch 00005: val_loss improved from 0.88845 to 0.84564, saving model to drive/MyDrive/movement_detection/kfold8/GRU_ATTN_epoch_005_val_0.846_accuracy_0.769.h5\n",
            "Epoch 6/200\n",
            "2286/2286 [==============================] - 54s 24ms/step - loss: 0.6050 - accuracy: 0.8304 - val_loss: 0.9097 - val_accuracy: 0.7564\n",
            "\n",
            "Epoch 00006: ReduceLROnPlateau reducing learning rate to 0.000800000037997961.\n",
            "\n",
            "Epoch 00006: val_loss did not improve from 0.84564\n",
            "Epoch 7/200\n",
            "2286/2286 [==============================] - 53s 23ms/step - loss: 0.5115 - accuracy: 0.8555 - val_loss: 0.9718 - val_accuracy: 0.7372\n",
            "\n",
            "Epoch 00007: ReduceLROnPlateau reducing learning rate to 0.0006400000303983689.\n",
            "\n",
            "Epoch 00007: val_loss did not improve from 0.84564\n",
            "Epoch 8/200\n",
            "2286/2286 [==============================] - 53s 23ms/step - loss: 0.4807 - accuracy: 0.8657 - val_loss: 0.8489 - val_accuracy: 0.7788\n",
            "\n",
            "Epoch 00008: ReduceLROnPlateau reducing learning rate to 0.0005120000336319208.\n",
            "\n",
            "Epoch 00008: val_loss did not improve from 0.84564\n",
            "Epoch 9/200\n",
            "2286/2286 [==============================] - 53s 23ms/step - loss: 0.4093 - accuracy: 0.8873 - val_loss: 0.8912 - val_accuracy: 0.7660\n",
            "\n",
            "Epoch 00009: ReduceLROnPlateau reducing learning rate to 0.00040960004553198815.\n",
            "\n",
            "Epoch 00009: val_loss did not improve from 0.84564\n",
            "Epoch 10/200\n",
            "2286/2286 [==============================] - 53s 23ms/step - loss: 0.3852 - accuracy: 0.8930 - val_loss: 0.8965 - val_accuracy: 0.7885\n",
            "\n",
            "Epoch 00010: ReduceLROnPlateau reducing learning rate to 0.00032768002711236477.\n",
            "\n",
            "Epoch 00010: val_loss did not improve from 0.84564\n",
            "... Validating on fold 9 ...\n"
          ],
          "name": "stdout"
        },
        {
          "output_type": "stream",
          "text": [
            "  2%|▏         | 52/2813 [00:00<00:05, 517.94it/s]"
          ],
          "name": "stderr"
        },
        {
          "output_type": "stream",
          "text": [
            "... Augmenting Data ...\n"
          ],
          "name": "stdout"
        },
        {
          "output_type": "stream",
          "text": [
            "100%|██████████| 2813/2813 [00:05<00:00, 489.97it/s]\n",
            "  1%|▏         | 982/73138 [00:00<00:07, 9816.12it/s]"
          ],
          "name": "stderr"
        },
        {
          "output_type": "stream",
          "text": [
            "Train shapes\n",
            "(73138, 600, 6) (73138,)\n",
            "... DFFT Feature Engineering ...\n"
          ],
          "name": "stdout"
        },
        {
          "output_type": "stream",
          "text": [
            "100%|██████████| 73138/73138 [00:11<00:00, 6375.10it/s]\n",
            "100%|██████████| 312/312 [00:00<00:00, 9610.78it/s]\n"
          ],
          "name": "stderr"
        },
        {
          "output_type": "stream",
          "text": [
            "... Building Model ...\n",
            "... Training ...\n",
            "Epoch 1/200\n",
            "2286/2286 [==============================] - 55s 23ms/step - loss: 2.1531 - accuracy: 0.5355 - val_loss: 1.2457 - val_accuracy: 0.6731\n",
            "\n",
            "Epoch 00001: val_loss improved from inf to 1.24566, saving model to drive/MyDrive/movement_detection/kfold9/GRU_ATTN_epoch_001_val_1.246_accuracy_0.673.h5\n",
            "Epoch 2/200\n",
            "2286/2286 [==============================] - 53s 23ms/step - loss: 1.2059 - accuracy: 0.6704 - val_loss: 1.0298 - val_accuracy: 0.7276\n",
            "\n",
            "Epoch 00002: val_loss improved from 1.24566 to 1.02977, saving model to drive/MyDrive/movement_detection/kfold9/GRU_ATTN_epoch_002_val_1.030_accuracy_0.728.h5\n",
            "Epoch 3/200\n",
            "2286/2286 [==============================] - 53s 23ms/step - loss: 0.9268 - accuracy: 0.7385 - val_loss: 0.9167 - val_accuracy: 0.7404\n",
            "\n",
            "Epoch 00003: val_loss improved from 1.02977 to 0.91665, saving model to drive/MyDrive/movement_detection/kfold9/GRU_ATTN_epoch_003_val_0.917_accuracy_0.740.h5\n",
            "Epoch 4/200\n",
            "2286/2286 [==============================] - 53s 23ms/step - loss: 0.7796 - accuracy: 0.7762 - val_loss: 0.8853 - val_accuracy: 0.7564\n",
            "\n",
            "Epoch 00004: val_loss improved from 0.91665 to 0.88530, saving model to drive/MyDrive/movement_detection/kfold9/GRU_ATTN_epoch_004_val_0.885_accuracy_0.756.h5\n",
            "Epoch 5/200\n",
            "2286/2286 [==============================] - 53s 23ms/step - loss: 0.7097 - accuracy: 0.8019 - val_loss: 1.5467 - val_accuracy: 0.6186\n",
            "\n",
            "Epoch 00005: ReduceLROnPlateau reducing learning rate to 0.000800000037997961.\n",
            "\n",
            "Epoch 00005: val_loss did not improve from 0.88530\n",
            "Epoch 6/200\n",
            "2286/2286 [==============================] - 53s 23ms/step - loss: 1.4135 - accuracy: 0.6477 - val_loss: 1.0586 - val_accuracy: 0.7147\n",
            "\n",
            "Epoch 00006: ReduceLROnPlateau reducing learning rate to 0.0006400000303983689.\n",
            "\n",
            "Epoch 00006: val_loss did not improve from 0.88530\n",
            "Epoch 7/200\n",
            "2286/2286 [==============================] - 53s 23ms/step - loss: 0.9962 - accuracy: 0.7255 - val_loss: 1.0036 - val_accuracy: 0.7276\n",
            "\n",
            "Epoch 00007: ReduceLROnPlateau reducing learning rate to 0.0005120000336319208.\n",
            "\n",
            "Epoch 00007: val_loss did not improve from 0.88530\n",
            "Epoch 8/200\n",
            "2286/2286 [==============================] - 53s 23ms/step - loss: 0.8601 - accuracy: 0.7588 - val_loss: 0.9620 - val_accuracy: 0.7436\n",
            "\n",
            "Epoch 00008: ReduceLROnPlateau reducing learning rate to 0.00040960004553198815.\n",
            "\n",
            "Epoch 00008: val_loss did not improve from 0.88530\n",
            "Epoch 9/200\n",
            "2286/2286 [==============================] - 53s 23ms/step - loss: 0.7715 - accuracy: 0.7817 - val_loss: 0.9260 - val_accuracy: 0.7372\n",
            "\n",
            "Epoch 00009: ReduceLROnPlateau reducing learning rate to 0.00032768002711236477.\n",
            "\n",
            "Epoch 00009: val_loss did not improve from 0.88530\n",
            "... Validating on fold 10 ...\n"
          ],
          "name": "stdout"
        },
        {
          "output_type": "stream",
          "text": [
            "  2%|▏         | 52/2813 [00:00<00:05, 510.74it/s]"
          ],
          "name": "stderr"
        },
        {
          "output_type": "stream",
          "text": [
            "... Augmenting Data ...\n"
          ],
          "name": "stdout"
        },
        {
          "output_type": "stream",
          "text": [
            "100%|██████████| 2813/2813 [00:05<00:00, 485.40it/s]\n",
            "  1%|          | 908/73138 [00:00<00:07, 9076.59it/s]"
          ],
          "name": "stderr"
        },
        {
          "output_type": "stream",
          "text": [
            "Train shapes\n",
            "(73138, 600, 6) (73138,)\n",
            "... DFFT Feature Engineering ...\n"
          ],
          "name": "stdout"
        },
        {
          "output_type": "stream",
          "text": [
            "100%|██████████| 73138/73138 [00:11<00:00, 6316.09it/s]\n",
            "100%|██████████| 312/312 [00:00<00:00, 10458.61it/s]\n"
          ],
          "name": "stderr"
        },
        {
          "output_type": "stream",
          "text": [
            "... Building Model ...\n",
            "... Training ...\n",
            "Epoch 1/200\n",
            "2286/2286 [==============================] - 55s 23ms/step - loss: 2.1388 - accuracy: 0.5398 - val_loss: 1.2096 - val_accuracy: 0.6667\n",
            "\n",
            "Epoch 00001: val_loss improved from inf to 1.20962, saving model to drive/MyDrive/movement_detection/kfold10/GRU_ATTN_epoch_001_val_1.210_accuracy_0.667.h5\n",
            "Epoch 2/200\n",
            "2286/2286 [==============================] - 54s 23ms/step - loss: 1.2718 - accuracy: 0.6575 - val_loss: 1.2046 - val_accuracy: 0.7051\n",
            "\n",
            "Epoch 00002: val_loss improved from 1.20962 to 1.20459, saving model to drive/MyDrive/movement_detection/kfold10/GRU_ATTN_epoch_002_val_1.205_accuracy_0.705.h5\n",
            "Epoch 3/200\n",
            "2286/2286 [==============================] - 53s 23ms/step - loss: 1.2294 - accuracy: 0.6652 - val_loss: 1.0316 - val_accuracy: 0.7340\n",
            "\n",
            "Epoch 00003: val_loss improved from 1.20459 to 1.03164, saving model to drive/MyDrive/movement_detection/kfold10/GRU_ATTN_epoch_003_val_1.032_accuracy_0.734.h5\n",
            "Epoch 4/200\n",
            "2286/2286 [==============================] - 53s 23ms/step - loss: 1.0062 - accuracy: 0.7201 - val_loss: 1.0183 - val_accuracy: 0.7340\n",
            "\n",
            "Epoch 00004: val_loss improved from 1.03164 to 1.01834, saving model to drive/MyDrive/movement_detection/kfold10/GRU_ATTN_epoch_004_val_1.018_accuracy_0.734.h5\n",
            "Epoch 5/200\n",
            "2286/2286 [==============================] - 53s 23ms/step - loss: 0.9731 - accuracy: 0.7279 - val_loss: 0.9564 - val_accuracy: 0.7147\n",
            "\n",
            "Epoch 00005: val_loss improved from 1.01834 to 0.95642, saving model to drive/MyDrive/movement_detection/kfold10/GRU_ATTN_epoch_005_val_0.956_accuracy_0.715.h5\n",
            "Epoch 6/200\n",
            "2286/2286 [==============================] - 53s 23ms/step - loss: 0.8271 - accuracy: 0.7641 - val_loss: 0.9059 - val_accuracy: 0.7564\n",
            "\n",
            "Epoch 00006: val_loss improved from 0.95642 to 0.90593, saving model to drive/MyDrive/movement_detection/kfold10/GRU_ATTN_epoch_006_val_0.906_accuracy_0.756.h5\n",
            "Epoch 7/200\n",
            "2286/2286 [==============================] - 53s 23ms/step - loss: 0.7932 - accuracy: 0.7766 - val_loss: 0.8630 - val_accuracy: 0.7692\n",
            "\n",
            "Epoch 00007: val_loss improved from 0.90593 to 0.86300, saving model to drive/MyDrive/movement_detection/kfold10/GRU_ATTN_epoch_007_val_0.863_accuracy_0.769.h5\n",
            "Epoch 8/200\n",
            "2286/2286 [==============================] - 53s 23ms/step - loss: 0.6675 - accuracy: 0.8089 - val_loss: 0.8629 - val_accuracy: 0.7788\n",
            "\n",
            "Epoch 00008: ReduceLROnPlateau reducing learning rate to 0.000800000037997961.\n",
            "\n",
            "Epoch 00008: val_loss improved from 0.86300 to 0.86292, saving model to drive/MyDrive/movement_detection/kfold10/GRU_ATTN_epoch_008_val_0.863_accuracy_0.779.h5\n",
            "Epoch 9/200\n",
            "2286/2286 [==============================] - 53s 23ms/step - loss: 0.5846 - accuracy: 0.8327 - val_loss: 1.0172 - val_accuracy: 0.7308\n",
            "\n",
            "Epoch 00009: ReduceLROnPlateau reducing learning rate to 0.0006400000303983689.\n",
            "\n",
            "Epoch 00009: val_loss did not improve from 0.86292\n",
            "Epoch 10/200\n",
            "2286/2286 [==============================] - 53s 23ms/step - loss: 0.5820 - accuracy: 0.8354 - val_loss: 0.8748 - val_accuracy: 0.7660\n",
            "\n",
            "Epoch 00010: ReduceLROnPlateau reducing learning rate to 0.0005120000336319208.\n",
            "\n",
            "Epoch 00010: val_loss did not improve from 0.86292\n",
            "Epoch 11/200\n",
            "2286/2286 [==============================] - 53s 23ms/step - loss: 0.5068 - accuracy: 0.8568 - val_loss: 0.8520 - val_accuracy: 0.7788\n",
            "\n",
            "Epoch 00011: val_loss improved from 0.86292 to 0.85202, saving model to drive/MyDrive/movement_detection/kfold10/GRU_ATTN_epoch_011_val_0.852_accuracy_0.779.h5\n",
            "Epoch 12/200\n",
            "2286/2286 [==============================] - 53s 23ms/step - loss: 0.4853 - accuracy: 0.8632 - val_loss: 0.9843 - val_accuracy: 0.7436\n",
            "\n",
            "Epoch 00012: ReduceLROnPlateau reducing learning rate to 0.00040960004553198815.\n",
            "\n",
            "Epoch 00012: val_loss did not improve from 0.85202\n",
            "Epoch 13/200\n",
            "2286/2286 [==============================] - 53s 23ms/step - loss: 0.5981 - accuracy: 0.8288 - val_loss: 0.8440 - val_accuracy: 0.7821\n",
            "\n",
            "Epoch 00013: val_loss improved from 0.85202 to 0.84400, saving model to drive/MyDrive/movement_detection/kfold10/GRU_ATTN_epoch_013_val_0.844_accuracy_0.782.h5\n",
            "Epoch 14/200\n",
            "2286/2286 [==============================] - 53s 23ms/step - loss: 0.4943 - accuracy: 0.8578 - val_loss: 0.8270 - val_accuracy: 0.7692\n",
            "\n",
            "Epoch 00014: val_loss improved from 0.84400 to 0.82697, saving model to drive/MyDrive/movement_detection/kfold10/GRU_ATTN_epoch_014_val_0.827_accuracy_0.769.h5\n",
            "Epoch 15/200\n",
            "2286/2286 [==============================] - 53s 23ms/step - loss: 0.4530 - accuracy: 0.8734 - val_loss: 0.8326 - val_accuracy: 0.7853\n",
            "\n",
            "Epoch 00015: ReduceLROnPlateau reducing learning rate to 0.00032768002711236477.\n",
            "\n",
            "Epoch 00015: val_loss did not improve from 0.82697\n",
            "Epoch 16/200\n",
            "2286/2286 [==============================] - 53s 23ms/step - loss: 0.4272 - accuracy: 0.8802 - val_loss: 0.8425 - val_accuracy: 0.7917\n",
            "\n",
            "Epoch 00016: ReduceLROnPlateau reducing learning rate to 0.0002621440216898918.\n",
            "\n",
            "Epoch 00016: val_loss did not improve from 0.82697\n",
            "Epoch 17/200\n",
            "2286/2286 [==============================] - 53s 23ms/step - loss: 0.4099 - accuracy: 0.8833 - val_loss: 0.8808 - val_accuracy: 0.7660\n",
            "\n",
            "Epoch 00017: ReduceLROnPlateau reducing learning rate to 0.00020971521735191345.\n",
            "\n",
            "Epoch 00017: val_loss did not improve from 0.82697\n",
            "Epoch 18/200\n",
            "2286/2286 [==============================] - 53s 23ms/step - loss: 0.3925 - accuracy: 0.8891 - val_loss: 0.8738 - val_accuracy: 0.7692\n",
            "\n",
            "Epoch 00018: ReduceLROnPlateau reducing learning rate to 0.00016777217388153076.\n",
            "\n",
            "Epoch 00018: val_loss did not improve from 0.82697\n",
            "Epoch 19/200\n",
            "2286/2286 [==============================] - 53s 23ms/step - loss: 0.3904 - accuracy: 0.8899 - val_loss: 0.9411 - val_accuracy: 0.7788\n",
            "\n",
            "Epoch 00019: ReduceLROnPlateau reducing learning rate to 0.00013421773910522462.\n",
            "\n",
            "Epoch 00019: val_loss did not improve from 0.82697\n"
          ],
          "name": "stdout"
        }
      ]
    },
    {
      "cell_type": "markdown",
      "metadata": {
        "id": "X6eFs_Hcfv9q"
      },
      "source": [
        "### Make Prediction"
      ]
    },
    {
      "cell_type": "code",
      "metadata": {
        "id": "9EhXajKcfoFq"
      },
      "source": [
        "## Make prediction\n",
        "model1 = load_model('drive/MyDrive/movement_detection/kfold1/GRU_ATTN_epoch_005_val_0.944_accuracy_0.744.h5',\n",
        "                    custom_objects={'attention': attention})\n",
        "model2 = load_model('drive/MyDrive/movement_detection/kfold2/GRU_ATTN_epoch_009_val_0.950_accuracy_0.767.h5',\n",
        "                    custom_objects={'attention': attention}) \n",
        "model3 = load_model('drive/MyDrive/movement_detection/kfold3/GRU_ATTN_epoch_011_val_1.001_accuracy_0.764.h5',\n",
        "                    custom_objects={'attention': attention})  \n",
        "model4 = load_model('drive/MyDrive/movement_detection/kfold4/GRU_ATTN_epoch_018_val_0.832_accuracy_0.792.h5',\n",
        "                    custom_objects={'attention': attention}) \n",
        "model5 = load_model('drive/MyDrive/movement_detection/kfold5/GRU_ATTN_epoch_006_val_0.914_accuracy_0.735.h5',\n",
        "                    custom_objects={'attention': attention})\n",
        "model6 = load_model('drive/MyDrive/movement_detection/kfold6/GRU_ATTN_epoch_008_val_0.899_accuracy_0.744.h5',\n",
        "                    custom_objects={'attention': attention})\n",
        "model7 = load_model('drive/MyDrive/movement_detection/kfold7/GRU_ATTN_epoch_007_val_0.988_accuracy_0.740.h5',\n",
        "                    custom_objects={'attention': attention})\n",
        "model8 = load_model('drive/MyDrive/movement_detection/kfold8/GRU_ATTN_epoch_005_val_0.846_accuracy_0.769.h5',\n",
        "                    custom_objects={'attention': attention})\n",
        "model9 = load_model('drive/MyDrive/movement_detection/kfold9/GRU_ATTN_epoch_004_val_0.885_accuracy_0.756.h5',\n",
        "                    custom_objects={'attention': attention}) \n",
        "model10 = load_model('drive/MyDrive/movement_detection/kfold10/GRU_ATTN_epoch_014_val_0.827_accuracy_0.769.h5',\n",
        "                     custom_objects={'attention': attention}) \n"
      ],
      "execution_count": 9,
      "outputs": []
    },
    {
      "cell_type": "code",
      "metadata": {
        "id": "9hUCWMHMf0hn",
        "colab": {
          "base_uri": "https://localhost:8080/"
        },
        "outputId": "d2ec9079-482f-4470-ee74-6ff6acd9c20e"
      },
      "source": [
        "X_test = tf.reshape(np.array(test_features.iloc[:,2:]),[-1, 600, 6])\n",
        "X_test = np.asarray(X_test)\n",
        "\n",
        "##### feature engineering for test dataset ##### \n",
        "X_test_fourier_real = [] \n",
        "X_test_fourier_imag = [] \n",
        "for i in tqdm(range(X_test.shape[0]), position = 0, leave = True):\n",
        "    real_part = np.fft.fft(X_test[i]).real \n",
        "    imag_part = np.fft.fft(X_test[i]).imag \n",
        "    X_test_fourier_real.append(real_part) \n",
        "    X_test_fourier_imag.append(imag_part)\n",
        "    \n",
        "X_test_fourier_real = np.asarray(X_test_fourier_real) \n",
        "X_test_fourier_imag = np.asarray(X_test_fourier_imag)\n",
        "X_test = np.concatenate([X_test, X_test_fourier_real, X_test_fourier_imag], axis = 2)  \n",
        "\n",
        "print(X_test.shape)\n"
      ],
      "execution_count": 10,
      "outputs": [
        {
          "output_type": "stream",
          "text": [
            "100%|██████████| 782/782 [00:00<00:00, 8197.43it/s]"
          ],
          "name": "stderr"
        },
        {
          "output_type": "stream",
          "text": [
            "(782, 600, 18)\n"
          ],
          "name": "stdout"
        },
        {
          "output_type": "stream",
          "text": [
            "\n"
          ],
          "name": "stderr"
        }
      ]
    },
    {
      "cell_type": "code",
      "metadata": {
        "id": "nSMkDsR9f2Nl"
      },
      "source": [
        "p1 = model1.predict(X_test) \n",
        "p2 = model2.predict(X_test)\n",
        "p3 = model3.predict(X_test) \n",
        "p4 = model4.predict(X_test) \n",
        "p5 = model5.predict(X_test) \n",
        "p6 = model6.predict(X_test) \n",
        "p7 = model7.predict(X_test) \n",
        "p8 = model8.predict(X_test)\n",
        "p9 = model9.predict(X_test)\n",
        "p10 = model10.predict(X_test)\n"
      ],
      "execution_count": 11,
      "outputs": []
    },
    {
      "cell_type": "code",
      "metadata": {
        "id": "hjDLhKNDf3nu"
      },
      "source": [
        "p_avg = (p1 + p2 + p3 + p4 + p5 + p6 + p7 + p8 + p9 + p10)/10.0\n",
        "\n",
        "sample_submission.iloc[:,1:] = p_avg\n",
        "\n",
        "sample_submission.to_csv(\"drive/MyDrive/movement_detection/GRU_with_attention.csv\",index=False)\n"
      ],
      "execution_count": 12,
      "outputs": []
    },
    {
      "cell_type": "code",
      "metadata": {
        "id": "myMWKfdvFPYp"
      },
      "source": [
        ""
      ],
      "execution_count": null,
      "outputs": []
    }
  ]
}