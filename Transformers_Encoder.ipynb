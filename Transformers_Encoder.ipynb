{
  "nbformat": 4,
  "nbformat_minor": 0,
  "metadata": {
    "colab": {
      "name": "Transformers3.ipynb",
      "provenance": [],
      "machine_shape": "hm"
    },
    "kernelspec": {
      "name": "python3",
      "display_name": "Python 3"
    },
    "accelerator": "GPU"
  },
  "cells": [
    {
      "cell_type": "code",
      "metadata": {
        "id": "OO4zxgbufMYf"
      },
      "source": [
        "import numpy as np \n",
        "import pandas as pd \n",
        "import os, datetime \n",
        "import tensorflow as tf\n",
        "from tensorflow.keras.models import *\n",
        "from tensorflow.keras.layers import *  \n",
        "from tensorflow.keras.callbacks import *\n",
        "import matplotlib.pyplot as plt \n",
        "from sklearn.model_selection import train_test_split, KFold, StratifiedKFold \n",
        "from tqdm import tqdm\n",
        "import random \n",
        "import time\n",
        "import pywt"
      ],
      "execution_count": 1,
      "outputs": []
    },
    {
      "cell_type": "code",
      "metadata": {
        "id": "Y1JYhr0agDuh"
      },
      "source": [
        "## Load data \n",
        "train_features = pd.read_csv('drive/MyDrive/movement_detection/train_features.csv')\n",
        "train_labels = pd.read_csv('drive/MyDrive/movement_detection/train_labels.csv')\n",
        "test_features = pd.read_csv('drive/MyDrive/movement_detection/test_features.csv')\n",
        "sample_submission = pd.read_csv('drive/MyDrive/movement_detection/sample_submission.csv')"
      ],
      "execution_count": 2,
      "outputs": []
    },
    {
      "cell_type": "code",
      "metadata": {
        "colab": {
          "base_uri": "https://localhost:8080/"
        },
        "id": "YOsCO-1OgHJQ",
        "outputId": "f4e88185-94c4-428b-c4c0-4de546d6255a"
      },
      "source": [
        "X = tf.reshape(np.array(train_features.iloc[:,2:]),[-1, 600, 6])\n",
        "X = np.asarray(X) \n",
        "X.shape"
      ],
      "execution_count": 3,
      "outputs": [
        {
          "output_type": "execute_result",
          "data": {
            "text/plain": [
              "(3125, 600, 6)"
            ]
          },
          "metadata": {
            "tags": []
          },
          "execution_count": 3
        }
      ]
    },
    {
      "cell_type": "code",
      "metadata": {
        "colab": {
          "base_uri": "https://localhost:8080/"
        },
        "id": "C-qj9wCVgKMk",
        "outputId": "76c6ba6f-b226-40a4-9ffd-315fcbc783b0"
      },
      "source": [
        "y = train_labels['label'].values\n",
        "y.shape"
      ],
      "execution_count": 4,
      "outputs": [
        {
          "output_type": "execute_result",
          "data": {
            "text/plain": [
              "(3125,)"
            ]
          },
          "metadata": {
            "tags": []
          },
          "execution_count": 4
        }
      ]
    },
    {
      "cell_type": "code",
      "metadata": {
        "id": "8x5Z-P0TgLhp"
      },
      "source": [
        "batch_size = 64\n",
        "seq_len = 600 # temporary \n",
        "d_k = 256 \n",
        "d_v = 256\n",
        "n_heads = 12 \n",
        "ff_dim = 512"
      ],
      "execution_count": 5,
      "outputs": []
    },
    {
      "cell_type": "code",
      "metadata": {
        "id": "XzUdzMIxgNjM"
      },
      "source": [
        "class SingleAttention(Layer):\n",
        "    def __init__(self, d_k, d_v):\n",
        "        super(SingleAttention, self).__init__()\n",
        "        self.d_k = d_k\n",
        "        self.d_v = d_v\n",
        "\n",
        "    def build(self, input_shape):\n",
        "        self.query = Dense(self.d_k, \n",
        "                       input_shape=input_shape, \n",
        "                       kernel_initializer='glorot_uniform', \n",
        "                       bias_initializer='glorot_uniform')\n",
        "    \n",
        "        self.key = Dense(self.d_k, \n",
        "                     input_shape=input_shape, \n",
        "                     kernel_initializer='glorot_uniform', \n",
        "                     bias_initializer='glorot_uniform')\n",
        "    \n",
        "        self.value = Dense(self.d_v, \n",
        "                       input_shape=input_shape, \n",
        "                       kernel_initializer='glorot_uniform', \n",
        "                       bias_initializer='glorot_uniform')\n",
        "\n",
        "    def call(self, inputs): # inputs = (in_seq, in_seq, in_seq)\n",
        "        q = self.query(inputs[0])\n",
        "        k = self.key(inputs[1])\n",
        "\n",
        "        attn_weights = tf.matmul(q, k, transpose_b=True)\n",
        "        attn_weights = tf.map_fn(lambda x: x/np.sqrt(self.d_k), attn_weights)\n",
        "        attn_weights = tf.nn.softmax(attn_weights, axis=-1)\n",
        "    \n",
        "        v = self.value(inputs[2])\n",
        "        attn_out = tf.matmul(attn_weights, v)\n",
        "        return attn_out    "
      ],
      "execution_count": 6,
      "outputs": []
    },
    {
      "cell_type": "code",
      "metadata": {
        "id": "mn4a--GBgPlc"
      },
      "source": [
        "class MultiAttention(Layer):\n",
        "    def __init__(self, d_k, d_v, n_heads):\n",
        "        super(MultiAttention, self).__init__()\n",
        "        self.d_k = d_k\n",
        "        self.d_v = d_v\n",
        "        self.n_heads = n_heads\n",
        "        self.attn_heads = list()\n",
        "\n",
        "    def build(self, input_shape):\n",
        "        for n in range(self.n_heads):\n",
        "            self.attn_heads.append(SingleAttention(self.d_k, self.d_v))  \n",
        "    \n",
        "        # input_shape[0]=(batch, seq_len, 7), input_shape[0][-1]=7 \n",
        "        self.linear = Dense(input_shape[0][-1], \n",
        "                        input_shape=input_shape, \n",
        "                        kernel_initializer='glorot_uniform', \n",
        "                        bias_initializer='glorot_uniform')\n",
        "\n",
        "    def call(self, inputs):\n",
        "        attn = [self.attn_heads[i](inputs) for i in range(self.n_heads)]\n",
        "        concat_attn = tf.concat(attn, axis=-1)\n",
        "        multi_linear = self.linear(concat_attn)\n",
        "        return multi_linear   \n"
      ],
      "execution_count": 7,
      "outputs": []
    },
    {
      "cell_type": "code",
      "metadata": {
        "id": "owQaviErgQ2g"
      },
      "source": [
        "class TransformerEncoder(Layer):\n",
        "    def __init__(self, d_k, d_v, n_heads, ff_dim, dropout=0.1, **kwargs):\n",
        "        super(TransformerEncoder, self).__init__()\n",
        "        self.d_k = d_k\n",
        "        self.d_v = d_v\n",
        "        self.n_heads = n_heads\n",
        "        self.ff_dim = ff_dim\n",
        "        self.attn_heads = []\n",
        "        self.dropout_rate = dropout \n",
        "\n",
        "    def build(self, input_shape):\n",
        "        self.attn_multi = MultiAttention(self.d_k, self.d_v, self.n_heads)\n",
        "        self.attn_dropout = Dropout(self.dropout_rate)\n",
        "        self.attn_normalize = LayerNormalization(input_shape=input_shape, epsilon=1e-6)\n",
        "\n",
        "        self.ff_conv1D_1 = Conv1D(filters=self.ff_dim, kernel_size=1, activation='relu')\n",
        "        # input_shape[0]=(batch, seq_len, 7), input_shape[0][-1] = 7 \n",
        "        self.ff_conv1D_2 = Conv1D(filters=input_shape[0][-1], kernel_size=1) \n",
        "        self.ff_dropout = Dropout(self.dropout_rate)\n",
        "        self.ff_normalize = LayerNormalization(input_shape=input_shape, epsilon=1e-6)    \n",
        "  \n",
        "    def call(self, inputs): # inputs = (in_seq, in_seq, in_seq) \n",
        "        attn_layer = self.attn_multi(inputs) \n",
        "        attn_layer = self.attn_dropout(attn_layer)\n",
        "        attn_layer = self.attn_normalize(inputs[0] + attn_layer)\n",
        "        ff_layer = self.ff_conv1D_1(attn_layer)  \n",
        "        ff_layer = self.ff_conv1D_2(ff_layer)\n",
        "        ff_layer = self.ff_dropout(ff_layer)\n",
        "        ff_layer = self.ff_normalize(inputs[0] + ff_layer)\n",
        "        return ff_layer \n",
        "\n",
        "    def get_config(self): # Needed for saving and loading model with custom layer\n",
        "        config = super().get_config().copy()\n",
        "        config.update({'d_k': self.d_k,\n",
        "                   'd_v': self.d_v,\n",
        "                   'n_heads': self.n_heads,\n",
        "                   'ff_dim': self.ff_dim,\n",
        "                   'attn_heads': self.attn_heads,\n",
        "                   'dropout_rate': self.dropout_rate})\n",
        "        return config\n"
      ],
      "execution_count": 8,
      "outputs": []
    },
    {
      "cell_type": "code",
      "metadata": {
        "id": "vB6jtZTngSKG"
      },
      "source": [
        "def get_angles(pos, i, d_model):\n",
        "  angle_rates = 1 / np.power(10000, (2 * (i//2)) / np.float32(d_model))\n",
        "  return pos * angle_rates\n",
        "\n",
        "def positional_encoding(position, d_model):\n",
        "  angle_rads = get_angles(np.arange(position)[:, np.newaxis],\n",
        "                          np.arange(d_model)[np.newaxis, :],\n",
        "                          d_model)\n",
        "\n",
        "  # apply sin to even indices in the array; 2i\n",
        "  angle_rads[:, 0::2] = np.sin(angle_rads[:, 0::2])\n",
        "\n",
        "  # apply cos to odd indices in the array; 2i+1\n",
        "  angle_rads[:, 1::2] = np.cos(angle_rads[:, 1::2])\n",
        "\n",
        "  pos_encoding = angle_rads[np.newaxis, ...]\n",
        "\n",
        "  return tf.cast(pos_encoding, dtype=tf.float32)\n"
      ],
      "execution_count": 9,
      "outputs": []
    },
    {
      "cell_type": "code",
      "metadata": {
        "id": "7adsGd0JgUDS"
      },
      "source": [
        "def build_model(seq_len, features): \n",
        "  inputs = Input(shape=(seq_len,features))   \n",
        "  bn = BatchNormalization()(inputs)    \n",
        "\n",
        "  conv = Conv1D(128, 5, activation = 'relu', padding = 'same')(bn) \n",
        "  bn = BatchNormalization()(conv) \n",
        "  maxpool = MaxPooling1D()(bn) \n",
        "  avgpool = AveragePooling1D()(bn) \n",
        "  pooling = Concatenate()([maxpool,avgpool])   \n",
        "  conv = Conv1D(128, 5, activation = 'relu', padding = 'same')(pooling) \n",
        "  bn = BatchNormalization()(conv) \n",
        "  maxpool = MaxPooling1D()(bn) \n",
        "  avgpool = AveragePooling1D()(bn) \n",
        "  pooling = Concatenate()([maxpool, avgpool]) \n",
        "\n",
        "\n",
        "  pos_encoding = positional_encoding(seq_len, d_k)   \n",
        "  pooling *= tf.math.sqrt(tf.cast(d_k, tf.float32)) \n",
        "  pooling += pos_encoding[:, :pooling.shape[1], :]\n",
        "\n",
        "  attn_layer1 = TransformerEncoder(d_k, d_v, n_heads, ff_dim)\n",
        "  attn_layer2 = TransformerEncoder(d_k, d_v, n_heads, ff_dim)\n",
        "  attn_layer3 = TransformerEncoder(d_k, d_v, n_heads, ff_dim)\n",
        "\n",
        "  x = attn_layer1((bn, bn, bn))  \n",
        "  x = attn_layer2((x, x, x)) \n",
        "  x = attn_layer3((x, x, x)) \n",
        "\n",
        "  bi_gru = Bidirectional(GRU(128, return_sequences = False))(x) \n",
        "  dropout = Dropout(0.25)(bi_gru)\n",
        "  dense = Dense(128, activation = 'relu')(dropout) \n",
        "  bn = BatchNormalization()(dense) \n",
        "  outputs = Dense(61, activation='softmax')(bn) \n",
        "  model = Model(inputs=inputs, outputs=outputs)\n",
        "  model.compile(loss='sparse_categorical_crossentropy', optimizer='adam', metrics=['accuracy'])\n",
        "  return model"
      ],
      "execution_count": 10,
      "outputs": []
    },
    {
      "cell_type": "code",
      "metadata": {
        "colab": {
          "base_uri": "https://localhost:8080/"
        },
        "id": "-08QGU1JgoYW",
        "outputId": "e5b4c752-8b7b-410d-c149-3ec0567bd436"
      },
      "source": [
        "model = build_model(600,6)\n",
        "model.summary()"
      ],
      "execution_count": 11,
      "outputs": [
        {
          "output_type": "stream",
          "text": [
            "Model: \"model\"\n",
            "__________________________________________________________________________________________________\n",
            "Layer (type)                    Output Shape         Param #     Connected to                     \n",
            "==================================================================================================\n",
            "input_1 (InputLayer)            [(None, 600, 6)]     0                                            \n",
            "__________________________________________________________________________________________________\n",
            "batch_normalization (BatchNorma (None, 600, 6)       24          input_1[0][0]                    \n",
            "__________________________________________________________________________________________________\n",
            "conv1d (Conv1D)                 (None, 600, 128)     3968        batch_normalization[0][0]        \n",
            "__________________________________________________________________________________________________\n",
            "batch_normalization_1 (BatchNor (None, 600, 128)     512         conv1d[0][0]                     \n",
            "__________________________________________________________________________________________________\n",
            "max_pooling1d (MaxPooling1D)    (None, 300, 128)     0           batch_normalization_1[0][0]      \n",
            "__________________________________________________________________________________________________\n",
            "average_pooling1d (AveragePooli (None, 300, 128)     0           batch_normalization_1[0][0]      \n",
            "__________________________________________________________________________________________________\n",
            "concatenate (Concatenate)       (None, 300, 256)     0           max_pooling1d[0][0]              \n",
            "                                                                 average_pooling1d[0][0]          \n",
            "__________________________________________________________________________________________________\n",
            "conv1d_1 (Conv1D)               (None, 300, 128)     163968      concatenate[0][0]                \n",
            "__________________________________________________________________________________________________\n",
            "batch_normalization_2 (BatchNor (None, 300, 128)     512         conv1d_1[0][0]                   \n",
            "__________________________________________________________________________________________________\n",
            "transformer_encoder (Transforme (None, 300, 128)     1714432     batch_normalization_2[0][0]      \n",
            "                                                                 batch_normalization_2[0][0]      \n",
            "                                                                 batch_normalization_2[0][0]      \n",
            "__________________________________________________________________________________________________\n",
            "transformer_encoder_1 (Transfor (None, 300, 128)     1714432     transformer_encoder[0][0]        \n",
            "                                                                 transformer_encoder[0][0]        \n",
            "                                                                 transformer_encoder[0][0]        \n",
            "__________________________________________________________________________________________________\n",
            "transformer_encoder_2 (Transfor (None, 300, 128)     1714432     transformer_encoder_1[0][0]      \n",
            "                                                                 transformer_encoder_1[0][0]      \n",
            "                                                                 transformer_encoder_1[0][0]      \n",
            "__________________________________________________________________________________________________\n",
            "bidirectional (Bidirectional)   (None, 256)          198144      transformer_encoder_2[0][0]      \n",
            "__________________________________________________________________________________________________\n",
            "dropout (Dropout)               (None, 256)          0           bidirectional[0][0]              \n",
            "__________________________________________________________________________________________________\n",
            "dense (Dense)                   (None, 128)          32896       dropout[0][0]                    \n",
            "__________________________________________________________________________________________________\n",
            "batch_normalization_3 (BatchNor (None, 128)          512         dense[0][0]                      \n",
            "__________________________________________________________________________________________________\n",
            "dense_1 (Dense)                 (None, 61)           7869        batch_normalization_3[0][0]      \n",
            "==================================================================================================\n",
            "Total params: 5,551,701\n",
            "Trainable params: 5,550,921\n",
            "Non-trainable params: 780\n",
            "__________________________________________________________________________________________________\n"
          ],
          "name": "stdout"
        }
      ]
    },
    {
      "cell_type": "code",
      "metadata": {
        "colab": {
          "base_uri": "https://localhost:8080/"
        },
        "id": "7A_aon96gp-e",
        "outputId": "ad62d8fe-f0fc-4275-bd89-cca51eb25b4f"
      },
      "source": [
        "kfold = StratifiedKFold(n_splits = 10, random_state = 960418, shuffle = True)\n",
        "for idx,(train_idx, val_idx) in enumerate(kfold.split(X,y)):   \n",
        "    print(\"... Validating on fold {} ...\".format(idx+1))  \n",
        "    if idx == 0: \n",
        "      continue # save time \n",
        "    X_train, X_val = X[train_idx], X[val_idx]\n",
        "    y_train, y_val = y[train_idx], y[val_idx] \n",
        "    \n",
        "    ##### augment data #####\n",
        "    print(\"... Augmenting Data ...\")\n",
        "    X_augmented = [] \n",
        "    y_augmented = [] \n",
        "    for i in tqdm(range(X_train.shape[0]), position = 0, leave = True): \n",
        "        for j in range(10): \n",
        "            shifted = np.roll(X_train[i], int(random.random() * 600)) \n",
        "            X_augmented.append(shifted) \n",
        "            y_augmented.append(y_train[i]) \n",
        "        for j in range(10): \n",
        "            noised = np.random.normal(0, 1, X_train[i].shape) + X_train[i] \n",
        "            X_augmented.append(noised) \n",
        "            y_augmented.append(y_train[i]) \n",
        "    X_augmented = np.asarray(X_augmented) \n",
        "    y_augmented = np.asarray(y_augmented)\n",
        "    X_train = np.concatenate([X_train, X_augmented]) \n",
        "    y_train = np.concatenate([y_train, y_augmented])   \n",
        "\n",
        "\n",
        "    ###### feature engineering data ##### \n",
        "    print(\"... DFFT Feature Engineering ...\")\n",
        "    X_fourier_real = [] \n",
        "    X_fourier_imag = [] \n",
        "    for i in tqdm(range(X_train.shape[0]), position = 0, leave = True):  \n",
        "        real_part = np.fft.fft(X_train[i]).real \n",
        "        imag_part = np.fft.fft(X_train[i]).imag \n",
        "        X_fourier_real.append(real_part)\n",
        "        X_fourier_imag.append(imag_part) \n",
        "    \n",
        "    X_fourier_real = np.asarray(X_fourier_real)  \n",
        "    X_fourier_imag = np.asarray(X_fourier_imag)\n",
        "    \n",
        "    \n",
        "    X_val_fourier_real = [] \n",
        "    X_val_fourier_imag = [] \n",
        "    for i in tqdm(range(X_val.shape[0]), position = 0, leave = True):\n",
        "        real_part = np.fft.fft(X_val[i]).real \n",
        "        imag_part = np.fft.fft(X_val[i]).imag \n",
        "        X_val_fourier_real.append(real_part) \n",
        "        X_val_fourier_imag.append(imag_part)\n",
        "    \n",
        "    X_val_fourier_real = np.asarray(X_val_fourier_real) \n",
        "    X_val_fourier_imag = np.asarray(X_val_fourier_imag)\n",
        "    \n",
        "    X_train = np.concatenate([X_train, X_fourier_real, X_fourier_imag], axis = 2)  \n",
        "    X_val = np.concatenate([X_val, X_val_fourier_real, X_val_fourier_imag], axis = 2)\n",
        "\n",
        "\n",
        "    ##### train model #####  \n",
        "    print(\"... Building Model ...\")\n",
        "    # we have 18 features after feature engineering \n",
        "    model = build_model(600, 18) \n",
        "    print(\"... Training ...\") \n",
        "    model_path = 'drive/MyDrive/movement_detection/kfold' + str(idx+1) + '/testNoise_epoch_{epoch:03d}_val_{val_loss:.3f}_accuracy_{val_accuracy:.3f}.h5'\n",
        "    learning_rate_reduction = ReduceLROnPlateau(monitor = 'val_loss', patience = 2, verbose = 1, factor = 0.8)\n",
        "    checkpoint = ModelCheckpoint(filepath = model_path, monitor = 'val_loss', verbose = 1, save_best_only = True)\n",
        "    early_stopping = EarlyStopping(monitor = 'val_loss', patience = 5) \n",
        "\n",
        "    model.fit(X_train,\n",
        "              y_train,\n",
        "              epochs = 200,\n",
        "              batch_size = 32, # to avoid OOM when using colab \n",
        "              validation_data = (X_val, y_val), \n",
        "              callbacks = [learning_rate_reduction, checkpoint, early_stopping])\n",
        "\n"
      ],
      "execution_count": 12,
      "outputs": [
        {
          "output_type": "stream",
          "text": [
            "\r  0%|          | 0/2812 [00:00<?, ?it/s]"
          ],
          "name": "stderr"
        },
        {
          "output_type": "stream",
          "text": [
            "... Validating on fold 1 ...\n",
            "... Validating on fold 2 ...\n",
            "... Augmenting Data ...\n"
          ],
          "name": "stdout"
        },
        {
          "output_type": "stream",
          "text": [
            "100%|██████████| 2812/2812 [00:05<00:00, 508.86it/s]\n",
            "  2%|▏         | 1034/59052 [00:00<00:05, 10334.93it/s]"
          ],
          "name": "stderr"
        },
        {
          "output_type": "stream",
          "text": [
            "... DFFT Feature Engineering ...\n"
          ],
          "name": "stdout"
        },
        {
          "output_type": "stream",
          "text": [
            "100%|██████████| 59052/59052 [00:07<00:00, 8184.11it/s]\n",
            "100%|██████████| 313/313 [00:00<00:00, 10419.51it/s]\n"
          ],
          "name": "stderr"
        },
        {
          "output_type": "stream",
          "text": [
            "... Building Model ...\n",
            "... Training ...\n",
            "Epoch 1/200\n",
            "1846/1846 [==============================] - 558s 290ms/step - loss: 2.2580 - accuracy: 0.5011 - val_loss: 1.2700 - val_accuracy: 0.6358\n",
            "\n",
            "Epoch 00001: val_loss improved from inf to 1.27000, saving model to drive/MyDrive/movement_detection/kfold2/testNoise_epoch_001_val_1.270_accuracy_0.636.h5\n",
            "Epoch 2/200\n",
            "1846/1846 [==============================] - 531s 288ms/step - loss: 1.1451 - accuracy: 0.6692 - val_loss: 1.0102 - val_accuracy: 0.7252\n",
            "\n",
            "Epoch 00002: val_loss improved from 1.27000 to 1.01020, saving model to drive/MyDrive/movement_detection/kfold2/testNoise_epoch_002_val_1.010_accuracy_0.725.h5\n",
            "Epoch 3/200\n",
            "1846/1846 [==============================] - 537s 291ms/step - loss: 0.7385 - accuracy: 0.7738 - val_loss: 1.0254 - val_accuracy: 0.7252\n",
            "\n",
            "Epoch 00003: val_loss did not improve from 1.01020\n",
            "Epoch 4/200\n",
            "1846/1846 [==============================] - 534s 289ms/step - loss: 0.5083 - accuracy: 0.8411 - val_loss: 1.2236 - val_accuracy: 0.7220\n",
            "\n",
            "Epoch 00004: ReduceLROnPlateau reducing learning rate to 0.000800000037997961.\n",
            "\n",
            "Epoch 00004: val_loss did not improve from 1.01020\n",
            "Epoch 5/200\n",
            "1846/1846 [==============================] - 530s 287ms/step - loss: 0.3226 - accuracy: 0.8951 - val_loss: 1.2536 - val_accuracy: 0.7412\n",
            "\n",
            "Epoch 00005: val_loss did not improve from 1.01020\n",
            "Epoch 6/200\n",
            "1846/1846 [==============================] - 529s 287ms/step - loss: 0.2429 - accuracy: 0.9213 - val_loss: 1.2789 - val_accuracy: 0.7380\n",
            "\n",
            "Epoch 00006: ReduceLROnPlateau reducing learning rate to 0.0006400000303983689.\n",
            "\n",
            "Epoch 00006: val_loss did not improve from 1.01020\n",
            "Epoch 7/200\n",
            "1846/1846 [==============================] - 528s 286ms/step - loss: 0.1607 - accuracy: 0.9479 - val_loss: 1.3720 - val_accuracy: 0.7668\n"
          ],
          "name": "stdout"
        },
        {
          "output_type": "stream",
          "text": [
            "  2%|▏         | 56/2812 [00:00<00:04, 558.83it/s]"
          ],
          "name": "stderr"
        },
        {
          "output_type": "stream",
          "text": [
            "\n",
            "Epoch 00007: val_loss did not improve from 1.01020\n",
            "... Validating on fold 3 ...\n",
            "... Augmenting Data ...\n"
          ],
          "name": "stdout"
        },
        {
          "output_type": "stream",
          "text": [
            "100%|██████████| 2812/2812 [00:05<00:00, 533.29it/s]\n",
            "  2%|▏         | 985/59052 [00:00<00:05, 9843.30it/s]"
          ],
          "name": "stderr"
        },
        {
          "output_type": "stream",
          "text": [
            "... DFFT Feature Engineering ...\n"
          ],
          "name": "stdout"
        },
        {
          "output_type": "stream",
          "text": [
            "100%|██████████| 59052/59052 [00:05<00:00, 10432.71it/s]\n",
            "100%|██████████| 313/313 [00:00<00:00, 10064.68it/s]\n"
          ],
          "name": "stderr"
        },
        {
          "output_type": "stream",
          "text": [
            "... Building Model ...\n",
            "... Training ...\n",
            "Epoch 1/200\n",
            "1846/1846 [==============================] - 561s 292ms/step - loss: 2.2092 - accuracy: 0.5096 - val_loss: 1.2050 - val_accuracy: 0.6677\n",
            "\n",
            "Epoch 00001: val_loss improved from inf to 1.20499, saving model to drive/MyDrive/movement_detection/kfold3/testNoise_epoch_001_val_1.205_accuracy_0.668.h5\n",
            "Epoch 2/200\n",
            "1846/1846 [==============================] - 536s 290ms/step - loss: 1.1305 - accuracy: 0.6711 - val_loss: 0.9654 - val_accuracy: 0.7348\n",
            "\n",
            "Epoch 00002: val_loss improved from 1.20499 to 0.96535, saving model to drive/MyDrive/movement_detection/kfold3/testNoise_epoch_002_val_0.965_accuracy_0.735.h5\n",
            "Epoch 3/200\n",
            "1846/1846 [==============================] - 535s 290ms/step - loss: 0.7063 - accuracy: 0.7875 - val_loss: 1.0094 - val_accuracy: 0.7348\n",
            "\n",
            "Epoch 00003: val_loss did not improve from 0.96535\n",
            "Epoch 4/200\n",
            "1846/1846 [==============================] - 534s 289ms/step - loss: 0.4850 - accuracy: 0.8465 - val_loss: 0.9569 - val_accuracy: 0.7508\n",
            "\n",
            "Epoch 00004: val_loss improved from 0.96535 to 0.95692, saving model to drive/MyDrive/movement_detection/kfold3/testNoise_epoch_004_val_0.957_accuracy_0.751.h5\n",
            "Epoch 5/200\n",
            "1846/1846 [==============================] - 534s 289ms/step - loss: 0.3601 - accuracy: 0.8873 - val_loss: 1.0412 - val_accuracy: 0.7412\n",
            "\n",
            "Epoch 00005: val_loss did not improve from 0.95692\n",
            "Epoch 6/200\n",
            "1846/1846 [==============================] - 536s 290ms/step - loss: 0.2621 - accuracy: 0.9178 - val_loss: 1.1491 - val_accuracy: 0.7284\n",
            "\n",
            "Epoch 00006: ReduceLROnPlateau reducing learning rate to 0.000800000037997961.\n",
            "\n",
            "Epoch 00006: val_loss did not improve from 0.95692\n",
            "Epoch 7/200\n",
            "1846/1846 [==============================] - 537s 291ms/step - loss: 0.1863 - accuracy: 0.9402 - val_loss: 1.1069 - val_accuracy: 0.7348\n",
            "\n",
            "Epoch 00007: val_loss did not improve from 0.95692\n",
            "Epoch 8/200\n",
            "1846/1846 [==============================] - 533s 289ms/step - loss: 0.1449 - accuracy: 0.9539 - val_loss: 1.2007 - val_accuracy: 0.7700\n",
            "\n",
            "Epoch 00008: ReduceLROnPlateau reducing learning rate to 0.0006400000303983689.\n",
            "\n",
            "Epoch 00008: val_loss did not improve from 0.95692\n",
            "Epoch 9/200\n",
            "1846/1846 [==============================] - 541s 293ms/step - loss: 0.1079 - accuracy: 0.9665 - val_loss: 1.3657 - val_accuracy: 0.7412\n"
          ],
          "name": "stdout"
        },
        {
          "output_type": "stream",
          "text": [
            "\r  0%|          | 0/2812 [00:00<?, ?it/s]"
          ],
          "name": "stderr"
        },
        {
          "output_type": "stream",
          "text": [
            "\n",
            "Epoch 00009: val_loss did not improve from 0.95692\n",
            "... Validating on fold 4 ...\n",
            "... Augmenting Data ...\n"
          ],
          "name": "stdout"
        },
        {
          "output_type": "stream",
          "text": [
            "100%|██████████| 2812/2812 [00:05<00:00, 511.09it/s]\n",
            "  2%|▏         | 1014/59052 [00:00<00:05, 10131.99it/s]"
          ],
          "name": "stderr"
        },
        {
          "output_type": "stream",
          "text": [
            "... DFFT Feature Engineering ...\n"
          ],
          "name": "stdout"
        },
        {
          "output_type": "stream",
          "text": [
            "100%|██████████| 59052/59052 [00:06<00:00, 9222.67it/s] \n",
            "100%|██████████| 313/313 [00:00<00:00, 9639.18it/s]\n"
          ],
          "name": "stderr"
        },
        {
          "output_type": "stream",
          "text": [
            "... Building Model ...\n",
            "... Training ...\n",
            "Epoch 1/200\n",
            "1846/1846 [==============================] - 571s 297ms/step - loss: 2.2463 - accuracy: 0.5089 - val_loss: 1.3312 - val_accuracy: 0.6230\n",
            "\n",
            "Epoch 00001: val_loss improved from inf to 1.33116, saving model to drive/MyDrive/movement_detection/kfold4/testNoise_epoch_001_val_1.331_accuracy_0.623.h5\n",
            "Epoch 2/200\n",
            "1846/1846 [==============================] - 548s 297ms/step - loss: 1.2074 - accuracy: 0.6539 - val_loss: 0.9941 - val_accuracy: 0.7093\n",
            "\n",
            "Epoch 00002: val_loss improved from 1.33116 to 0.99411, saving model to drive/MyDrive/movement_detection/kfold4/testNoise_epoch_002_val_0.994_accuracy_0.709.h5\n",
            "Epoch 3/200\n",
            "1846/1846 [==============================] - 551s 299ms/step - loss: 0.7685 - accuracy: 0.7683 - val_loss: 1.0278 - val_accuracy: 0.7412\n",
            "\n",
            "Epoch 00003: val_loss did not improve from 0.99411\n",
            "Epoch 4/200\n",
            "1846/1846 [==============================] - 549s 297ms/step - loss: 0.5122 - accuracy: 0.8406 - val_loss: 1.1028 - val_accuracy: 0.7572\n",
            "\n",
            "Epoch 00004: ReduceLROnPlateau reducing learning rate to 0.000800000037997961.\n",
            "\n",
            "Epoch 00004: val_loss did not improve from 0.99411\n",
            "Epoch 5/200\n",
            "1846/1846 [==============================] - 551s 298ms/step - loss: 0.3424 - accuracy: 0.8915 - val_loss: 1.0630 - val_accuracy: 0.7700\n",
            "\n",
            "Epoch 00005: val_loss did not improve from 0.99411\n",
            "Epoch 6/200\n",
            "1846/1846 [==============================] - 545s 295ms/step - loss: 0.2564 - accuracy: 0.9199 - val_loss: 1.1722 - val_accuracy: 0.7476\n",
            "\n",
            "Epoch 00006: ReduceLROnPlateau reducing learning rate to 0.0006400000303983689.\n",
            "\n",
            "Epoch 00006: val_loss did not improve from 0.99411\n",
            "Epoch 7/200\n",
            "1846/1846 [==============================] - 547s 296ms/step - loss: 0.1796 - accuracy: 0.9426 - val_loss: 1.1429 - val_accuracy: 0.7604\n"
          ],
          "name": "stdout"
        },
        {
          "output_type": "stream",
          "text": [
            "  2%|▏         | 56/2812 [00:00<00:04, 556.48it/s]"
          ],
          "name": "stderr"
        },
        {
          "output_type": "stream",
          "text": [
            "\n",
            "Epoch 00007: val_loss did not improve from 0.99411\n",
            "... Validating on fold 5 ...\n",
            "... Augmenting Data ...\n"
          ],
          "name": "stdout"
        },
        {
          "output_type": "stream",
          "text": [
            "100%|██████████| 2812/2812 [00:05<00:00, 538.91it/s]\n",
            "  2%|▏         | 1015/59052 [00:00<00:05, 10143.67it/s]"
          ],
          "name": "stderr"
        },
        {
          "output_type": "stream",
          "text": [
            "... DFFT Feature Engineering ...\n"
          ],
          "name": "stdout"
        },
        {
          "output_type": "stream",
          "text": [
            "100%|██████████| 59052/59052 [00:06<00:00, 9312.05it/s]\n",
            "100%|██████████| 313/313 [00:00<00:00, 10336.57it/s]\n"
          ],
          "name": "stderr"
        },
        {
          "output_type": "stream",
          "text": [
            "... Building Model ...\n",
            "... Training ...\n",
            "Epoch 1/200\n",
            "1846/1846 [==============================] - 574s 298ms/step - loss: 2.2274 - accuracy: 0.5050 - val_loss: 1.2588 - val_accuracy: 0.6454\n",
            "\n",
            "Epoch 00001: val_loss improved from inf to 1.25875, saving model to drive/MyDrive/movement_detection/kfold5/testNoise_epoch_001_val_1.259_accuracy_0.645.h5\n",
            "Epoch 2/200\n",
            "1846/1846 [==============================] - 548s 297ms/step - loss: 1.1751 - accuracy: 0.6616 - val_loss: 1.1166 - val_accuracy: 0.7125\n",
            "\n",
            "Epoch 00002: val_loss improved from 1.25875 to 1.11658, saving model to drive/MyDrive/movement_detection/kfold5/testNoise_epoch_002_val_1.117_accuracy_0.712.h5\n",
            "Epoch 3/200\n",
            "1846/1846 [==============================] - 548s 297ms/step - loss: 0.7375 - accuracy: 0.7775 - val_loss: 1.0534 - val_accuracy: 0.7540\n",
            "\n",
            "Epoch 00003: val_loss improved from 1.11658 to 1.05342, saving model to drive/MyDrive/movement_detection/kfold5/testNoise_epoch_003_val_1.053_accuracy_0.754.h5\n",
            "Epoch 4/200\n",
            "1846/1846 [==============================] - 548s 297ms/step - loss: 0.4835 - accuracy: 0.8495 - val_loss: 0.9664 - val_accuracy: 0.7476\n",
            "\n",
            "Epoch 00004: val_loss improved from 1.05342 to 0.96640, saving model to drive/MyDrive/movement_detection/kfold5/testNoise_epoch_004_val_0.966_accuracy_0.748.h5\n",
            "Epoch 5/200\n",
            "1846/1846 [==============================] - 548s 297ms/step - loss: 0.3332 - accuracy: 0.8935 - val_loss: 1.1956 - val_accuracy: 0.7220\n",
            "\n",
            "Epoch 00005: val_loss did not improve from 0.96640\n",
            "Epoch 6/200\n",
            "1846/1846 [==============================] - 551s 298ms/step - loss: 0.2534 - accuracy: 0.9188 - val_loss: 1.1299 - val_accuracy: 0.7668\n",
            "\n",
            "Epoch 00006: ReduceLROnPlateau reducing learning rate to 0.000800000037997961.\n",
            "\n",
            "Epoch 00006: val_loss did not improve from 0.96640\n",
            "Epoch 7/200\n",
            "1846/1846 [==============================] - 550s 298ms/step - loss: 0.1692 - accuracy: 0.9462 - val_loss: 1.1484 - val_accuracy: 0.7412\n",
            "\n",
            "Epoch 00007: val_loss did not improve from 0.96640\n",
            "Epoch 8/200\n",
            "1846/1846 [==============================] - 550s 298ms/step - loss: 0.1418 - accuracy: 0.9539 - val_loss: 1.3800 - val_accuracy: 0.7284\n",
            "\n",
            "Epoch 00008: ReduceLROnPlateau reducing learning rate to 0.0006400000303983689.\n",
            "\n",
            "Epoch 00008: val_loss did not improve from 0.96640\n",
            "Epoch 9/200\n",
            "1846/1846 [==============================] - 548s 297ms/step - loss: 0.0960 - accuracy: 0.9691 - val_loss: 1.3690 - val_accuracy: 0.7636\n"
          ],
          "name": "stdout"
        },
        {
          "output_type": "stream",
          "text": [
            "\r  0%|          | 0/2813 [00:00<?, ?it/s]"
          ],
          "name": "stderr"
        },
        {
          "output_type": "stream",
          "text": [
            "\n",
            "Epoch 00009: val_loss did not improve from 0.96640\n",
            "... Validating on fold 6 ...\n",
            "... Augmenting Data ...\n"
          ],
          "name": "stdout"
        },
        {
          "output_type": "stream",
          "text": [
            "100%|██████████| 2813/2813 [00:05<00:00, 496.68it/s]\n",
            "  2%|▏         | 1026/59073 [00:00<00:05, 10252.99it/s]"
          ],
          "name": "stderr"
        },
        {
          "output_type": "stream",
          "text": [
            "... DFFT Feature Engineering ...\n"
          ],
          "name": "stdout"
        },
        {
          "output_type": "stream",
          "text": [
            "100%|██████████| 59073/59073 [00:06<00:00, 8467.08it/s]\n",
            "100%|██████████| 312/312 [00:00<00:00, 9188.28it/s]\n"
          ],
          "name": "stderr"
        },
        {
          "output_type": "stream",
          "text": [
            "... Building Model ...\n",
            "... Training ...\n",
            "Epoch 1/200\n",
            "1847/1847 [==============================] - 575s 299ms/step - loss: 2.2884 - accuracy: 0.5016 - val_loss: 1.3737 - val_accuracy: 0.6314\n",
            "\n",
            "Epoch 00001: val_loss improved from inf to 1.37371, saving model to drive/MyDrive/movement_detection/kfold6/testNoise_epoch_001_val_1.374_accuracy_0.631.h5\n",
            "Epoch 2/200\n",
            "1847/1847 [==============================] - 549s 297ms/step - loss: 1.1500 - accuracy: 0.6694 - val_loss: 0.9752 - val_accuracy: 0.7244\n",
            "\n",
            "Epoch 00002: val_loss improved from 1.37371 to 0.97523, saving model to drive/MyDrive/movement_detection/kfold6/testNoise_epoch_002_val_0.975_accuracy_0.724.h5\n",
            "Epoch 3/200\n",
            "1847/1847 [==============================] - 551s 298ms/step - loss: 0.7363 - accuracy: 0.7786 - val_loss: 0.8726 - val_accuracy: 0.7308\n",
            "\n",
            "Epoch 00003: val_loss improved from 0.97523 to 0.87263, saving model to drive/MyDrive/movement_detection/kfold6/testNoise_epoch_003_val_0.873_accuracy_0.731.h5\n",
            "Epoch 4/200\n",
            "1847/1847 [==============================] - 550s 298ms/step - loss: 0.4982 - accuracy: 0.8432 - val_loss: 0.8542 - val_accuracy: 0.7724\n",
            "\n",
            "Epoch 00004: val_loss improved from 0.87263 to 0.85424, saving model to drive/MyDrive/movement_detection/kfold6/testNoise_epoch_004_val_0.854_accuracy_0.772.h5\n",
            "Epoch 5/200\n",
            "1847/1847 [==============================] - 552s 299ms/step - loss: 0.3459 - accuracy: 0.8887 - val_loss: 1.0376 - val_accuracy: 0.7596\n",
            "\n",
            "Epoch 00005: val_loss did not improve from 0.85424\n",
            "Epoch 6/200\n",
            "1847/1847 [==============================] - 552s 299ms/step - loss: 0.2740 - accuracy: 0.9112 - val_loss: 0.9343 - val_accuracy: 0.7724\n",
            "\n",
            "Epoch 00006: ReduceLROnPlateau reducing learning rate to 0.000800000037997961.\n",
            "\n",
            "Epoch 00006: val_loss did not improve from 0.85424\n",
            "Epoch 7/200\n",
            "1847/1847 [==============================] - 544s 294ms/step - loss: 0.1872 - accuracy: 0.9401 - val_loss: 0.9707 - val_accuracy: 0.7853\n",
            "\n",
            "Epoch 00007: val_loss did not improve from 0.85424\n",
            "Epoch 8/200\n",
            "1847/1847 [==============================] - 541s 293ms/step - loss: 0.1536 - accuracy: 0.9505 - val_loss: 0.9493 - val_accuracy: 0.7917\n",
            "\n",
            "Epoch 00008: ReduceLROnPlateau reducing learning rate to 0.0006400000303983689.\n",
            "\n",
            "Epoch 00008: val_loss did not improve from 0.85424\n",
            "Epoch 9/200\n",
            "1847/1847 [==============================] - 540s 293ms/step - loss: 0.1051 - accuracy: 0.9667 - val_loss: 1.0215 - val_accuracy: 0.7853\n"
          ],
          "name": "stdout"
        },
        {
          "output_type": "stream",
          "text": [
            "  2%|▏         | 56/2813 [00:00<00:04, 556.70it/s]"
          ],
          "name": "stderr"
        },
        {
          "output_type": "stream",
          "text": [
            "\n",
            "Epoch 00009: val_loss did not improve from 0.85424\n",
            "... Validating on fold 7 ...\n",
            "... Augmenting Data ...\n"
          ],
          "name": "stdout"
        },
        {
          "output_type": "stream",
          "text": [
            "100%|██████████| 2813/2813 [00:05<00:00, 497.30it/s]\n",
            "  2%|▏         | 1016/59073 [00:00<00:05, 10159.77it/s]"
          ],
          "name": "stderr"
        },
        {
          "output_type": "stream",
          "text": [
            "... DFFT Feature Engineering ...\n"
          ],
          "name": "stdout"
        },
        {
          "output_type": "stream",
          "text": [
            "100%|██████████| 59073/59073 [00:06<00:00, 8611.70it/s]\n",
            "100%|██████████| 312/312 [00:00<00:00, 10291.39it/s]\n"
          ],
          "name": "stderr"
        },
        {
          "output_type": "stream",
          "text": [
            "... Building Model ...\n",
            "... Training ...\n",
            "Epoch 1/200\n",
            "1847/1847 [==============================] - 568s 295ms/step - loss: 2.2255 - accuracy: 0.5107 - val_loss: 1.3490 - val_accuracy: 0.6122\n",
            "\n",
            "Epoch 00001: val_loss improved from inf to 1.34896, saving model to drive/MyDrive/movement_detection/kfold7/testNoise_epoch_001_val_1.349_accuracy_0.612.h5\n",
            "Epoch 2/200\n",
            "1847/1847 [==============================] - 542s 294ms/step - loss: 1.1109 - accuracy: 0.6773 - val_loss: 1.0087 - val_accuracy: 0.7212\n",
            "\n",
            "Epoch 00002: val_loss improved from 1.34896 to 1.00865, saving model to drive/MyDrive/movement_detection/kfold7/testNoise_epoch_002_val_1.009_accuracy_0.721.h5\n",
            "Epoch 3/200\n",
            "1847/1847 [==============================] - 543s 294ms/step - loss: 0.6897 - accuracy: 0.7941 - val_loss: 1.0040 - val_accuracy: 0.7308\n",
            "\n",
            "Epoch 00003: val_loss improved from 1.00865 to 1.00398, saving model to drive/MyDrive/movement_detection/kfold7/testNoise_epoch_003_val_1.004_accuracy_0.731.h5\n",
            "Epoch 4/200\n",
            "1847/1847 [==============================] - 542s 294ms/step - loss: 0.4457 - accuracy: 0.8607 - val_loss: 1.0984 - val_accuracy: 0.7212\n",
            "\n",
            "Epoch 00004: val_loss did not improve from 1.00398\n",
            "Epoch 5/200\n",
            "1847/1847 [==============================] - 543s 294ms/step - loss: 0.3281 - accuracy: 0.8953 - val_loss: 1.1866 - val_accuracy: 0.7436\n",
            "\n",
            "Epoch 00005: ReduceLROnPlateau reducing learning rate to 0.000800000037997961.\n",
            "\n",
            "Epoch 00005: val_loss did not improve from 1.00398\n",
            "Epoch 6/200\n",
            "1847/1847 [==============================] - 542s 293ms/step - loss: 0.2034 - accuracy: 0.9355 - val_loss: 1.2619 - val_accuracy: 0.7564\n",
            "\n",
            "Epoch 00006: val_loss did not improve from 1.00398\n",
            "Epoch 7/200\n",
            "1847/1847 [==============================] - 541s 293ms/step - loss: 0.1649 - accuracy: 0.9470 - val_loss: 1.2864 - val_accuracy: 0.7308\n",
            "\n",
            "Epoch 00007: ReduceLROnPlateau reducing learning rate to 0.0006400000303983689.\n",
            "\n",
            "Epoch 00007: val_loss did not improve from 1.00398\n",
            "Epoch 8/200\n",
            "1847/1847 [==============================] - 540s 292ms/step - loss: 0.1189 - accuracy: 0.9615 - val_loss: 1.2889 - val_accuracy: 0.7660\n"
          ],
          "name": "stdout"
        },
        {
          "output_type": "stream",
          "text": [
            "  2%|▏         | 55/2813 [00:00<00:05, 543.78it/s]"
          ],
          "name": "stderr"
        },
        {
          "output_type": "stream",
          "text": [
            "\n",
            "Epoch 00008: val_loss did not improve from 1.00398\n",
            "... Validating on fold 8 ...\n",
            "... Augmenting Data ...\n"
          ],
          "name": "stdout"
        },
        {
          "output_type": "stream",
          "text": [
            "100%|██████████| 2813/2813 [00:05<00:00, 521.73it/s]\n",
            "  2%|▏         | 978/59073 [00:00<00:05, 9778.68it/s]"
          ],
          "name": "stderr"
        },
        {
          "output_type": "stream",
          "text": [
            "... DFFT Feature Engineering ...\n"
          ],
          "name": "stdout"
        },
        {
          "output_type": "stream",
          "text": [
            "100%|██████████| 59073/59073 [00:06<00:00, 9771.77it/s]\n",
            "100%|██████████| 312/312 [00:00<00:00, 10511.87it/s]\n"
          ],
          "name": "stderr"
        },
        {
          "output_type": "stream",
          "text": [
            "... Building Model ...\n",
            "... Training ...\n",
            "Epoch 1/200\n",
            "1847/1847 [==============================] - 569s 295ms/step - loss: 2.1995 - accuracy: 0.5082 - val_loss: 1.1996 - val_accuracy: 0.6474\n",
            "\n",
            "Epoch 00001: val_loss improved from inf to 1.19958, saving model to drive/MyDrive/movement_detection/kfold8/testNoise_epoch_001_val_1.200_accuracy_0.647.h5\n",
            "Epoch 2/200\n",
            "1847/1847 [==============================] - 542s 294ms/step - loss: 1.1672 - accuracy: 0.6681 - val_loss: 0.9618 - val_accuracy: 0.7244\n",
            "\n",
            "Epoch 00002: val_loss improved from 1.19958 to 0.96183, saving model to drive/MyDrive/movement_detection/kfold8/testNoise_epoch_002_val_0.962_accuracy_0.724.h5\n",
            "Epoch 3/200\n",
            "1847/1847 [==============================] - 540s 293ms/step - loss: 0.7493 - accuracy: 0.7715 - val_loss: 0.9031 - val_accuracy: 0.7404\n",
            "\n",
            "Epoch 00003: val_loss improved from 0.96183 to 0.90313, saving model to drive/MyDrive/movement_detection/kfold8/testNoise_epoch_003_val_0.903_accuracy_0.740.h5\n",
            "Epoch 4/200\n",
            "1847/1847 [==============================] - 539s 292ms/step - loss: 0.5259 - accuracy: 0.8384 - val_loss: 0.8594 - val_accuracy: 0.7628\n",
            "\n",
            "Epoch 00004: val_loss improved from 0.90313 to 0.85935, saving model to drive/MyDrive/movement_detection/kfold8/testNoise_epoch_004_val_0.859_accuracy_0.763.h5\n",
            "Epoch 5/200\n",
            "1847/1847 [==============================] - 549s 297ms/step - loss: 0.3651 - accuracy: 0.8854 - val_loss: 0.9703 - val_accuracy: 0.7340\n",
            "\n",
            "Epoch 00005: val_loss did not improve from 0.85935\n",
            "Epoch 6/200\n",
            "1847/1847 [==============================] - 550s 298ms/step - loss: 0.2735 - accuracy: 0.9131 - val_loss: 1.0690 - val_accuracy: 0.7756\n",
            "\n",
            "Epoch 00006: ReduceLROnPlateau reducing learning rate to 0.000800000037997961.\n",
            "\n",
            "Epoch 00006: val_loss did not improve from 0.85935\n",
            "Epoch 7/200\n",
            "1847/1847 [==============================] - 550s 298ms/step - loss: 0.1991 - accuracy: 0.9368 - val_loss: 1.1250 - val_accuracy: 0.7692\n",
            "\n",
            "Epoch 00007: val_loss did not improve from 0.85935\n",
            "Epoch 8/200\n",
            "1847/1847 [==============================] - 550s 298ms/step - loss: 0.1601 - accuracy: 0.9498 - val_loss: 1.1225 - val_accuracy: 0.7564\n",
            "\n",
            "Epoch 00008: ReduceLROnPlateau reducing learning rate to 0.0006400000303983689.\n",
            "\n",
            "Epoch 00008: val_loss did not improve from 0.85935\n",
            "Epoch 9/200\n",
            "1847/1847 [==============================] - 552s 299ms/step - loss: 0.1155 - accuracy: 0.9632 - val_loss: 1.1900 - val_accuracy: 0.7500\n"
          ],
          "name": "stdout"
        },
        {
          "output_type": "stream",
          "text": [
            "  2%|▏         | 56/2813 [00:00<00:04, 558.03it/s]"
          ],
          "name": "stderr"
        },
        {
          "output_type": "stream",
          "text": [
            "\n",
            "Epoch 00009: val_loss did not improve from 0.85935\n",
            "... Validating on fold 9 ...\n",
            "... Augmenting Data ...\n"
          ],
          "name": "stdout"
        },
        {
          "output_type": "stream",
          "text": [
            "100%|██████████| 2813/2813 [00:05<00:00, 539.37it/s]\n",
            "  2%|▏         | 1038/59073 [00:00<00:05, 10378.60it/s]"
          ],
          "name": "stderr"
        },
        {
          "output_type": "stream",
          "text": [
            "... DFFT Feature Engineering ...\n"
          ],
          "name": "stdout"
        },
        {
          "output_type": "stream",
          "text": [
            "100%|██████████| 59073/59073 [00:06<00:00, 8755.89it/s]\n",
            "100%|██████████| 312/312 [00:00<00:00, 10192.00it/s]\n"
          ],
          "name": "stderr"
        },
        {
          "output_type": "stream",
          "text": [
            "... Building Model ...\n",
            "... Training ...\n",
            "Epoch 1/200\n",
            "1847/1847 [==============================] - 578s 300ms/step - loss: 2.1690 - accuracy: 0.5148 - val_loss: 1.3169 - val_accuracy: 0.6282\n",
            "\n",
            "Epoch 00001: val_loss improved from inf to 1.31692, saving model to drive/MyDrive/movement_detection/kfold9/testNoise_epoch_001_val_1.317_accuracy_0.628.h5\n",
            "Epoch 2/200\n",
            "1847/1847 [==============================] - 551s 298ms/step - loss: 1.0772 - accuracy: 0.6857 - val_loss: 1.1071 - val_accuracy: 0.7340\n",
            "\n",
            "Epoch 00002: val_loss improved from 1.31692 to 1.10715, saving model to drive/MyDrive/movement_detection/kfold9/testNoise_epoch_002_val_1.107_accuracy_0.734.h5\n",
            "Epoch 3/200\n",
            "1847/1847 [==============================] - 552s 299ms/step - loss: 0.6923 - accuracy: 0.7862 - val_loss: 1.1455 - val_accuracy: 0.7404\n",
            "\n",
            "Epoch 00003: val_loss did not improve from 1.10715\n",
            "Epoch 4/200\n",
            "1847/1847 [==============================] - 552s 299ms/step - loss: 0.4722 - accuracy: 0.8515 - val_loss: 1.1156 - val_accuracy: 0.7404\n",
            "\n",
            "Epoch 00004: ReduceLROnPlateau reducing learning rate to 0.000800000037997961.\n",
            "\n",
            "Epoch 00004: val_loss did not improve from 1.10715\n",
            "Epoch 5/200\n",
            "1847/1847 [==============================] - 540s 292ms/step - loss: 0.3051 - accuracy: 0.9028 - val_loss: 1.1772 - val_accuracy: 0.7532\n",
            "\n",
            "Epoch 00005: val_loss did not improve from 1.10715\n",
            "Epoch 6/200\n",
            "1847/1847 [==============================] - 534s 289ms/step - loss: 0.2208 - accuracy: 0.9296 - val_loss: 1.2178 - val_accuracy: 0.7788\n",
            "\n",
            "Epoch 00006: ReduceLROnPlateau reducing learning rate to 0.0006400000303983689.\n",
            "\n",
            "Epoch 00006: val_loss did not improve from 1.10715\n",
            "Epoch 7/200\n",
            "1847/1847 [==============================] - 537s 291ms/step - loss: 0.1627 - accuracy: 0.9488 - val_loss: 1.3096 - val_accuracy: 0.7788\n"
          ],
          "name": "stdout"
        },
        {
          "output_type": "stream",
          "text": [
            "\r  0%|          | 0/2813 [00:00<?, ?it/s]"
          ],
          "name": "stderr"
        },
        {
          "output_type": "stream",
          "text": [
            "\n",
            "Epoch 00007: val_loss did not improve from 1.10715\n",
            "... Validating on fold 10 ...\n",
            "... Augmenting Data ...\n"
          ],
          "name": "stdout"
        },
        {
          "output_type": "stream",
          "text": [
            "100%|██████████| 2813/2813 [00:05<00:00, 520.97it/s]\n",
            "  2%|▏         | 1025/59073 [00:00<00:05, 10248.84it/s]"
          ],
          "name": "stderr"
        },
        {
          "output_type": "stream",
          "text": [
            "... DFFT Feature Engineering ...\n"
          ],
          "name": "stdout"
        },
        {
          "output_type": "stream",
          "text": [
            "100%|██████████| 59073/59073 [00:06<00:00, 9826.99it/s] \n",
            "100%|██████████| 312/312 [00:00<00:00, 10725.71it/s]\n"
          ],
          "name": "stderr"
        },
        {
          "output_type": "stream",
          "text": [
            "... Building Model ...\n",
            "... Training ...\n",
            "Epoch 1/200\n",
            "1847/1847 [==============================] - 560s 291ms/step - loss: 2.2294 - accuracy: 0.5081 - val_loss: 1.3343 - val_accuracy: 0.6603\n",
            "\n",
            "Epoch 00001: val_loss improved from inf to 1.33433, saving model to drive/MyDrive/movement_detection/kfold10/testNoise_epoch_001_val_1.334_accuracy_0.660.h5\n",
            "Epoch 2/200\n",
            "1847/1847 [==============================] - 532s 288ms/step - loss: 1.2431 - accuracy: 0.6429 - val_loss: 1.0093 - val_accuracy: 0.7179\n",
            "\n",
            "Epoch 00002: val_loss improved from 1.33433 to 1.00927, saving model to drive/MyDrive/movement_detection/kfold10/testNoise_epoch_002_val_1.009_accuracy_0.718.h5\n",
            "Epoch 3/200\n",
            "1847/1847 [==============================] - 535s 290ms/step - loss: 0.7835 - accuracy: 0.7646 - val_loss: 0.9961 - val_accuracy: 0.7436\n",
            "\n",
            "Epoch 00003: val_loss improved from 1.00927 to 0.99606, saving model to drive/MyDrive/movement_detection/kfold10/testNoise_epoch_003_val_0.996_accuracy_0.744.h5\n",
            "Epoch 4/200\n",
            "1847/1847 [==============================] - 534s 289ms/step - loss: 0.5314 - accuracy: 0.8355 - val_loss: 0.9658 - val_accuracy: 0.7628\n",
            "\n",
            "Epoch 00004: val_loss improved from 0.99606 to 0.96584, saving model to drive/MyDrive/movement_detection/kfold10/testNoise_epoch_004_val_0.966_accuracy_0.763.h5\n",
            "Epoch 5/200\n",
            "1847/1847 [==============================] - 535s 290ms/step - loss: 0.3680 - accuracy: 0.8833 - val_loss: 1.1668 - val_accuracy: 0.7372\n",
            "\n",
            "Epoch 00005: val_loss did not improve from 0.96584\n",
            "Epoch 6/200\n",
            "1847/1847 [==============================] - 533s 288ms/step - loss: 0.2828 - accuracy: 0.9081 - val_loss: 1.0702 - val_accuracy: 0.7692\n",
            "\n",
            "Epoch 00006: ReduceLROnPlateau reducing learning rate to 0.000800000037997961.\n",
            "\n",
            "Epoch 00006: val_loss did not improve from 0.96584\n",
            "Epoch 7/200\n",
            "1847/1847 [==============================] - 534s 289ms/step - loss: 0.1949 - accuracy: 0.9376 - val_loss: 1.1057 - val_accuracy: 0.7756\n",
            "\n",
            "Epoch 00007: val_loss did not improve from 0.96584\n",
            "Epoch 8/200\n",
            "1847/1847 [==============================] - 537s 290ms/step - loss: 0.1531 - accuracy: 0.9503 - val_loss: 1.1200 - val_accuracy: 0.7724\n",
            "\n",
            "Epoch 00008: ReduceLROnPlateau reducing learning rate to 0.0006400000303983689.\n",
            "\n",
            "Epoch 00008: val_loss did not improve from 0.96584\n",
            "Epoch 9/200\n",
            "1847/1847 [==============================] - 534s 289ms/step - loss: 0.1100 - accuracy: 0.9659 - val_loss: 1.2623 - val_accuracy: 0.7724\n",
            "\n",
            "Epoch 00009: val_loss did not improve from 0.96584\n"
          ],
          "name": "stdout"
        }
      ]
    },
    {
      "cell_type": "markdown",
      "metadata": {
        "id": "jg8h3S0svJ3f"
      },
      "source": [
        "## Make Prediction"
      ]
    },
    {
      "cell_type": "code",
      "metadata": {
        "id": "WDGYmWrmvKpP"
      },
      "source": [
        "model1 = load_model('drive/MyDrive/movement_detection/kfold1/testNoise_epoch_004_val_0.905_accuracy_0.757.h5',\n",
        "                    custom_objects={'SingleAttention': SingleAttention,\n",
        "                                    'MultiAttention': MultiAttention,\n",
        "                                    'TransformerEncoder': TransformerEncoder})\n",
        "model2 = load_model('drive/MyDrive/movement_detection/kfold2/testNoise_epoch_002_val_1.010_accuracy_0.725.h5',\n",
        "                    custom_objects={'SingleAttention': SingleAttention,\n",
        "                                    'MultiAttention': MultiAttention,\n",
        "                                    'TransformerEncoder': TransformerEncoder}) \n",
        "model3 = load_model('drive/MyDrive/movement_detection/kfold3/testNoise_epoch_004_val_0.957_accuracy_0.751.h5',\n",
        "                    custom_objects={'SingleAttention': SingleAttention,\n",
        "                                    'MultiAttention': MultiAttention,\n",
        "                                    'TransformerEncoder': TransformerEncoder})  \n",
        "model4 = load_model('drive/MyDrive/movement_detection/kfold4/testNoise_epoch_002_val_0.994_accuracy_0.709.h5',\n",
        "                    custom_objects={'SingleAttention': SingleAttention,\n",
        "                                    'MultiAttention': MultiAttention,\n",
        "                                    'TransformerEncoder': TransformerEncoder}) \n",
        "model5 = load_model('drive/MyDrive/movement_detection/kfold5/testNoise_epoch_004_val_0.966_accuracy_0.748.h5',\n",
        "                    custom_objects={'SingleAttention': SingleAttention,\n",
        "                                    'MultiAttention': MultiAttention,\n",
        "                                    'TransformerEncoder': TransformerEncoder})\n",
        "model6 = load_model('drive/MyDrive/movement_detection/kfold6/testNoise_epoch_004_val_0.854_accuracy_0.772.h5',\n",
        "                    custom_objects={'SingleAttention': SingleAttention,\n",
        "                                    'MultiAttention': MultiAttention,\n",
        "                                    'TransformerEncoder': TransformerEncoder})\n",
        "model7 = load_model('drive/MyDrive/movement_detection/kfold7/testNoise_epoch_003_val_1.004_accuracy_0.731.h5',\n",
        "                    custom_objects={'SingleAttention': SingleAttention,\n",
        "                                    'MultiAttention': MultiAttention,\n",
        "                                    'TransformerEncoder': TransformerEncoder})\n",
        "model8 = load_model('drive/MyDrive/movement_detection/kfold8/testNoise_epoch_004_val_0.859_accuracy_0.763.h5',\n",
        "                    custom_objects={'SingleAttention': SingleAttention,\n",
        "                                    'MultiAttention': MultiAttention,\n",
        "                                    'TransformerEncoder': TransformerEncoder})\n",
        "model9 = load_model('drive/MyDrive/movement_detection/kfold9/testNoise_epoch_002_val_1.107_accuracy_0.734.h5',\n",
        "                    custom_objects={'SingleAttention': SingleAttention,\n",
        "                                    'MultiAttention': MultiAttention,\n",
        "                                    'TransformerEncoder': TransformerEncoder}) \n",
        "model10 = load_model('drive/MyDrive/movement_detection/kfold10/testNoise_epoch_004_val_0.966_accuracy_0.763.h5',\n",
        "                     custom_objects={'SingleAttention': SingleAttention,\n",
        "                                    'MultiAttention': MultiAttention,\n",
        "                                    'TransformerEncoder': TransformerEncoder})\n"
      ],
      "execution_count": 14,
      "outputs": []
    },
    {
      "cell_type": "code",
      "metadata": {
        "colab": {
          "base_uri": "https://localhost:8080/"
        },
        "id": "2Za5qAXwwYTG",
        "outputId": "d1270ac4-33e5-4783-c163-08ea799017e8"
      },
      "source": [
        "X_test = tf.reshape(np.array(test_features.iloc[:,2:]),[-1, 600, 6])\n",
        "X_test = np.asarray(X_test)\n",
        "\n",
        "##### feature engineering for test dataset ##### \n",
        "X_test_fourier_real = [] \n",
        "X_test_fourier_imag = [] \n",
        "for i in tqdm(range(X_test.shape[0]), position = 0, leave = True):\n",
        "    real_part = np.fft.fft(X_test[i]).real \n",
        "    imag_part = np.fft.fft(X_test[i]).imag \n",
        "    X_test_fourier_real.append(real_part) \n",
        "    X_test_fourier_imag.append(imag_part)\n",
        "    \n",
        "X_test_fourier_real = np.asarray(X_test_fourier_real) \n",
        "X_test_fourier_imag = np.asarray(X_test_fourier_imag)\n",
        "X_test = np.concatenate([X_test, X_test_fourier_real, X_test_fourier_imag], axis = 2)  \n",
        "\n",
        "print(X_test.shape)\n"
      ],
      "execution_count": 16,
      "outputs": [
        {
          "output_type": "stream",
          "text": [
            "100%|██████████| 782/782 [00:00<00:00, 9589.11it/s]"
          ],
          "name": "stderr"
        },
        {
          "output_type": "stream",
          "text": [
            "(782, 600, 18)\n"
          ],
          "name": "stdout"
        },
        {
          "output_type": "stream",
          "text": [
            "\n"
          ],
          "name": "stderr"
        }
      ]
    },
    {
      "cell_type": "code",
      "metadata": {
        "colab": {
          "base_uri": "https://localhost:8080/"
        },
        "id": "JfhH04Qbtnpl",
        "outputId": "6a0f137d-e926-49c1-c72b-3c4d0e7b34df"
      },
      "source": [
        "X_test.shape"
      ],
      "execution_count": 17,
      "outputs": [
        {
          "output_type": "execute_result",
          "data": {
            "text/plain": [
              "(782, 600, 18)"
            ]
          },
          "metadata": {
            "tags": []
          },
          "execution_count": 17
        }
      ]
    },
    {
      "cell_type": "code",
      "metadata": {
        "id": "-jgD65oawf6N"
      },
      "source": [
        "p1 = model1.predict(X_test) \n",
        "p2 = model2.predict(X_test)\n",
        "p3 = model3.predict(X_test) \n",
        "p4 = model4.predict(X_test) \n",
        "p5 = model5.predict(X_test) \n",
        "p6 = model6.predict(X_test) \n",
        "p7 = model7.predict(X_test) \n",
        "p8 = model8.predict(X_test)\n",
        "p9 = model9.predict(X_test)\n",
        "p10 = model10.predict(X_test)"
      ],
      "execution_count": 18,
      "outputs": []
    },
    {
      "cell_type": "code",
      "metadata": {
        "id": "y1dDaSUrw0ET"
      },
      "source": [
        "p_avg = (p1 + p2 + p3 + p4 + p5 + p6 + p7 + p8 + p9 + p10)/10.0\n",
        "\n",
        "sample_submission.iloc[:,1:] = p_avg\n",
        "\n",
        "sample_submission.to_csv(\"drive/MyDrive/movement_detection/fourier_transform_10_fold_transformer.csv\",index=False)\n"
      ],
      "execution_count": 21,
      "outputs": []
    },
    {
      "cell_type": "code",
      "metadata": {
        "colab": {
          "base_uri": "https://localhost:8080/",
          "height": 309
        },
        "id": "uWx8IzHBuAnS",
        "outputId": "a73942c5-853d-48fb-e77e-44bfd857cf40"
      },
      "source": [
        "sample_submission.head()"
      ],
      "execution_count": 22,
      "outputs": [
        {
          "output_type": "execute_result",
          "data": {
            "text/html": [
              "<div>\n",
              "<style scoped>\n",
              "    .dataframe tbody tr th:only-of-type {\n",
              "        vertical-align: middle;\n",
              "    }\n",
              "\n",
              "    .dataframe tbody tr th {\n",
              "        vertical-align: top;\n",
              "    }\n",
              "\n",
              "    .dataframe thead th {\n",
              "        text-align: right;\n",
              "    }\n",
              "</style>\n",
              "<table border=\"1\" class=\"dataframe\">\n",
              "  <thead>\n",
              "    <tr style=\"text-align: right;\">\n",
              "      <th></th>\n",
              "      <th>id</th>\n",
              "      <th>0</th>\n",
              "      <th>1</th>\n",
              "      <th>2</th>\n",
              "      <th>3</th>\n",
              "      <th>4</th>\n",
              "      <th>5</th>\n",
              "      <th>6</th>\n",
              "      <th>7</th>\n",
              "      <th>8</th>\n",
              "      <th>9</th>\n",
              "      <th>10</th>\n",
              "      <th>11</th>\n",
              "      <th>12</th>\n",
              "      <th>13</th>\n",
              "      <th>14</th>\n",
              "      <th>15</th>\n",
              "      <th>16</th>\n",
              "      <th>17</th>\n",
              "      <th>18</th>\n",
              "      <th>19</th>\n",
              "      <th>20</th>\n",
              "      <th>21</th>\n",
              "      <th>22</th>\n",
              "      <th>23</th>\n",
              "      <th>24</th>\n",
              "      <th>25</th>\n",
              "      <th>26</th>\n",
              "      <th>27</th>\n",
              "      <th>28</th>\n",
              "      <th>29</th>\n",
              "      <th>30</th>\n",
              "      <th>31</th>\n",
              "      <th>32</th>\n",
              "      <th>33</th>\n",
              "      <th>34</th>\n",
              "      <th>35</th>\n",
              "      <th>36</th>\n",
              "      <th>37</th>\n",
              "      <th>38</th>\n",
              "      <th>39</th>\n",
              "      <th>40</th>\n",
              "      <th>41</th>\n",
              "      <th>42</th>\n",
              "      <th>43</th>\n",
              "      <th>44</th>\n",
              "      <th>45</th>\n",
              "      <th>46</th>\n",
              "      <th>47</th>\n",
              "      <th>48</th>\n",
              "      <th>49</th>\n",
              "      <th>50</th>\n",
              "      <th>51</th>\n",
              "      <th>52</th>\n",
              "      <th>53</th>\n",
              "      <th>54</th>\n",
              "      <th>55</th>\n",
              "      <th>56</th>\n",
              "      <th>57</th>\n",
              "      <th>58</th>\n",
              "      <th>59</th>\n",
              "      <th>60</th>\n",
              "    </tr>\n",
              "  </thead>\n",
              "  <tbody>\n",
              "    <tr>\n",
              "      <th>0</th>\n",
              "      <td>3125</td>\n",
              "      <td>0.000047</td>\n",
              "      <td>0.006766</td>\n",
              "      <td>1.274405e-05</td>\n",
              "      <td>0.000118</td>\n",
              "      <td>0.000082</td>\n",
              "      <td>0.000011</td>\n",
              "      <td>0.327663</td>\n",
              "      <td>0.001213</td>\n",
              "      <td>0.000051</td>\n",
              "      <td>0.140336</td>\n",
              "      <td>0.022922</td>\n",
              "      <td>0.029442</td>\n",
              "      <td>0.000855</td>\n",
              "      <td>0.160345</td>\n",
              "      <td>5.897850e-03</td>\n",
              "      <td>0.000356</td>\n",
              "      <td>0.000219</td>\n",
              "      <td>0.000214</td>\n",
              "      <td>0.000045</td>\n",
              "      <td>0.000016</td>\n",
              "      <td>7.206438e-06</td>\n",
              "      <td>1.680275e-04</td>\n",
              "      <td>0.000221</td>\n",
              "      <td>0.000109</td>\n",
              "      <td>0.024648</td>\n",
              "      <td>0.000002</td>\n",
              "      <td>0.000256</td>\n",
              "      <td>6.882704e-04</td>\n",
              "      <td>0.000053</td>\n",
              "      <td>0.000261</td>\n",
              "      <td>0.028017</td>\n",
              "      <td>5.909244e-03</td>\n",
              "      <td>0.000007</td>\n",
              "      <td>0.000473</td>\n",
              "      <td>0.003883</td>\n",
              "      <td>0.000002</td>\n",
              "      <td>0.000966</td>\n",
              "      <td>0.076400</td>\n",
              "      <td>0.000166</td>\n",
              "      <td>0.000057</td>\n",
              "      <td>0.000490</td>\n",
              "      <td>0.000591</td>\n",
              "      <td>0.053101</td>\n",
              "      <td>0.032264</td>\n",
              "      <td>0.004587</td>\n",
              "      <td>0.025970</td>\n",
              "      <td>0.000018</td>\n",
              "      <td>2.043550e-02</td>\n",
              "      <td>0.000029</td>\n",
              "      <td>0.000011</td>\n",
              "      <td>0.000004</td>\n",
              "      <td>5.291438e-04</td>\n",
              "      <td>0.000618</td>\n",
              "      <td>7.303744e-05</td>\n",
              "      <td>2.842282e-03</td>\n",
              "      <td>7.567881e-06</td>\n",
              "      <td>0.000057</td>\n",
              "      <td>0.000274</td>\n",
              "      <td>0.019107</td>\n",
              "      <td>0.000016</td>\n",
              "      <td>0.000069</td>\n",
              "    </tr>\n",
              "    <tr>\n",
              "      <th>1</th>\n",
              "      <td>3126</td>\n",
              "      <td>0.000287</td>\n",
              "      <td>0.000031</td>\n",
              "      <td>3.575826e-06</td>\n",
              "      <td>0.000050</td>\n",
              "      <td>0.000015</td>\n",
              "      <td>0.000071</td>\n",
              "      <td>0.000004</td>\n",
              "      <td>0.000088</td>\n",
              "      <td>0.000005</td>\n",
              "      <td>0.000003</td>\n",
              "      <td>0.000011</td>\n",
              "      <td>0.000019</td>\n",
              "      <td>0.000003</td>\n",
              "      <td>0.000008</td>\n",
              "      <td>5.010917e-06</td>\n",
              "      <td>0.000191</td>\n",
              "      <td>0.000013</td>\n",
              "      <td>0.000004</td>\n",
              "      <td>0.000034</td>\n",
              "      <td>0.000002</td>\n",
              "      <td>7.410972e-06</td>\n",
              "      <td>1.197676e-04</td>\n",
              "      <td>0.001090</td>\n",
              "      <td>0.001671</td>\n",
              "      <td>0.000052</td>\n",
              "      <td>0.000009</td>\n",
              "      <td>0.992444</td>\n",
              "      <td>3.680520e-05</td>\n",
              "      <td>0.000005</td>\n",
              "      <td>0.000006</td>\n",
              "      <td>0.000003</td>\n",
              "      <td>6.448591e-07</td>\n",
              "      <td>0.000089</td>\n",
              "      <td>0.000037</td>\n",
              "      <td>0.000022</td>\n",
              "      <td>0.000678</td>\n",
              "      <td>0.001523</td>\n",
              "      <td>0.000037</td>\n",
              "      <td>0.000005</td>\n",
              "      <td>0.000004</td>\n",
              "      <td>0.000185</td>\n",
              "      <td>0.000015</td>\n",
              "      <td>0.000010</td>\n",
              "      <td>0.000003</td>\n",
              "      <td>0.000005</td>\n",
              "      <td>0.000013</td>\n",
              "      <td>0.000002</td>\n",
              "      <td>4.741729e-05</td>\n",
              "      <td>0.000202</td>\n",
              "      <td>0.000315</td>\n",
              "      <td>0.000059</td>\n",
              "      <td>2.698824e-06</td>\n",
              "      <td>0.000001</td>\n",
              "      <td>1.006968e-06</td>\n",
              "      <td>4.294962e-06</td>\n",
              "      <td>1.179097e-05</td>\n",
              "      <td>0.000030</td>\n",
              "      <td>0.000318</td>\n",
              "      <td>0.000003</td>\n",
              "      <td>0.000005</td>\n",
              "      <td>0.000080</td>\n",
              "    </tr>\n",
              "    <tr>\n",
              "      <th>2</th>\n",
              "      <td>3127</td>\n",
              "      <td>0.000098</td>\n",
              "      <td>0.000379</td>\n",
              "      <td>1.956535e-05</td>\n",
              "      <td>0.000081</td>\n",
              "      <td>0.000450</td>\n",
              "      <td>0.000015</td>\n",
              "      <td>0.025156</td>\n",
              "      <td>0.000222</td>\n",
              "      <td>0.003722</td>\n",
              "      <td>0.075049</td>\n",
              "      <td>0.056015</td>\n",
              "      <td>0.003405</td>\n",
              "      <td>0.003389</td>\n",
              "      <td>0.001356</td>\n",
              "      <td>4.279258e-01</td>\n",
              "      <td>0.001015</td>\n",
              "      <td>0.000035</td>\n",
              "      <td>0.000365</td>\n",
              "      <td>0.000013</td>\n",
              "      <td>0.000055</td>\n",
              "      <td>3.291884e-05</td>\n",
              "      <td>1.049551e-04</td>\n",
              "      <td>0.000026</td>\n",
              "      <td>0.000009</td>\n",
              "      <td>0.005655</td>\n",
              "      <td>0.000165</td>\n",
              "      <td>0.004865</td>\n",
              "      <td>8.511020e-05</td>\n",
              "      <td>0.001604</td>\n",
              "      <td>0.004882</td>\n",
              "      <td>0.003581</td>\n",
              "      <td>9.442770e-03</td>\n",
              "      <td>0.007016</td>\n",
              "      <td>0.003681</td>\n",
              "      <td>0.018096</td>\n",
              "      <td>0.000024</td>\n",
              "      <td>0.000929</td>\n",
              "      <td>0.001656</td>\n",
              "      <td>0.013037</td>\n",
              "      <td>0.003420</td>\n",
              "      <td>0.000035</td>\n",
              "      <td>0.000060</td>\n",
              "      <td>0.049454</td>\n",
              "      <td>0.104345</td>\n",
              "      <td>0.000613</td>\n",
              "      <td>0.078746</td>\n",
              "      <td>0.000025</td>\n",
              "      <td>5.417238e-03</td>\n",
              "      <td>0.016926</td>\n",
              "      <td>0.000522</td>\n",
              "      <td>0.008929</td>\n",
              "      <td>1.289418e-03</td>\n",
              "      <td>0.004755</td>\n",
              "      <td>7.168115e-05</td>\n",
              "      <td>5.362349e-04</td>\n",
              "      <td>1.005875e-05</td>\n",
              "      <td>0.000016</td>\n",
              "      <td>0.000022</td>\n",
              "      <td>0.004715</td>\n",
              "      <td>0.000300</td>\n",
              "      <td>0.046137</td>\n",
              "    </tr>\n",
              "    <tr>\n",
              "      <th>3</th>\n",
              "      <td>3128</td>\n",
              "      <td>0.000058</td>\n",
              "      <td>0.000009</td>\n",
              "      <td>1.191381e-04</td>\n",
              "      <td>0.000071</td>\n",
              "      <td>0.000002</td>\n",
              "      <td>0.000189</td>\n",
              "      <td>0.000013</td>\n",
              "      <td>0.001359</td>\n",
              "      <td>0.000097</td>\n",
              "      <td>0.000007</td>\n",
              "      <td>0.000093</td>\n",
              "      <td>0.000045</td>\n",
              "      <td>0.000009</td>\n",
              "      <td>0.000006</td>\n",
              "      <td>1.056316e-05</td>\n",
              "      <td>0.000077</td>\n",
              "      <td>0.000001</td>\n",
              "      <td>0.000001</td>\n",
              "      <td>0.000011</td>\n",
              "      <td>0.000015</td>\n",
              "      <td>2.905080e-05</td>\n",
              "      <td>1.826855e-05</td>\n",
              "      <td>0.000226</td>\n",
              "      <td>0.001106</td>\n",
              "      <td>0.000099</td>\n",
              "      <td>0.000043</td>\n",
              "      <td>0.953906</td>\n",
              "      <td>1.877368e-05</td>\n",
              "      <td>0.000092</td>\n",
              "      <td>0.000184</td>\n",
              "      <td>0.000002</td>\n",
              "      <td>5.384193e-07</td>\n",
              "      <td>0.013274</td>\n",
              "      <td>0.000068</td>\n",
              "      <td>0.000009</td>\n",
              "      <td>0.000105</td>\n",
              "      <td>0.000045</td>\n",
              "      <td>0.000023</td>\n",
              "      <td>0.000152</td>\n",
              "      <td>0.000020</td>\n",
              "      <td>0.000087</td>\n",
              "      <td>0.000030</td>\n",
              "      <td>0.000060</td>\n",
              "      <td>0.000249</td>\n",
              "      <td>0.000140</td>\n",
              "      <td>0.000055</td>\n",
              "      <td>0.000014</td>\n",
              "      <td>2.842437e-05</td>\n",
              "      <td>0.004239</td>\n",
              "      <td>0.018863</td>\n",
              "      <td>0.000035</td>\n",
              "      <td>2.435880e-05</td>\n",
              "      <td>0.000008</td>\n",
              "      <td>5.359575e-06</td>\n",
              "      <td>1.680417e-05</td>\n",
              "      <td>2.810935e-05</td>\n",
              "      <td>0.000022</td>\n",
              "      <td>0.000210</td>\n",
              "      <td>0.000043</td>\n",
              "      <td>0.000025</td>\n",
              "      <td>0.004202</td>\n",
              "    </tr>\n",
              "    <tr>\n",
              "      <th>4</th>\n",
              "      <td>3129</td>\n",
              "      <td>0.012303</td>\n",
              "      <td>0.000100</td>\n",
              "      <td>2.353196e-07</td>\n",
              "      <td>0.000452</td>\n",
              "      <td>0.000269</td>\n",
              "      <td>0.000052</td>\n",
              "      <td>0.000005</td>\n",
              "      <td>0.000007</td>\n",
              "      <td>0.000013</td>\n",
              "      <td>0.000001</td>\n",
              "      <td>0.000005</td>\n",
              "      <td>0.000023</td>\n",
              "      <td>0.000002</td>\n",
              "      <td>0.000006</td>\n",
              "      <td>5.345769e-07</td>\n",
              "      <td>0.000040</td>\n",
              "      <td>0.000004</td>\n",
              "      <td>0.000066</td>\n",
              "      <td>0.000227</td>\n",
              "      <td>0.000005</td>\n",
              "      <td>7.012329e-07</td>\n",
              "      <td>4.301604e-07</td>\n",
              "      <td>0.000187</td>\n",
              "      <td>0.000029</td>\n",
              "      <td>0.000171</td>\n",
              "      <td>0.000278</td>\n",
              "      <td>0.982874</td>\n",
              "      <td>2.383607e-07</td>\n",
              "      <td>0.000003</td>\n",
              "      <td>0.000007</td>\n",
              "      <td>0.000001</td>\n",
              "      <td>8.383294e-07</td>\n",
              "      <td>0.000033</td>\n",
              "      <td>0.000034</td>\n",
              "      <td>0.000032</td>\n",
              "      <td>0.000003</td>\n",
              "      <td>0.000007</td>\n",
              "      <td>0.000004</td>\n",
              "      <td>0.000031</td>\n",
              "      <td>0.000004</td>\n",
              "      <td>0.000004</td>\n",
              "      <td>0.000860</td>\n",
              "      <td>0.000138</td>\n",
              "      <td>0.000039</td>\n",
              "      <td>0.000004</td>\n",
              "      <td>0.000029</td>\n",
              "      <td>0.000013</td>\n",
              "      <td>4.359752e-07</td>\n",
              "      <td>0.000052</td>\n",
              "      <td>0.000314</td>\n",
              "      <td>0.000130</td>\n",
              "      <td>9.598443e-08</td>\n",
              "      <td>0.000002</td>\n",
              "      <td>6.931358e-07</td>\n",
              "      <td>6.351819e-07</td>\n",
              "      <td>7.954644e-07</td>\n",
              "      <td>0.000044</td>\n",
              "      <td>0.000098</td>\n",
              "      <td>0.000009</td>\n",
              "      <td>0.000917</td>\n",
              "      <td>0.000063</td>\n",
              "    </tr>\n",
              "  </tbody>\n",
              "</table>\n",
              "</div>"
            ],
            "text/plain": [
              "     id         0         1  ...        58        59        60\n",
              "0  3125  0.000047  0.006766  ...  0.019107  0.000016  0.000069\n",
              "1  3126  0.000287  0.000031  ...  0.000003  0.000005  0.000080\n",
              "2  3127  0.000098  0.000379  ...  0.004715  0.000300  0.046137\n",
              "3  3128  0.000058  0.000009  ...  0.000043  0.000025  0.004202\n",
              "4  3129  0.012303  0.000100  ...  0.000009  0.000917  0.000063\n",
              "\n",
              "[5 rows x 62 columns]"
            ]
          },
          "metadata": {
            "tags": []
          },
          "execution_count": 22
        }
      ]
    },
    {
      "cell_type": "code",
      "metadata": {
        "id": "qR8gNeHnuGbb"
      },
      "source": [
        ""
      ],
      "execution_count": null,
      "outputs": []
    }
  ]
}