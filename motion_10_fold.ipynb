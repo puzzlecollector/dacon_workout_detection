{
 "cells": [
  {
   "cell_type": "markdown",
   "metadata": {},
   "source": [
    "This notebook shows an example training process for a bi-directional GRU network using augmented dataset (shifting time series data) "
   ]
  },
  {
   "cell_type": "code",
   "execution_count": 1,
   "metadata": {},
   "outputs": [],
   "source": [
    "import glob\n",
    "import pandas as pd\n",
    "from tensorflow import keras\n",
    "import numpy as np\n",
    "import os \n",
    "from sklearn.model_selection import StratifiedKFold\n",
    "import matplotlib.pylab as plt\n",
    "from tqdm import tqdm\n",
    "import tensorflow as tf\n",
    "import re \n",
    "import keras\n",
    "from tensorflow.keras.layers import Input, TimeDistributed, GRU, Conv2D, Conv2DTranspose, MaxPooling2D, AveragePooling2D, BatchNormalization, concatenate, ConvLSTM2D, Reshape, Conv3D, Flatten, LSTM, Dense, Dropout, Add\n",
    "from tensorflow.keras.layers import Embedding, GlobalAveragePooling1D, Bidirectional, Conv1D, MaxPooling1D, GlobalMaxPooling1D, GlobalMaxPool1D, Attention\n",
    "from tensorflow.keras.models import Model, load_model\n",
    "from tensorflow.keras.callbacks import ModelCheckpoint, EarlyStopping, ReduceLROnPlateau, LearningRateScheduler\n",
    "from tensorflow.keras.models import Sequential, load_model, save_model\n",
    "from sklearn.utils import shuffle\n",
    "from tensorflow.keras.preprocessing.sequence import pad_sequences \n",
    "from tensorflow.keras.preprocessing.text import Tokenizer \n",
    "from tensorflow.keras import regularizers\n",
    "from tensorflow.keras.optimizers import Adam\n",
    "from sklearn.model_selection import train_test_split, KFold, StratifiedKFold\n",
    "import random \n",
    "import time"
   ]
  },
  {
   "cell_type": "code",
   "execution_count": 2,
   "metadata": {},
   "outputs": [],
   "source": [
    "train = pd.read_csv('motion_detect/train_features.csv') \n",
    "train_labels = pd.read_csv('motion_detect/train_labels.csv') \n",
    "test = pd.read_csv('motion_detect/test_features.csv') \n",
    "submission = pd.read_csv('motion_detect/sample_submission.csv')"
   ]
  },
  {
   "cell_type": "code",
   "execution_count": 3,
   "metadata": {},
   "outputs": [
    {
     "data": {
      "text/plain": [
       "(3125, 600, 6)"
      ]
     },
     "execution_count": 3,
     "metadata": {},
     "output_type": "execute_result"
    }
   ],
   "source": [
    "X = tf.reshape(np.array(train.iloc[:,2:]), [-1,600,6]) \n",
    "X = np.asarray(X) \n",
    "X.shape"
   ]
  },
  {
   "cell_type": "code",
   "execution_count": 4,
   "metadata": {},
   "outputs": [
    {
     "data": {
      "text/plain": [
       "(3125,)"
      ]
     },
     "execution_count": 4,
     "metadata": {},
     "output_type": "execute_result"
    }
   ],
   "source": [
    "y = train_labels['label'].values \n",
    "y.shape "
   ]
  },
  {
   "cell_type": "markdown",
   "metadata": {},
   "source": [
    "## Model Train and prediction"
   ]
  },
  {
   "cell_type": "code",
   "execution_count": 5,
   "metadata": {},
   "outputs": [],
   "source": [
    "def build_model():  \n",
    "    inputs = Input(shape = (600,6)) \n",
    "    bn = BatchNormalization()(inputs)\n",
    "    bi_gru = Bidirectional(GRU(128, return_sequences = True))(bn) \n",
    "    dropout = Dropout(0.25)(bi_gru) \n",
    "    bi_gru = Bidirectional(GRU(128, return_sequences = False))(dropout) \n",
    "    dense = Dense(128, activation = 'relu')(bi_gru) \n",
    "    bn = BatchNormalization()(dense) \n",
    "    outputs = Dense(61, activation = 'softmax')(bn)   \n",
    "    model = Model(inputs = inputs, outputs = outputs) \n",
    "    model.compile(optimizer = 'adam', loss = 'sparse_categorical_crossentropy', metrics = ['accuracy']) \n",
    "    return model "
   ]
  },
  {
   "cell_type": "code",
   "execution_count": 6,
   "metadata": {},
   "outputs": [
    {
     "name": "stderr",
     "output_type": "stream",
     "text": [
      " 11%|█         | 270/2500 [00:00<00:00, 2694.61it/s]"
     ]
    },
    {
     "name": "stdout",
     "output_type": "stream",
     "text": [
      "... Validating on fold 1 ...\n",
      "... augmenting data ...\n"
     ]
    },
    {
     "name": "stderr",
     "output_type": "stream",
     "text": [
      "100%|██████████| 2500/2500 [00:00<00:00, 2623.48it/s]\n"
     ]
    },
    {
     "name": "stdout",
     "output_type": "stream",
     "text": [
      "... training ...\n",
      "Epoch 1/200\n",
      "215/215 [==============================] - 77s 195ms/step - loss: 3.7586 - accuracy: 0.2678 - val_loss: 2.6366 - val_accuracy: 0.4832\n",
      "\n",
      "Epoch 00001: val_loss improved from inf to 2.63664, saving model to motion_detect/kfold1/epoch_001_val_2.637.h5\n",
      "Epoch 2/200\n",
      "215/215 [==============================] - 31s 143ms/step - loss: 2.4971 - accuracy: 0.4838 - val_loss: 2.2431 - val_accuracy: 0.5072\n",
      "\n",
      "Epoch 00002: val_loss improved from 2.63664 to 2.24310, saving model to motion_detect/kfold1/epoch_002_val_2.243.h5\n",
      "Epoch 3/200\n",
      "215/215 [==============================] - 31s 146ms/step - loss: 2.0331 - accuracy: 0.5272 - val_loss: 1.7800 - val_accuracy: 0.5712\n",
      "\n",
      "Epoch 00003: val_loss improved from 2.24310 to 1.77998, saving model to motion_detect/kfold1/epoch_003_val_1.780.h5\n",
      "Epoch 4/200\n",
      "215/215 [==============================] - 34s 159ms/step - loss: 1.5980 - accuracy: 0.5793 - val_loss: 1.4607 - val_accuracy: 0.6144\n",
      "\n",
      "Epoch 00004: val_loss improved from 1.77998 to 1.46073, saving model to motion_detect/kfold1/epoch_004_val_1.461.h5\n",
      "Epoch 5/200\n",
      "215/215 [==============================] - 34s 156ms/step - loss: 1.2996 - accuracy: 0.6301 - val_loss: 1.2879 - val_accuracy: 0.6512\n",
      "\n",
      "Epoch 00005: val_loss improved from 1.46073 to 1.28788, saving model to motion_detect/kfold1/epoch_005_val_1.288.h5\n",
      "Epoch 6/200\n",
      "215/215 [==============================] - 32s 148ms/step - loss: 1.1130 - accuracy: 0.6733 - val_loss: 1.2215 - val_accuracy: 0.6656\n",
      "\n",
      "Epoch 00006: val_loss improved from 1.28788 to 1.22146, saving model to motion_detect/kfold1/epoch_006_val_1.221.h5\n",
      "Epoch 7/200\n",
      "215/215 [==============================] - 33s 154ms/step - loss: 0.9519 - accuracy: 0.7137 - val_loss: 1.3498 - val_accuracy: 0.6384\n",
      "\n",
      "Epoch 00007: val_loss did not improve from 1.22146\n",
      "Epoch 8/200\n",
      "215/215 [==============================] - 35s 161ms/step - loss: 0.8521 - accuracy: 0.7430 - val_loss: 1.1564 - val_accuracy: 0.7040\n",
      "\n",
      "Epoch 00008: val_loss improved from 1.22146 to 1.15637, saving model to motion_detect/kfold1/epoch_008_val_1.156.h5\n",
      "Epoch 9/200\n",
      "215/215 [==============================] - 31s 144ms/step - loss: 0.7083 - accuracy: 0.7783 - val_loss: 1.2182 - val_accuracy: 0.6784\n",
      "\n",
      "Epoch 00009: val_loss did not improve from 1.15637\n",
      "Epoch 10/200\n",
      "215/215 [==============================] - 30s 141ms/step - loss: 0.5878 - accuracy: 0.8203 - val_loss: 1.1822 - val_accuracy: 0.7040\n",
      "\n",
      "Epoch 00010: ReduceLROnPlateau reducing learning rate to 0.000800000037997961.\n",
      "\n",
      "Epoch 00010: val_loss did not improve from 1.15637\n",
      "Epoch 11/200\n",
      "215/215 [==============================] - 32s 150ms/step - loss: 0.4716 - accuracy: 0.8571 - val_loss: 1.1328 - val_accuracy: 0.7232\n",
      "\n",
      "Epoch 00011: val_loss improved from 1.15637 to 1.13280, saving model to motion_detect/kfold1/epoch_011_val_1.133.h5\n",
      "Epoch 12/200\n",
      "215/215 [==============================] - 30s 140ms/step - loss: 0.3884 - accuracy: 0.8824 - val_loss: 1.2260 - val_accuracy: 0.7216\n",
      "\n",
      "Epoch 00012: val_loss did not improve from 1.13280\n",
      "Epoch 13/200\n",
      "215/215 [==============================] - 35s 163ms/step - loss: 0.3458 - accuracy: 0.8920 - val_loss: 1.2076 - val_accuracy: 0.7216\n",
      "\n",
      "Epoch 00013: ReduceLROnPlateau reducing learning rate to 0.0006400000303983689.\n",
      "\n",
      "Epoch 00013: val_loss did not improve from 1.13280\n",
      "Epoch 14/200\n",
      "215/215 [==============================] - 33s 155ms/step - loss: 0.2705 - accuracy: 0.9189 - val_loss: 1.2363 - val_accuracy: 0.7056\n",
      "\n",
      "Epoch 00014: val_loss did not improve from 1.13280\n",
      "Epoch 15/200\n",
      "215/215 [==============================] - 33s 152ms/step - loss: 0.2373 - accuracy: 0.9280 - val_loss: 1.3093 - val_accuracy: 0.7008\n",
      "\n",
      "Epoch 00015: ReduceLROnPlateau reducing learning rate to 0.0005120000336319208.\n",
      "\n",
      "Epoch 00015: val_loss did not improve from 1.13280\n",
      "Epoch 16/200\n",
      "215/215 [==============================] - 31s 143ms/step - loss: 0.1980 - accuracy: 0.9433 - val_loss: 1.2598 - val_accuracy: 0.7184\n",
      "\n",
      "Epoch 00016: val_loss did not improve from 1.13280\n",
      "Epoch 17/200\n",
      "215/215 [==============================] - 31s 143ms/step - loss: 0.1580 - accuracy: 0.9588 - val_loss: 1.3002 - val_accuracy: 0.7232\n",
      "\n",
      "Epoch 00017: ReduceLROnPlateau reducing learning rate to 0.00040960004553198815.\n",
      "\n",
      "Epoch 00017: val_loss did not improve from 1.13280\n",
      "Epoch 18/200\n",
      "215/215 [==============================] - 33s 156ms/step - loss: 0.1337 - accuracy: 0.9646 - val_loss: 1.2885 - val_accuracy: 0.7104\n",
      "\n",
      "Epoch 00018: val_loss did not improve from 1.13280\n",
      "Epoch 19/200\n",
      "215/215 [==============================] - 34s 159ms/step - loss: 0.1164 - accuracy: 0.9694 - val_loss: 1.3111 - val_accuracy: 0.7200\n"
     ]
    },
    {
     "name": "stderr",
     "output_type": "stream",
     "text": [
      "\r",
      "  0%|          | 0/2500 [00:00<?, ?it/s]"
     ]
    },
    {
     "name": "stdout",
     "output_type": "stream",
     "text": [
      "\n",
      "Epoch 00019: ReduceLROnPlateau reducing learning rate to 0.00032768002711236477.\n",
      "\n",
      "Epoch 00019: val_loss did not improve from 1.13280\n",
      "... Validating on fold 2 ...\n",
      "... augmenting data ...\n"
     ]
    },
    {
     "name": "stderr",
     "output_type": "stream",
     "text": [
      "100%|██████████| 2500/2500 [00:01<00:00, 2345.24it/s]\n"
     ]
    },
    {
     "name": "stdout",
     "output_type": "stream",
     "text": [
      "... training ...\n",
      "Epoch 1/200\n",
      "215/215 [==============================] - 59s 196ms/step - loss: 3.7336 - accuracy: 0.2486 - val_loss: 2.7370 - val_accuracy: 0.4848\n",
      "\n",
      "Epoch 00001: val_loss improved from inf to 2.73700, saving model to motion_detect/kfold2/epoch_001_val_2.737.h5\n",
      "Epoch 2/200\n",
      "215/215 [==============================] - 34s 159ms/step - loss: 2.4754 - accuracy: 0.4906 - val_loss: 2.1427 - val_accuracy: 0.5296\n",
      "\n",
      "Epoch 00002: val_loss improved from 2.73700 to 2.14274, saving model to motion_detect/kfold2/epoch_002_val_2.143.h5\n",
      "Epoch 3/200\n",
      "215/215 [==============================] - 32s 148ms/step - loss: 1.8947 - accuracy: 0.5449 - val_loss: 1.6174 - val_accuracy: 0.5792\n",
      "\n",
      "Epoch 00003: val_loss improved from 2.14274 to 1.61744, saving model to motion_detect/kfold2/epoch_003_val_1.617.h5\n",
      "Epoch 4/200\n",
      "215/215 [==============================] - 33s 154ms/step - loss: 1.4493 - accuracy: 0.6049 - val_loss: 1.4108 - val_accuracy: 0.6192\n",
      "\n",
      "Epoch 00004: val_loss improved from 1.61744 to 1.41084, saving model to motion_detect/kfold2/epoch_004_val_1.411.h5\n",
      "Epoch 5/200\n",
      "215/215 [==============================] - 32s 147ms/step - loss: 1.1938 - accuracy: 0.6564 - val_loss: 1.2539 - val_accuracy: 0.6608\n",
      "\n",
      "Epoch 00005: val_loss improved from 1.41084 to 1.25392, saving model to motion_detect/kfold2/epoch_005_val_1.254.h5\n",
      "Epoch 6/200\n",
      "215/215 [==============================] - 34s 157ms/step - loss: 0.9873 - accuracy: 0.7079 - val_loss: 1.2207 - val_accuracy: 0.6672\n",
      "\n",
      "Epoch 00006: val_loss improved from 1.25392 to 1.22073, saving model to motion_detect/kfold2/epoch_006_val_1.221.h5\n",
      "Epoch 7/200\n",
      "215/215 [==============================] - 32s 147ms/step - loss: 0.8260 - accuracy: 0.7522 - val_loss: 1.1242 - val_accuracy: 0.6864\n",
      "\n",
      "Epoch 00007: val_loss improved from 1.22073 to 1.12419, saving model to motion_detect/kfold2/epoch_007_val_1.124.h5\n",
      "Epoch 8/200\n",
      "215/215 [==============================] - 33s 153ms/step - loss: 0.6870 - accuracy: 0.7850 - val_loss: 1.2124 - val_accuracy: 0.6976\n",
      "\n",
      "Epoch 00008: val_loss did not improve from 1.12419\n",
      "Epoch 9/200\n",
      "215/215 [==============================] - 30s 141ms/step - loss: 0.5476 - accuracy: 0.8288 - val_loss: 1.2007 - val_accuracy: 0.6976\n",
      "\n",
      "Epoch 00009: ReduceLROnPlateau reducing learning rate to 0.000800000037997961.\n",
      "\n",
      "Epoch 00009: val_loss did not improve from 1.12419\n",
      "Epoch 10/200\n",
      "215/215 [==============================] - 30s 141ms/step - loss: 0.4202 - accuracy: 0.8710 - val_loss: 1.1747 - val_accuracy: 0.7152\n",
      "\n",
      "Epoch 00010: val_loss did not improve from 1.12419\n",
      "Epoch 11/200\n",
      "215/215 [==============================] - 30s 141ms/step - loss: 0.3430 - accuracy: 0.8932 - val_loss: 1.1865 - val_accuracy: 0.7184\n",
      "\n",
      "Epoch 00011: ReduceLROnPlateau reducing learning rate to 0.0006400000303983689.\n",
      "\n",
      "Epoch 00011: val_loss did not improve from 1.12419\n",
      "Epoch 12/200\n",
      "215/215 [==============================] - 32s 148ms/step - loss: 0.2700 - accuracy: 0.9166 - val_loss: 1.2250 - val_accuracy: 0.7216\n",
      "\n",
      "Epoch 00012: val_loss did not improve from 1.12419\n",
      "Epoch 13/200\n",
      "215/215 [==============================] - 30s 142ms/step - loss: 0.2198 - accuracy: 0.9370 - val_loss: 1.2305 - val_accuracy: 0.7216\n",
      "\n",
      "Epoch 00013: ReduceLROnPlateau reducing learning rate to 0.0005120000336319208.\n",
      "\n",
      "Epoch 00013: val_loss did not improve from 1.12419\n",
      "Epoch 14/200\n",
      "215/215 [==============================] - 35s 162ms/step - loss: 0.1771 - accuracy: 0.9500 - val_loss: 1.3088 - val_accuracy: 0.7264\n",
      "\n",
      "Epoch 00014: val_loss did not improve from 1.12419\n",
      "Epoch 15/200\n",
      "215/215 [==============================] - 31s 142ms/step - loss: 0.1459 - accuracy: 0.9612 - val_loss: 1.3329 - val_accuracy: 0.7264\n"
     ]
    },
    {
     "name": "stderr",
     "output_type": "stream",
     "text": [
      " 13%|█▎        | 321/2500 [00:00<00:00, 3207.59it/s]"
     ]
    },
    {
     "name": "stdout",
     "output_type": "stream",
     "text": [
      "\n",
      "Epoch 00015: ReduceLROnPlateau reducing learning rate to 0.00040960004553198815.\n",
      "\n",
      "Epoch 00015: val_loss did not improve from 1.12419\n",
      "... Validating on fold 3 ...\n",
      "... augmenting data ...\n"
     ]
    },
    {
     "name": "stderr",
     "output_type": "stream",
     "text": [
      "100%|██████████| 2500/2500 [00:00<00:00, 2987.88it/s]\n"
     ]
    },
    {
     "name": "stdout",
     "output_type": "stream",
     "text": [
      "... training ...\n",
      "Epoch 1/200\n",
      "215/215 [==============================] - 56s 170ms/step - loss: 3.7460 - accuracy: 0.2455 - val_loss: 2.6846 - val_accuracy: 0.4944\n",
      "\n",
      "Epoch 00001: val_loss improved from inf to 2.68465, saving model to motion_detect/kfold3/epoch_001_val_2.685.h5\n",
      "Epoch 2/200\n",
      "215/215 [==============================] - 35s 164ms/step - loss: 2.4557 - accuracy: 0.4932 - val_loss: 2.3338 - val_accuracy: 0.5168\n",
      "\n",
      "Epoch 00002: val_loss improved from 2.68465 to 2.33377, saving model to motion_detect/kfold3/epoch_002_val_2.334.h5\n",
      "Epoch 3/200\n",
      "215/215 [==============================] - 34s 159ms/step - loss: 2.1107 - accuracy: 0.5184 - val_loss: 1.8807 - val_accuracy: 0.5488\n",
      "\n",
      "Epoch 00003: val_loss improved from 2.33377 to 1.88069, saving model to motion_detect/kfold3/epoch_003_val_1.881.h5\n",
      "Epoch 4/200\n",
      "215/215 [==============================] - 30s 140ms/step - loss: 1.5874 - accuracy: 0.5837 - val_loss: 1.6664 - val_accuracy: 0.5824\n",
      "\n",
      "Epoch 00004: val_loss improved from 1.88069 to 1.66642, saving model to motion_detect/kfold3/epoch_004_val_1.666.h5\n",
      "Epoch 5/200\n",
      "215/215 [==============================] - 31s 142ms/step - loss: 1.3144 - accuracy: 0.6301 - val_loss: 1.3839 - val_accuracy: 0.6432\n",
      "\n",
      "Epoch 00005: val_loss improved from 1.66642 to 1.38394, saving model to motion_detect/kfold3/epoch_005_val_1.384.h5\n",
      "Epoch 6/200\n",
      "215/215 [==============================] - 34s 160ms/step - loss: 1.1091 - accuracy: 0.6744 - val_loss: 1.2701 - val_accuracy: 0.6528\n",
      "\n",
      "Epoch 00006: val_loss improved from 1.38394 to 1.27008, saving model to motion_detect/kfold3/epoch_006_val_1.270.h5\n",
      "Epoch 7/200\n",
      "215/215 [==============================] - 35s 162ms/step - loss: 0.9070 - accuracy: 0.7279 - val_loss: 1.2014 - val_accuracy: 0.6944\n",
      "\n",
      "Epoch 00007: val_loss improved from 1.27008 to 1.20145, saving model to motion_detect/kfold3/epoch_007_val_1.201.h5\n",
      "Epoch 8/200\n",
      "215/215 [==============================] - 34s 158ms/step - loss: 0.7614 - accuracy: 0.7687 - val_loss: 1.1976 - val_accuracy: 0.6848\n",
      "\n",
      "Epoch 00008: val_loss improved from 1.20145 to 1.19759, saving model to motion_detect/kfold3/epoch_008_val_1.198.h5\n",
      "Epoch 9/200\n",
      "215/215 [==============================] - 32s 151ms/step - loss: 0.6151 - accuracy: 0.8084 - val_loss: 1.2232 - val_accuracy: 0.7056\n",
      "\n",
      "Epoch 00009: val_loss did not improve from 1.19759\n",
      "Epoch 10/200\n",
      "215/215 [==============================] - 33s 153ms/step - loss: 0.5086 - accuracy: 0.8433 - val_loss: 1.2692 - val_accuracy: 0.6992\n",
      "\n",
      "Epoch 00010: ReduceLROnPlateau reducing learning rate to 0.000800000037997961.\n",
      "\n",
      "Epoch 00010: val_loss did not improve from 1.19759\n",
      "Epoch 11/200\n",
      "215/215 [==============================] - 35s 162ms/step - loss: 0.3859 - accuracy: 0.8815 - val_loss: 1.2102 - val_accuracy: 0.7136\n",
      "\n",
      "Epoch 00011: val_loss did not improve from 1.19759\n",
      "Epoch 12/200\n",
      "215/215 [==============================] - 31s 145ms/step - loss: 0.3127 - accuracy: 0.9047 - val_loss: 1.2978 - val_accuracy: 0.7232\n",
      "\n",
      "Epoch 00012: ReduceLROnPlateau reducing learning rate to 0.0006400000303983689.\n",
      "\n",
      "Epoch 00012: val_loss did not improve from 1.19759\n",
      "Epoch 13/200\n",
      "215/215 [==============================] - 32s 150ms/step - loss: 0.2330 - accuracy: 0.9345 - val_loss: 1.3297 - val_accuracy: 0.6960\n",
      "\n",
      "Epoch 00013: val_loss did not improve from 1.19759\n",
      "Epoch 14/200\n",
      "215/215 [==============================] - 31s 144ms/step - loss: 0.1970 - accuracy: 0.9459 - val_loss: 1.3591 - val_accuracy: 0.6976\n",
      "\n",
      "Epoch 00014: ReduceLROnPlateau reducing learning rate to 0.0005120000336319208.\n",
      "\n",
      "Epoch 00014: val_loss did not improve from 1.19759\n",
      "Epoch 15/200\n",
      "215/215 [==============================] - 34s 159ms/step - loss: 0.1538 - accuracy: 0.9576 - val_loss: 1.3498 - val_accuracy: 0.7008\n",
      "\n",
      "Epoch 00015: val_loss did not improve from 1.19759\n",
      "Epoch 16/200\n",
      "215/215 [==============================] - 31s 144ms/step - loss: 0.1341 - accuracy: 0.9616 - val_loss: 1.3879 - val_accuracy: 0.7248\n"
     ]
    },
    {
     "name": "stderr",
     "output_type": "stream",
     "text": [
      " 12%|█▏        | 299/2500 [00:00<00:00, 2984.92it/s]"
     ]
    },
    {
     "name": "stdout",
     "output_type": "stream",
     "text": [
      "\n",
      "Epoch 00016: ReduceLROnPlateau reducing learning rate to 0.00040960004553198815.\n",
      "\n",
      "Epoch 00016: val_loss did not improve from 1.19759\n",
      "... Validating on fold 4 ...\n",
      "... augmenting data ...\n"
     ]
    },
    {
     "name": "stderr",
     "output_type": "stream",
     "text": [
      "100%|██████████| 2500/2500 [00:00<00:00, 3316.51it/s]\n"
     ]
    },
    {
     "name": "stdout",
     "output_type": "stream",
     "text": [
      "... training ...\n",
      "Epoch 1/200\n",
      "215/215 [==============================] - 55s 181ms/step - loss: 3.7712 - accuracy: 0.2663 - val_loss: 2.7722 - val_accuracy: 0.4864\n",
      "\n",
      "Epoch 00001: val_loss improved from inf to 2.77216, saving model to motion_detect/kfold4/epoch_001_val_2.772.h5\n",
      "Epoch 2/200\n",
      "215/215 [==============================] - 31s 146ms/step - loss: 2.5094 - accuracy: 0.4921 - val_loss: 2.5428 - val_accuracy: 0.4800\n",
      "\n",
      "Epoch 00002: val_loss improved from 2.77216 to 2.54284, saving model to motion_detect/kfold4/epoch_002_val_2.543.h5\n",
      "Epoch 3/200\n",
      "215/215 [==============================] - 33s 151ms/step - loss: 2.2342 - accuracy: 0.5070 - val_loss: 1.8568 - val_accuracy: 0.5488\n",
      "\n",
      "Epoch 00003: val_loss improved from 2.54284 to 1.85684, saving model to motion_detect/kfold4/epoch_003_val_1.857.h5\n",
      "Epoch 4/200\n",
      "215/215 [==============================] - 31s 144ms/step - loss: 1.6421 - accuracy: 0.5735 - val_loss: 1.5008 - val_accuracy: 0.5856\n",
      "\n",
      "Epoch 00004: val_loss improved from 1.85684 to 1.50082, saving model to motion_detect/kfold4/epoch_004_val_1.501.h5\n",
      "Epoch 5/200\n",
      "215/215 [==============================] - 35s 163ms/step - loss: 1.3343 - accuracy: 0.6278 - val_loss: 1.2958 - val_accuracy: 0.6352\n",
      "\n",
      "Epoch 00005: val_loss improved from 1.50082 to 1.29580, saving model to motion_detect/kfold4/epoch_005_val_1.296.h5\n",
      "Epoch 6/200\n",
      "215/215 [==============================] - 34s 157ms/step - loss: 1.1009 - accuracy: 0.6767 - val_loss: 1.2793 - val_accuracy: 0.6368\n",
      "\n",
      "Epoch 00006: val_loss improved from 1.29580 to 1.27927, saving model to motion_detect/kfold4/epoch_006_val_1.279.h5\n",
      "Epoch 7/200\n",
      "215/215 [==============================] - 32s 149ms/step - loss: 0.9567 - accuracy: 0.7095 - val_loss: 1.1637 - val_accuracy: 0.6992\n",
      "\n",
      "Epoch 00007: val_loss improved from 1.27927 to 1.16367, saving model to motion_detect/kfold4/epoch_007_val_1.164.h5\n",
      "Epoch 8/200\n",
      "215/215 [==============================] - 36s 168ms/step - loss: 0.7489 - accuracy: 0.7677 - val_loss: 1.1933 - val_accuracy: 0.6864\n",
      "\n",
      "Epoch 00008: val_loss did not improve from 1.16367\n",
      "Epoch 9/200\n",
      "215/215 [==============================] - 32s 148ms/step - loss: 0.6243 - accuracy: 0.8060 - val_loss: 1.1362 - val_accuracy: 0.7072\n",
      "\n",
      "Epoch 00009: val_loss improved from 1.16367 to 1.13621, saving model to motion_detect/kfold4/epoch_009_val_1.136.h5\n",
      "Epoch 10/200\n",
      "215/215 [==============================] - 31s 143ms/step - loss: 0.4791 - accuracy: 0.8530 - val_loss: 1.1768 - val_accuracy: 0.7168\n",
      "\n",
      "Epoch 00010: val_loss did not improve from 1.13621\n",
      "Epoch 11/200\n",
      "215/215 [==============================] - 31s 145ms/step - loss: 0.3821 - accuracy: 0.8821 - val_loss: 1.1932 - val_accuracy: 0.7136\n",
      "\n",
      "Epoch 00011: ReduceLROnPlateau reducing learning rate to 0.000800000037997961.\n",
      "\n",
      "Epoch 00011: val_loss did not improve from 1.13621\n",
      "Epoch 12/200\n",
      "215/215 [==============================] - 31s 143ms/step - loss: 0.2765 - accuracy: 0.9194 - val_loss: 1.2086 - val_accuracy: 0.6992\n",
      "\n",
      "Epoch 00012: val_loss did not improve from 1.13621\n",
      "Epoch 13/200\n",
      "215/215 [==============================] - 33s 152ms/step - loss: 0.2209 - accuracy: 0.9357 - val_loss: 1.2757 - val_accuracy: 0.7056\n",
      "\n",
      "Epoch 00013: ReduceLROnPlateau reducing learning rate to 0.0006400000303983689.\n",
      "\n",
      "Epoch 00013: val_loss did not improve from 1.13621\n",
      "Epoch 14/200\n",
      "215/215 [==============================] - 32s 147ms/step - loss: 0.1759 - accuracy: 0.9516 - val_loss: 1.3075 - val_accuracy: 0.7248\n",
      "\n",
      "Epoch 00014: val_loss did not improve from 1.13621\n",
      "Epoch 15/200\n",
      "215/215 [==============================] - 32s 149ms/step - loss: 0.1434 - accuracy: 0.9599 - val_loss: 1.2823 - val_accuracy: 0.7312\n",
      "\n",
      "Epoch 00015: ReduceLROnPlateau reducing learning rate to 0.0005120000336319208.\n",
      "\n",
      "Epoch 00015: val_loss did not improve from 1.13621\n",
      "Epoch 16/200\n",
      "215/215 [==============================] - 35s 161ms/step - loss: 0.1101 - accuracy: 0.9719 - val_loss: 1.3135 - val_accuracy: 0.7200\n",
      "\n",
      "Epoch 00016: val_loss did not improve from 1.13621\n",
      "Epoch 17/200\n",
      "215/215 [==============================] - 31s 143ms/step - loss: 0.0929 - accuracy: 0.9763 - val_loss: 1.4650 - val_accuracy: 0.7120\n"
     ]
    },
    {
     "name": "stderr",
     "output_type": "stream",
     "text": [
      " 12%|█▏        | 296/2500 [00:00<00:00, 2955.63it/s]"
     ]
    },
    {
     "name": "stdout",
     "output_type": "stream",
     "text": [
      "\n",
      "Epoch 00017: ReduceLROnPlateau reducing learning rate to 0.00040960004553198815.\n",
      "\n",
      "Epoch 00017: val_loss did not improve from 1.13621\n",
      "... Validating on fold 5 ...\n",
      "... augmenting data ...\n"
     ]
    },
    {
     "name": "stderr",
     "output_type": "stream",
     "text": [
      "100%|██████████| 2500/2500 [00:00<00:00, 3366.10it/s]\n"
     ]
    },
    {
     "name": "stdout",
     "output_type": "stream",
     "text": [
      "... training ...\n",
      "Epoch 1/200\n",
      "215/215 [==============================] - 49s 199ms/step - loss: 3.7571 - accuracy: 0.2335 - val_loss: 2.5622 - val_accuracy: 0.4880\n",
      "\n",
      "Epoch 00001: val_loss improved from inf to 2.56215, saving model to motion_detect/kfold5/epoch_001_val_2.562.h5\n",
      "Epoch 2/200\n",
      "215/215 [==============================] - 34s 160ms/step - loss: 2.4946 - accuracy: 0.4884 - val_loss: 2.4525 - val_accuracy: 0.5008\n",
      "\n",
      "Epoch 00002: val_loss improved from 2.56215 to 2.45252, saving model to motion_detect/kfold5/epoch_002_val_2.453.h5\n",
      "Epoch 3/200\n",
      "215/215 [==============================] - 31s 142ms/step - loss: 2.1793 - accuracy: 0.5167 - val_loss: 1.9368 - val_accuracy: 0.5568\n",
      "\n",
      "Epoch 00003: val_loss improved from 2.45252 to 1.93683, saving model to motion_detect/kfold5/epoch_003_val_1.937.h5\n",
      "Epoch 4/200\n",
      "215/215 [==============================] - 33s 155ms/step - loss: 1.7010 - accuracy: 0.5615 - val_loss: 1.7150 - val_accuracy: 0.5728\n",
      "\n",
      "Epoch 00004: val_loss improved from 1.93683 to 1.71500, saving model to motion_detect/kfold5/epoch_004_val_1.715.h5\n",
      "Epoch 5/200\n",
      "215/215 [==============================] - 31s 146ms/step - loss: 1.3897 - accuracy: 0.6146 - val_loss: 1.5030 - val_accuracy: 0.6080\n",
      "\n",
      "Epoch 00005: val_loss improved from 1.71500 to 1.50300, saving model to motion_detect/kfold5/epoch_005_val_1.503.h5\n",
      "Epoch 6/200\n",
      "215/215 [==============================] - 32s 149ms/step - loss: 1.1829 - accuracy: 0.6483 - val_loss: 1.4494 - val_accuracy: 0.6224\n",
      "\n",
      "Epoch 00006: val_loss improved from 1.50300 to 1.44938, saving model to motion_detect/kfold5/epoch_006_val_1.449.h5\n",
      "Epoch 7/200\n",
      "215/215 [==============================] - 31s 143ms/step - loss: 1.0083 - accuracy: 0.6922 - val_loss: 1.3271 - val_accuracy: 0.6480\n",
      "\n",
      "Epoch 00007: val_loss improved from 1.44938 to 1.32710, saving model to motion_detect/kfold5/epoch_007_val_1.327.h5\n",
      "Epoch 8/200\n",
      "215/215 [==============================] - 31s 143ms/step - loss: 0.8430 - accuracy: 0.7428 - val_loss: 1.3007 - val_accuracy: 0.6752\n",
      "\n",
      "Epoch 00008: val_loss improved from 1.32710 to 1.30067, saving model to motion_detect/kfold5/epoch_008_val_1.301.h5\n",
      "Epoch 9/200\n",
      "215/215 [==============================] - 33s 154ms/step - loss: 0.7465 - accuracy: 0.7672 - val_loss: 1.3012 - val_accuracy: 0.6672\n",
      "\n",
      "Epoch 00009: val_loss did not improve from 1.30067\n",
      "Epoch 10/200\n",
      "215/215 [==============================] - 32s 147ms/step - loss: 0.5984 - accuracy: 0.8111 - val_loss: 1.2414 - val_accuracy: 0.7024\n",
      "\n",
      "Epoch 00010: val_loss improved from 1.30067 to 1.24137, saving model to motion_detect/kfold5/epoch_010_val_1.241.h5\n",
      "Epoch 11/200\n",
      "215/215 [==============================] - 36s 168ms/step - loss: 0.4911 - accuracy: 0.8449 - val_loss: 1.2981 - val_accuracy: 0.6768\n",
      "\n",
      "Epoch 00011: val_loss did not improve from 1.24137\n",
      "Epoch 12/200\n",
      "215/215 [==============================] - 31s 143ms/step - loss: 0.4298 - accuracy: 0.8648 - val_loss: 1.3196 - val_accuracy: 0.6928\n",
      "\n",
      "Epoch 00012: ReduceLROnPlateau reducing learning rate to 0.000800000037997961.\n",
      "\n",
      "Epoch 00012: val_loss did not improve from 1.24137\n",
      "Epoch 13/200\n",
      "215/215 [==============================] - 32s 151ms/step - loss: 0.3335 - accuracy: 0.8950 - val_loss: 1.2931 - val_accuracy: 0.7120\n",
      "\n",
      "Epoch 00013: val_loss did not improve from 1.24137\n",
      "Epoch 14/200\n",
      "215/215 [==============================] - 33s 156ms/step - loss: 0.2593 - accuracy: 0.9192 - val_loss: 1.4472 - val_accuracy: 0.6960\n",
      "\n",
      "Epoch 00014: ReduceLROnPlateau reducing learning rate to 0.0006400000303983689.\n",
      "\n",
      "Epoch 00014: val_loss did not improve from 1.24137\n",
      "Epoch 15/200\n",
      "215/215 [==============================] - 32s 150ms/step - loss: 0.1920 - accuracy: 0.9425 - val_loss: 1.4581 - val_accuracy: 0.7008\n",
      "\n",
      "Epoch 00015: val_loss did not improve from 1.24137\n",
      "Epoch 16/200\n",
      "215/215 [==============================] - 32s 150ms/step - loss: 0.1697 - accuracy: 0.9503 - val_loss: 1.4314 - val_accuracy: 0.7136\n",
      "\n",
      "Epoch 00016: ReduceLROnPlateau reducing learning rate to 0.0005120000336319208.\n",
      "\n",
      "Epoch 00016: val_loss did not improve from 1.24137\n",
      "Epoch 17/200\n",
      "215/215 [==============================] - 34s 156ms/step - loss: 0.1315 - accuracy: 0.9646 - val_loss: 1.5518 - val_accuracy: 0.7232\n",
      "\n",
      "Epoch 00017: val_loss did not improve from 1.24137\n",
      "Epoch 18/200\n",
      "215/215 [==============================] - 34s 158ms/step - loss: 0.1080 - accuracy: 0.9716 - val_loss: 1.5546 - val_accuracy: 0.7072\n",
      "\n",
      "Epoch 00018: ReduceLROnPlateau reducing learning rate to 0.00040960004553198815.\n",
      "\n",
      "Epoch 00018: val_loss did not improve from 1.24137\n"
     ]
    }
   ],
   "source": [
    "kfold = StratifiedKFold(n_splits = 5, random_state = 960418, shuffle = True)\n",
    "for idx,(train_idx, val_idx) in enumerate(kfold.split(X,y)):\n",
    "    print(\"... Validating on fold {} ...\".format(idx+1)) \n",
    "    X_train, X_val = X[train_idx], X[val_idx]\n",
    "    y_train, y_val = y[train_idx], y[val_idx] \n",
    "    \n",
    "    ##### augment data #####\n",
    "    print(\"... augmenting data ...\")\n",
    "    X_augmented = [] \n",
    "    y_augmented = [] \n",
    "    for i in tqdm(range(X_train.shape[0])): \n",
    "        for j in range(10): \n",
    "            shifted = np.roll(X_train[i], int(random.random() * 600)) \n",
    "            X_augmented.append(shifted) \n",
    "            y_augmented.append(y_train[i]) \n",
    "    X_augmented = np.asarray(X_augmented) \n",
    "    y_augmented = np.asarray(y_augmented)\n",
    "    X_train = np.concatenate([X_train, X_augmented]) \n",
    "    y_train = np.concatenate([y_train, y_augmented]) \n",
    "    \n",
    "    ##### train model #####  \n",
    "    print(\"... training ...\") \n",
    "    model = build_model() \n",
    "    model_path = 'motion_detect/kfold' + str(idx+1) + '/epoch_{epoch:03d}_val_{val_loss:.3f}.h5'\n",
    "    learning_rate_reduction = ReduceLROnPlateau(monitor = 'val_loss', patience = 2, verbose = 1, factor = 0.8)\n",
    "    checkpoint = ModelCheckpoint(filepath = model_path, monitor = 'val_loss', verbose = 1, save_best_only = True)\n",
    "    early_stopping = EarlyStopping(monitor = 'val_loss', patience = 8) \n",
    "\n",
    "    model.fit(X_train,\n",
    "              y_train,\n",
    "              epochs=200,\n",
    "              batch_size = 128,\n",
    "              validation_data = (X_val, y_val),\n",
    "              callbacks = [learning_rate_reduction, checkpoint, early_stopping])"
   ]
  },
  {
   "cell_type": "markdown",
   "metadata": {},
   "source": [
    "## Create submission file "
   ]
  },
  {
   "cell_type": "code",
   "execution_count": 8,
   "metadata": {},
   "outputs": [],
   "source": [
    "gru1 = load_model('motion_detect/kfold1/epoch_011_val_1.133.h5')\n",
    "gru2 = load_model('motion_detect/kfold2/epoch_007_val_1.124.h5') \n",
    "gru3 = load_model('motion_detect/kfold3/epoch_008_val_1.198.h5')  \n",
    "gru4 = load_model('motion_detect/kfold4/epoch_009_val_1.136.h5') \n",
    "gru5 = load_model('motion_detect/kfold5/epoch_010_val_1.241.h5')"
   ]
  },
  {
   "cell_type": "code",
   "execution_count": 9,
   "metadata": {},
   "outputs": [
    {
     "data": {
      "text/plain": [
       "(782, 600, 6)"
      ]
     },
     "execution_count": 9,
     "metadata": {},
     "output_type": "execute_result"
    }
   ],
   "source": [
    "test_X = tf.reshape(np.array(test.iloc[:,2:]),[-1, 600, 6])\n",
    "test_X = np.asarray(test_X)\n",
    "test_X.shape"
   ]
  },
  {
   "cell_type": "code",
   "execution_count": 10,
   "metadata": {},
   "outputs": [],
   "source": [
    "pred1 = gru1.predict(test_X) \n",
    "pred2 = gru2.predict(test_X)\n",
    "pred3 = gru3.predict(test_X) \n",
    "pred4 = gru4.predict(test_X) \n",
    "pred5 = gru5.predict(test_X) "
   ]
  },
  {
   "cell_type": "code",
   "execution_count": 12,
   "metadata": {},
   "outputs": [],
   "source": [
    "pred_avg = (pred1 + pred2 + pred3 + pred4 + pred5)/5.0 "
   ]
  },
  {
   "cell_type": "code",
   "execution_count": 13,
   "metadata": {},
   "outputs": [],
   "source": [
    "submission.iloc[:,1:] = pred_avg "
   ]
  },
  {
   "cell_type": "code",
   "execution_count": 14,
   "metadata": {},
   "outputs": [],
   "source": [
    "submission.to_csv('motion_detect/bi_gru_5_fold.csv',index=False)"
   ]
  },
  {
   "cell_type": "code",
   "execution_count": null,
   "metadata": {},
   "outputs": [],
   "source": []
  }
 ],
 "metadata": {
  "kernelspec": {
   "display_name": "Python 3",
   "language": "python",
   "name": "python3"
  },
  "language_info": {
   "codemirror_mode": {
    "name": "ipython",
    "version": 3
   },
   "file_extension": ".py",
   "mimetype": "text/x-python",
   "name": "python",
   "nbconvert_exporter": "python",
   "pygments_lexer": "ipython3",
   "version": "3.6.10"
  }
 },
 "nbformat": 4,
 "nbformat_minor": 4
}
